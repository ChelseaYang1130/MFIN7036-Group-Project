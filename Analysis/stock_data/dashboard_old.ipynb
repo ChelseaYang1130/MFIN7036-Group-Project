{
 "cells": [
  {
   "cell_type": "code",
   "execution_count": null,
   "id": "a9ecafa6",
   "metadata": {},
   "outputs": [],
   "source": [
    "import pandas as pd\n",
    "import numpy as np"
   ]
  },
  {
   "cell_type": "code",
   "execution_count": 5,
   "id": "ad021259",
   "metadata": {},
   "outputs": [
    {
     "data": {
      "text/html": [
       "\n",
       "        <iframe\n",
       "            width=\"100%\"\n",
       "            height=\"650\"\n",
       "            src=\"http://127.0.0.1:8080/\"\n",
       "            frameborder=\"0\"\n",
       "            allowfullscreen\n",
       "            \n",
       "        ></iframe>\n",
       "        "
      ],
      "text/plain": [
       "<IPython.lib.display.IFrame at 0x1561d7fd0>"
      ]
     },
     "metadata": {},
     "output_type": "display_data"
    }
   ],
   "source": [
    "import dash\n",
    "import dash_core_components as dcc\n",
    "import dash_html_components as html\n",
    "from dash.dependencies import Input, Output\n",
    "import plotly.express as px\n",
    "from wordcloud import WordCloud\n",
    "import pandas as pd\n",
    "import numpy as np\n",
    "\n",
    "# Sample stock price data (replace with actual data)\n",
    "stock_data = pd.DataFrame({\n",
    "    'Date': pd.date_range(start='2022-01-01', periods=100, freq='D'),\n",
    "    'StockPrice': np.random.rand(100) * 100\n",
    "})\n",
    "\n",
    "# Sample text data for word cloud (replace with actual text data)\n",
    "text_data = \"Lorem ipsum dolor sit amet, consectetur adipiscing elit. Sed...\"\n",
    "\n",
    "# Sample topic-specific data (replace with actual data)\n",
    "topics = ['Topic A', 'Topic B', 'Topic C']\n",
    "topic_data = {\n",
    "    'Topic A': np.random.rand(100),\n",
    "    'Topic B': np.random.rand(100),\n",
    "    'Topic C': np.random.rand(100)\n",
    "}\n",
    "\n",
    "# Initialize the Dash app\n",
    "app = dash.Dash(__name__)\n",
    "\n",
    "# Define the app layout\n",
    "app.layout = html.Div([\n",
    "    html.H1(\"Data Dashboard\"),\n",
    "    \n",
    "    # Timeseries plot with stock prices\n",
    "    dcc.Graph(id='stock-price-plot'),\n",
    "    \n",
    "    # Word cloud\n",
    "    html.Div([\n",
    "        html.H3(\"Word Cloud\"),\n",
    "        dcc.Graph(id='word-cloud')\n",
    "    ]),\n",
    "    \n",
    "    # Dropdown for topic selection\n",
    "    html.Div([\n",
    "        html.H3(\"Select Topic\"),\n",
    "        dcc.Dropdown(\n",
    "            id='topic-dropdown',\n",
    "            options=[{'label': topic, 'value': topic} for topic in topics],\n",
    "            value=topics[0]\n",
    "        ),\n",
    "        dcc.Graph(id='topic-timeseries-plot')\n",
    "    ])\n",
    "])\n",
    "\n",
    "# Callback to update stock price plot\n",
    "@app.callback(\n",
    "    Output('stock-price-plot', 'figure'),\n",
    "    Input('stock-price-plot', 'relayoutData')\n",
    ")\n",
    "def update_stock_price_plot(relayoutData):\n",
    "    # Update stock price plot based on user interaction (if needed)\n",
    "    fig = px.line(stock_data, x='Date', y='StockPrice', title='Stock Prices Over Time')\n",
    "    return fig\n",
    "\n",
    "# Callback to update word cloud\n",
    "@app.callback(\n",
    "    Output('word-cloud', 'figure'),\n",
    "    Input('word-cloud', 'relayoutData')\n",
    ")\n",
    "def update_word_cloud(relayoutData):\n",
    "    # Generate word cloud\n",
    "    wordcloud = WordCloud(width=800, height=400).generate(text_data)\n",
    "    fig = px.imshow(wordcloud, title='Word Cloud')\n",
    "    fig.update_layout(coloraxis_showscale=False)\n",
    "    return fig\n",
    "\n",
    "# Callback to update topic-specific timeseries plot\n",
    "@app.callback(\n",
    "    Output('topic-timeseries-plot', 'figure'),\n",
    "    Input('topic-dropdown', 'value')\n",
    ")\n",
    "def update_topic_timeseries_plot(selected_topic):\n",
    "    # Update timeseries plot based on selected topic\n",
    "    topic_values = topic_data.get(selected_topic, [])\n",
    "    fig = px.line(x=stock_data['Date'], y=topic_values, title=f\"{selected_topic} Timeseries\")\n",
    "    return fig\n",
    "\n",
    "if __name__ == '__main__':\n",
    "    app.run_server(debug=True,port=8080)\n"
   ]
  },
  {
   "cell_type": "code",
   "execution_count": null,
   "id": "fbbd245f",
   "metadata": {},
   "outputs": [],
   "source": []
  }
 ],
 "metadata": {
  "kernelspec": {
   "display_name": "Python 3 (ipykernel)",
   "language": "python",
   "name": "python3"
  },
  "language_info": {
   "codemirror_mode": {
    "name": "ipython",
    "version": 3
   },
   "file_extension": ".py",
   "mimetype": "text/x-python",
   "name": "python",
   "nbconvert_exporter": "python",
   "pygments_lexer": "ipython3",
   "version": "3.11.5"
  }
 },
 "nbformat": 4,
 "nbformat_minor": 5
}
