{
 "cells": [
  {
   "cell_type": "code",
   "execution_count": 1,
   "id": "abf32add",
   "metadata": {},
   "outputs": [],
   "source": [
    "import pandas as pd\n",
    "import re\n",
    "\n",
    "import seaborn as sns\n",
    "import matplotlib.pyplot as plt\n",
    "import strip_markdown\n",
    "import warnings\n",
    "warnings.filterwarnings(\"ignore\")\n",
    "\n",
    "import pyarrow.parquet as pq\n"
   ]
  },
  {
   "cell_type": "markdown",
   "id": "510045b2",
   "metadata": {},
   "source": [
    "### Data preprocessing\n",
    "1. Filter comments that contains bot garbe massage. specifically filtering the markdown table format\n",
    "2. Remove markdown formating string\n",
    "3. Romove URL\n",
    "4. Remove returning line \"\\n\"\n",
    "5. Remove Emoji"
   ]
  },
  {
   "cell_type": "code",
   "execution_count": 4,
   "id": "c07e294e",
   "metadata": {},
   "outputs": [],
   "source": [
    "sample = pd.read_parquet('data_sample_3w.pq')\n",
    "sample = sample.rename(columns={'cbody':'Comment Body','title':'Post Title','selftext':'Post Selftxt'})\n",
    "sample = sample[~sample['Comment Body'].str.contains(':--|:--|:--|:--')] # filter comments containing table"
   ]
  },
  {
   "cell_type": "code",
   "execution_count": 5,
   "id": "3f15ecc4",
   "metadata": {},
   "outputs": [],
   "source": [
    "# def extract_text_from_link(link_text):\n",
    "#     \"\"\"\n",
    "#     Removes the link and extracts the text from a given link_text.\n",
    "#     \"\"\"\n",
    "#     # Match the link pattern (e.g., 'dot.com')\n",
    "#     pattern = r'\\[([^]]+)\\]\\([^)]+\\)'\n",
    "\n",
    "#     # Use re.sub() to replace the link with the extracted text\n",
    "#     extracted_text = re.sub(pattern, r'\\1', link_text)\n",
    "#     return extracted_text\n",
    "\n",
    "def remove_urls(text):\n",
    "    \"\"\"\n",
    "    Removes URLs from a given text string.\n",
    "    \"\"\"\n",
    "    return re.sub(r'http\\S+', '', text)\n",
    "\n",
    "# def remove_image_markdown_and_text(text):\n",
    "#     \"\"\"\n",
    "#     Removes the entire image markdown (e.g., !img) from the given text.\n",
    "#     \"\"\"\n",
    "#     pattern = r'!\\[.*?\\]\\(.*?\\)'\n",
    "#     cleaned_text = re.sub(pattern, '', text)\n",
    "#     return cleaned_text\n",
    "\n",
    "def remove_emoji(text):\n",
    "    emoji_pattern = re.compile(\"[\"\n",
    "                               u\"\\U0001F600-\\U0001F64F\"  # emoticons\n",
    "                               u\"\\U0001F300-\\U0001F5FF\"  # symbols & pictographs\n",
    "                               u\"\\U0001F680-\\U0001F6FF\"  # transport & map symbols\n",
    "                               u\"\\U0001F700-\\U0001F77F\"  # alchemical symbols\n",
    "                               u\"\\U0001F780-\\U0001F7FF\"  # Geometric Shapes Extended\n",
    "                               u\"\\U0001F800-\\U0001F8FF\"  # Supplemental Arrows-C\n",
    "                               u\"\\U0001F900-\\U0001F9FF\"  # Supplemental Symbols and Pictographs\n",
    "                               u\"\\U0001FA00-\\U0001FA6F\"  # Chess Symbols\n",
    "                               u\"\\U0001FA70-\\U0001FAFF\"  # Symbols and Pictographs Extended-A\n",
    "                               u\"\\U00002702-\\U000027B0\"  # dingbats\n",
    "                               u\"\\U000024C2-\\U0001F251\" \n",
    "                               \"]+\", flags=re.UNICODE)\n",
    "    return emoji_pattern.sub(r'', text)"
   ]
  },
  {
   "cell_type": "code",
   "execution_count": 6,
   "id": "3d802fa1",
   "metadata": {},
   "outputs": [],
   "source": [
    "# sample['Comment Body'] = sample['Comment Body'].apply(remove_image_markdown_and_text)\n",
    "# sample['Comment Body'] = sample['Comment Body'].apply(extract_text_from_link)\n",
    "\n",
    "sample['Comment Body'] = sample['Comment Body'].apply(strip_markdown.strip_markdown)  # clean all markdown format\n",
    "sample['Comment Body'] = sample['Comment Body'].apply(remove_urls) # remove urls\n",
    "sample['Comment Body'] = sample['Comment Body'].str.strip('\\n')\n",
    "\n",
    "# 去除emoji\n",
    "sample['Post Title'] = sample['Post Title'].apply(remove_emoji)\n",
    "sample['Post Selftxt'] = sample['Post Selftxt'].apply(remove_emoji)\n",
    "sample['Comment Body'] = sample['Comment Body'].apply(remove_emoji)\n",
    "sample[['Post Title','Post Selftxt','Comment Body']].to_excel('Demoji.xlsx')"
   ]
  },
  {
   "cell_type": "markdown",
   "id": "27da8e28",
   "metadata": {},
   "source": [
    "### Sentiment analysis\n",
    "\n",
    "1. Tokenize comments by LLM (Huggingface transformers)\n",
    "2. Use Loughran-McDonald Master Dictionary w/ Sentiment Word Lists (which specifically focus on financial wording) https://sraf.nd.edu/loughranmcdonald-master-dictionary/ to assign sentiment scores and extract positive/negative words."
   ]
  },
  {
   "cell_type": "code",
   "execution_count": 7,
   "id": "8b4e9ff8",
   "metadata": {},
   "outputs": [],
   "source": [
    "from pysentiment2_updated import LM # updated pysentiment2 with the lastest version of LM dictionary\n",
    "import torch\n",
    "from transformers import AutoTokenizer, AutoModelForCausalLM\n",
    "\n",
    "tokenizer = AutoTokenizer.from_pretrained(\"bert-base-uncased\")\n",
    "\n",
    "output = {'Positive cnt':[],'Negative cnt':[],'Polarity':[],'Subjectivity':[],'Positive words':[],'Negative words':[],'Tokenized':[]}\n",
    "def sentiment_analysis(text):\n",
    "    lm = LM()\n",
    "    tokens = tokenizer.tokenize(text)\n",
    "    score = lm.get_score(tokens)\n",
    "\n",
    "    return [score['Positive'],score['Negative'],score['Polarity'],score['Subjectivity'],score['Positive words'],score['Negative words'],tokens]"
   ]
  },
  {
   "cell_type": "code",
   "execution_count": 12,
   "id": "6f21bcfb",
   "metadata": {},
   "outputs": [
    {
     "name": "stdout",
     "output_type": "stream",
     "text": [
      "108.05680894851685\n"
     ]
    }
   ],
   "source": [
    "import time\n",
    "start = time.time()\n",
    "output = sample.head(500)['Comment Body'].apply(sentiment_analysis)\n",
    "output = pd.DataFrame(output)\n",
    "end=time.time()\n",
    "print(end-start)"
   ]
  },
  {
   "cell_type": "code",
   "execution_count": null,
   "id": "ece53b79",
   "metadata": {},
   "outputs": [],
   "source": [
    "def get_item(series,index):\n",
    "    return series[index]\n",
    "\n",
    "output = sample['Comment Body'].apply(sentiment_analysis)\n",
    "output = pd.DataFrame(output)\n",
    "\n",
    "sample['Positive cnt']=output['Comment Body'].apply(get_item, index=0)\n",
    "sample['Negative cnt'] = output['Comment Body'].apply(get_item, index=1)\n",
    "sample['Polarity'] = output['Comment Body'].apply(get_item, index=2)\n",
    "sample['Subjectivity'] = output['Comment Body'].apply(get_item, index=3)\n",
    "sample['Positive words'] = output['Comment Body'].apply(get_item, index=4)\n",
    "sample['Negative words'] = output['Comment Body'].apply(get_item, index=5)\n",
    "sample['Tokenized'] = output['Comment Body'].apply(get_item, index=6)"
   ]
  },
  {
   "cell_type": "code",
   "execution_count": null,
   "id": "15e9410a",
   "metadata": {},
   "outputs": [],
   "source": [
    "sample"
   ]
  },
  {
   "cell_type": "code",
   "execution_count": null,
   "id": "8a70af6d",
   "metadata": {},
   "outputs": [],
   "source": [
    "sns.histplot(sample['Polarity'], bins=20, kde=True)\n",
    "plt.xlabel(\"sentiment score of comment\")\n",
    "plt.ylabel(\"Frequency\")\n",
    "plt.title(\"Distribution of sentiment score\")\n",
    "plt.show()"
   ]
  },
  {
   "cell_type": "code",
   "execution_count": null,
   "id": "fa54c502",
   "metadata": {},
   "outputs": [],
   "source": [
    "sns.histplot(sample['Subjectivity'], bins=20, kde=True)\n",
    "plt.xlabel(\"subjectivity of comments\")\n",
    "plt.ylabel(\"Frequency\")\n",
    "plt.title(\"Distribution of subjectivity\")\n",
    "plt.show()"
   ]
  },
  {
   "cell_type": "code",
   "execution_count": null,
   "id": "eebc473a",
   "metadata": {},
   "outputs": [],
   "source": [
    "# plt.figure(figsize=(8, 6))\n",
    "# sns.scatterplot(x=\"Subjectivity\", y=\"Sentiment\", data=sample)\n",
    "# plt.xlabel(\"subjectivity\")\n",
    "# plt.ylabel(\"sentiment\")\n",
    "# plt.title(\"Scatter Plot: subjectivity vs. sentiment\")\n",
    "# plt.show()"
   ]
  },
  {
   "cell_type": "code",
   "execution_count": null,
   "id": "980fbe0c",
   "metadata": {},
   "outputs": [],
   "source": []
  },
  {
   "cell_type": "code",
   "execution_count": null,
   "id": "d0257a26",
   "metadata": {},
   "outputs": [],
   "source": []
  }
 ],
 "metadata": {
  "kernelspec": {
   "display_name": "Python 3 (ipykernel)",
   "language": "python",
   "name": "python3"
  },
  "language_info": {
   "codemirror_mode": {
    "name": "ipython",
    "version": 3
   },
   "file_extension": ".py",
   "mimetype": "text/x-python",
   "name": "python",
   "nbconvert_exporter": "python",
   "pygments_lexer": "ipython3",
   "version": "3.11.5"
  }
 },
 "nbformat": 4,
 "nbformat_minor": 5
}
