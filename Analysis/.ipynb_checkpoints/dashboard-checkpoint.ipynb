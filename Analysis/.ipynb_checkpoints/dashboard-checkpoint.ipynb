{
 "cells": [
  {
   "cell_type": "code",
   "execution_count": 1,
   "id": "a9ecafa6",
   "metadata": {},
   "outputs": [],
   "source": [
    "import pandas as pd\n",
    "import numpy as np\n",
    "import glob\n",
    "import os\n",
    "import pyarrow.parquet as pq\n",
    "import plotly.graph_objects as go"
   ]
  },
  {
   "cell_type": "code",
   "execution_count": 37,
   "id": "5fd99819",
   "metadata": {
    "scrolled": true
   },
   "outputs": [
    {
     "name": "stdout",
     "output_type": "stream",
     "text": [
      "output/HeatOutput/Subreddit/HeatData_NVDA.parquet\n",
      "output/HeatOutput/Subreddit/HeatData_bets_OpenAi.parquet\n"
     ]
    }
   ],
   "source": [
    "## heatindex Wallstreetbets_topic\n",
    "    \n",
    "products = ['ChatGPT', 'Google', 'NVDA', 'Sora', 'AMD', 'Gemini', 'Microsoft']\n",
    "companies = ['NVDA', 'OpenAi']"
   ]
  },
  {
   "cell_type": "code",
   "execution_count": 6,
   "id": "6dc81c7a",
   "metadata": {},
   "outputs": [],
   "source": [
    "text_data_ai= pq.read_table('data/bets_ai_search.pq').to_pandas()['cbody'][:1000].str.cat()\n",
    "text_data_nvda = pq.read_table('data/bets_nvda_search.pq').to_pandas()['cbody'][:1000].str.cat()"
   ]
  },
  {
   "cell_type": "code",
   "execution_count": 16,
   "id": "1e6d7b9d",
   "metadata": {},
   "outputs": [],
   "source": [
    "# Sample stock price data (replace with actual data)\n",
    "stock_data = pd.read_parquet(\"output/stock_price.parquet\")\n",
    "\n"
   ]
  },
  {
   "cell_type": "code",
   "execution_count": 20,
   "id": "8d4f2482",
   "metadata": {},
   "outputs": [
    {
     "data": {
      "text/html": [
       "<div>\n",
       "<style scoped>\n",
       "    .dataframe tbody tr th:only-of-type {\n",
       "        vertical-align: middle;\n",
       "    }\n",
       "\n",
       "    .dataframe tbody tr th {\n",
       "        vertical-align: top;\n",
       "    }\n",
       "\n",
       "    .dataframe thead th {\n",
       "        text-align: right;\n",
       "    }\n",
       "</style>\n",
       "<table border=\"1\" class=\"dataframe\">\n",
       "  <thead>\n",
       "    <tr style=\"text-align: right;\">\n",
       "      <th></th>\n",
       "      <th>id</th>\n",
       "      <th>Post Title</th>\n",
       "      <th>time</th>\n",
       "      <th>Positive cnt</th>\n",
       "      <th>Comment Body</th>\n",
       "      <th>cnum_replies</th>\n",
       "      <th>subreddit</th>\n",
       "      <th>topic</th>\n",
       "      <th>Negative cnt</th>\n",
       "      <th>Polarity</th>\n",
       "      <th>Subjectivity</th>\n",
       "      <th>Positive words</th>\n",
       "      <th>Negative words</th>\n",
       "      <th>Tokenized</th>\n",
       "    </tr>\n",
       "  </thead>\n",
       "  <tbody>\n",
       "    <tr>\n",
       "      <th>1</th>\n",
       "      <td>18dkkml</td>\n",
       "      <td>Google's best Gemini demo was faked</td>\n",
       "      <td>2023-12-08</td>\n",
       "      <td>1.0</td>\n",
       "      <td>They faked it? Maybe they had my girlfriend he...</td>\n",
       "      <td>15.0</td>\n",
       "      <td>Gemini</td>\n",
       "      <td>sample</td>\n",
       "      <td>0.0</td>\n",
       "      <td>0.999999</td>\n",
       "      <td>0.047619</td>\n",
       "      <td>[great]</td>\n",
       "      <td>[]</td>\n",
       "      <td>[they, fake, ##d, it, ?, maybe, they, had, my,...</td>\n",
       "    </tr>\n",
       "    <tr>\n",
       "      <th>2</th>\n",
       "      <td>18dkkml</td>\n",
       "      <td>Google's best Gemini demo was faked</td>\n",
       "      <td>2023-12-08</td>\n",
       "      <td>0.0</td>\n",
       "      <td>Fake it till you make it, right?</td>\n",
       "      <td>16.0</td>\n",
       "      <td>Gemini</td>\n",
       "      <td>sample</td>\n",
       "      <td>0.0</td>\n",
       "      <td>0.000000</td>\n",
       "      <td>0.000000</td>\n",
       "      <td>[great]</td>\n",
       "      <td>[]</td>\n",
       "      <td>[fake, it, till, you, make, it, ,, right, ?]</td>\n",
       "    </tr>\n",
       "    <tr>\n",
       "      <th>3</th>\n",
       "      <td>18dkkml</td>\n",
       "      <td>Google's best Gemini demo was faked</td>\n",
       "      <td>2023-12-08</td>\n",
       "      <td>0.0</td>\n",
       "      <td>That is not quacktastic</td>\n",
       "      <td>2.0</td>\n",
       "      <td>Gemini</td>\n",
       "      <td>sample</td>\n",
       "      <td>0.0</td>\n",
       "      <td>0.000000</td>\n",
       "      <td>0.000000</td>\n",
       "      <td>[great]</td>\n",
       "      <td>[]</td>\n",
       "      <td>[that, is, not, qu, ##ack, ##tas, ##tic]</td>\n",
       "    </tr>\n",
       "    <tr>\n",
       "      <th>4</th>\n",
       "      <td>18dkkml</td>\n",
       "      <td>Google's best Gemini demo was faked</td>\n",
       "      <td>2023-12-08</td>\n",
       "      <td>0.0</td>\n",
       "      <td>Oof. To have to make shit up to look impressiv...</td>\n",
       "      <td>23.0</td>\n",
       "      <td>Gemini</td>\n",
       "      <td>sample</td>\n",
       "      <td>1.0</td>\n",
       "      <td>-0.999999</td>\n",
       "      <td>0.020833</td>\n",
       "      <td>[great]</td>\n",
       "      <td>[lie]</td>\n",
       "      <td>[o, ##of, ., to, have, to, make, shit, up, to,...</td>\n",
       "    </tr>\n",
       "    <tr>\n",
       "      <th>5</th>\n",
       "      <td>18dkkml</td>\n",
       "      <td>Google's best Gemini demo was faked</td>\n",
       "      <td>2023-12-08</td>\n",
       "      <td>0.0</td>\n",
       "      <td>Sounds like fraud to me.  To manipulate invest...</td>\n",
       "      <td>0.0</td>\n",
       "      <td>Gemini</td>\n",
       "      <td>sample</td>\n",
       "      <td>1.0</td>\n",
       "      <td>-0.999999</td>\n",
       "      <td>0.100000</td>\n",
       "      <td>[great]</td>\n",
       "      <td>[fraud, lie]</td>\n",
       "      <td>[sounds, like, fraud, to, me, ., to, manipulat...</td>\n",
       "    </tr>\n",
       "    <tr>\n",
       "      <th>...</th>\n",
       "      <td>...</td>\n",
       "      <td>...</td>\n",
       "      <td>...</td>\n",
       "      <td>...</td>\n",
       "      <td>...</td>\n",
       "      <td>...</td>\n",
       "      <td>...</td>\n",
       "      <td>...</td>\n",
       "      <td>...</td>\n",
       "      <td>...</td>\n",
       "      <td>...</td>\n",
       "      <td>...</td>\n",
       "      <td>...</td>\n",
       "      <td>...</td>\n",
       "    </tr>\n",
       "    <tr>\n",
       "      <th>21410</th>\n",
       "      <td>zv32ac</td>\n",
       "      <td>Lumber prices back to normal levels</td>\n",
       "      <td>2022-12-26</td>\n",
       "      <td>0.0</td>\n",
       "      <td>We always said that about gas stations.  The s...</td>\n",
       "      <td>0.0</td>\n",
       "      <td>ChatGPT</td>\n",
       "      <td>sample</td>\n",
       "      <td>1.0</td>\n",
       "      <td>-0.999999</td>\n",
       "      <td>0.028571</td>\n",
       "      <td>[strength, distinct, vibrant, enjoy, profit, s...</td>\n",
       "      <td>[flaw, plaintiff, inhibit, invalid, divers, co...</td>\n",
       "      <td>[we, always, said, that, about, gas, stations,...</td>\n",
       "    </tr>\n",
       "    <tr>\n",
       "      <th>21411</th>\n",
       "      <td>zv32ac</td>\n",
       "      <td>Lumber prices back to normal levels</td>\n",
       "      <td>2022-12-26</td>\n",
       "      <td>0.0</td>\n",
       "      <td>Go cut a tree down and make lumber yourself th...</td>\n",
       "      <td>2.0</td>\n",
       "      <td>ChatGPT</td>\n",
       "      <td>sample</td>\n",
       "      <td>1.0</td>\n",
       "      <td>-0.999999</td>\n",
       "      <td>0.062500</td>\n",
       "      <td>[strength, distinct, vibrant, enjoy, profit, s...</td>\n",
       "      <td>[flaw, plaintiff, inhibit, invalid, divers, co...</td>\n",
       "      <td>[go, cut, a, tree, down, and, make, lumber, yo...</td>\n",
       "    </tr>\n",
       "    <tr>\n",
       "      <th>21412</th>\n",
       "      <td>zv32ac</td>\n",
       "      <td>Lumber prices back to normal levels</td>\n",
       "      <td>2022-12-26</td>\n",
       "      <td>0.0</td>\n",
       "      <td>I would fucking love to get my hands on some e...</td>\n",
       "      <td>0.0</td>\n",
       "      <td>ChatGPT</td>\n",
       "      <td>sample</td>\n",
       "      <td>0.0</td>\n",
       "      <td>0.000000</td>\n",
       "      <td>0.000000</td>\n",
       "      <td>[strength, distinct, vibrant, enjoy, profit, s...</td>\n",
       "      <td>[flaw, plaintiff, inhibit, invalid, divers, co...</td>\n",
       "      <td>[i, would, fucking, love, to, get, my, hands, ...</td>\n",
       "    </tr>\n",
       "    <tr>\n",
       "      <th>21413</th>\n",
       "      <td>zv32ac</td>\n",
       "      <td>Lumber prices back to normal levels</td>\n",
       "      <td>2022-12-26</td>\n",
       "      <td>0.0</td>\n",
       "      <td>I fucking did. Stole a Chrismas tree… \\nI am M...</td>\n",
       "      <td>0.0</td>\n",
       "      <td>ChatGPT</td>\n",
       "      <td>sample</td>\n",
       "      <td>0.0</td>\n",
       "      <td>0.000000</td>\n",
       "      <td>0.000000</td>\n",
       "      <td>[strength, distinct, vibrant, enjoy, profit, s...</td>\n",
       "      <td>[flaw, plaintiff, inhibit, invalid, divers, co...</td>\n",
       "      <td>[i, fucking, did, ., stole, a, chris, ##mas, t...</td>\n",
       "    </tr>\n",
       "    <tr>\n",
       "      <th>21414</th>\n",
       "      <td>zv32ac</td>\n",
       "      <td>Lumber prices back to normal levels</td>\n",
       "      <td>2022-12-26</td>\n",
       "      <td>0.0</td>\n",
       "      <td>That's not what happens when people stop being...</td>\n",
       "      <td>0.0</td>\n",
       "      <td>ChatGPT</td>\n",
       "      <td>sample</td>\n",
       "      <td>1.0</td>\n",
       "      <td>-0.999999</td>\n",
       "      <td>0.066667</td>\n",
       "      <td>[strength, distinct, vibrant, enjoy, profit, s...</td>\n",
       "      <td>[flaw, plaintiff, inhibit, invalid, divers, co...</td>\n",
       "      <td>[that, ', s, not, what, happens, when, people,...</td>\n",
       "    </tr>\n",
       "  </tbody>\n",
       "</table>\n",
       "<p>275021 rows × 14 columns</p>\n",
       "</div>"
      ],
      "text/plain": [
       "            id                           Post Title       time  Positive cnt  \\\n",
       "1      18dkkml  Google's best Gemini demo was faked 2023-12-08           1.0   \n",
       "2      18dkkml  Google's best Gemini demo was faked 2023-12-08           0.0   \n",
       "3      18dkkml  Google's best Gemini demo was faked 2023-12-08           0.0   \n",
       "4      18dkkml  Google's best Gemini demo was faked 2023-12-08           0.0   \n",
       "5      18dkkml  Google's best Gemini demo was faked 2023-12-08           0.0   \n",
       "...        ...                                  ...        ...           ...   \n",
       "21410   zv32ac  Lumber prices back to normal levels 2022-12-26           0.0   \n",
       "21411   zv32ac  Lumber prices back to normal levels 2022-12-26           0.0   \n",
       "21412   zv32ac  Lumber prices back to normal levels 2022-12-26           0.0   \n",
       "21413   zv32ac  Lumber prices back to normal levels 2022-12-26           0.0   \n",
       "21414   zv32ac  Lumber prices back to normal levels 2022-12-26           0.0   \n",
       "\n",
       "                                            Comment Body  cnum_replies  \\\n",
       "1      They faked it? Maybe they had my girlfriend he...          15.0   \n",
       "2                      Fake it till you make it, right?           16.0   \n",
       "3                                That is not quacktastic           2.0   \n",
       "4      Oof. To have to make shit up to look impressiv...          23.0   \n",
       "5      Sounds like fraud to me.  To manipulate invest...           0.0   \n",
       "...                                                  ...           ...   \n",
       "21410  We always said that about gas stations.  The s...           0.0   \n",
       "21411  Go cut a tree down and make lumber yourself th...           2.0   \n",
       "21412  I would fucking love to get my hands on some e...           0.0   \n",
       "21413  I fucking did. Stole a Chrismas tree… \\nI am M...           0.0   \n",
       "21414  That's not what happens when people stop being...           0.0   \n",
       "\n",
       "      subreddit   topic  Negative cnt  Polarity  Subjectivity  \\\n",
       "1        Gemini  sample           0.0  0.999999      0.047619   \n",
       "2        Gemini  sample           0.0  0.000000      0.000000   \n",
       "3        Gemini  sample           0.0  0.000000      0.000000   \n",
       "4        Gemini  sample           1.0 -0.999999      0.020833   \n",
       "5        Gemini  sample           1.0 -0.999999      0.100000   \n",
       "...         ...     ...           ...       ...           ...   \n",
       "21410   ChatGPT  sample           1.0 -0.999999      0.028571   \n",
       "21411   ChatGPT  sample           1.0 -0.999999      0.062500   \n",
       "21412   ChatGPT  sample           0.0  0.000000      0.000000   \n",
       "21413   ChatGPT  sample           0.0  0.000000      0.000000   \n",
       "21414   ChatGPT  sample           1.0 -0.999999      0.066667   \n",
       "\n",
       "                                          Positive words  \\\n",
       "1                                                [great]   \n",
       "2                                                [great]   \n",
       "3                                                [great]   \n",
       "4                                                [great]   \n",
       "5                                                [great]   \n",
       "...                                                  ...   \n",
       "21410  [strength, distinct, vibrant, enjoy, profit, s...   \n",
       "21411  [strength, distinct, vibrant, enjoy, profit, s...   \n",
       "21412  [strength, distinct, vibrant, enjoy, profit, s...   \n",
       "21413  [strength, distinct, vibrant, enjoy, profit, s...   \n",
       "21414  [strength, distinct, vibrant, enjoy, profit, s...   \n",
       "\n",
       "                                          Negative words  \\\n",
       "1                                                     []   \n",
       "2                                                     []   \n",
       "3                                                     []   \n",
       "4                                                  [lie]   \n",
       "5                                           [fraud, lie]   \n",
       "...                                                  ...   \n",
       "21410  [flaw, plaintiff, inhibit, invalid, divers, co...   \n",
       "21411  [flaw, plaintiff, inhibit, invalid, divers, co...   \n",
       "21412  [flaw, plaintiff, inhibit, invalid, divers, co...   \n",
       "21413  [flaw, plaintiff, inhibit, invalid, divers, co...   \n",
       "21414  [flaw, plaintiff, inhibit, invalid, divers, co...   \n",
       "\n",
       "                                               Tokenized  \n",
       "1      [they, fake, ##d, it, ?, maybe, they, had, my,...  \n",
       "2           [fake, it, till, you, make, it, ,, right, ?]  \n",
       "3               [that, is, not, qu, ##ack, ##tas, ##tic]  \n",
       "4      [o, ##of, ., to, have, to, make, shit, up, to,...  \n",
       "5      [sounds, like, fraud, to, me, ., to, manipulat...  \n",
       "...                                                  ...  \n",
       "21410  [we, always, said, that, about, gas, stations,...  \n",
       "21411  [go, cut, a, tree, down, and, make, lumber, yo...  \n",
       "21412  [i, would, fucking, love, to, get, my, hands, ...  \n",
       "21413  [i, fucking, did, ., stole, a, chris, ##mas, t...  \n",
       "21414  [that, ', s, not, what, happens, when, people,...  \n",
       "\n",
       "[275021 rows x 14 columns]"
      ]
     },
     "execution_count": 20,
     "metadata": {},
     "output_type": "execute_result"
    }
   ],
   "source": [
    "# Sentimen score data \n",
    "df = pd.read_parquet(\"output/data_sample_3w_output.pq\") \n",
    "subreddits = list(set(df['subreddit']))\n",
    "\n",
    "topic_data = {\n",
    "}\n",
    "for i in subreddits:\n",
    "    topic_data[i] = list(df[df['subreddit']==i]['Polarity'])\n",
    "df"
   ]
  },
  {
   "cell_type": "markdown",
   "id": "1feb5185",
   "metadata": {},
   "source": [
    "i want to generate a data dashboard with python plotly. the dashboard contains the following elements:\n",
    "1) a timeseries plot with stock prices; 2) word cloud, i need a button to choose the a topic; 3) timeseries of specific topic, i need a button to choose the topic"
   ]
  },
  {
   "cell_type": "code",
   "execution_count": 47,
   "id": "fbbd245f",
   "metadata": {},
   "outputs": [
    {
     "data": {
      "text/html": [
       "\n",
       "        <iframe\n",
       "            width=\"100%\"\n",
       "            height=\"650\"\n",
       "            src=\"http://127.0.0.1:8080/\"\n",
       "            frameborder=\"0\"\n",
       "            allowfullscreen\n",
       "            \n",
       "        ></iframe>\n",
       "        "
      ],
      "text/plain": [
       "<IPython.lib.display.IFrame at 0x174e7ead0>"
      ]
     },
     "metadata": {},
     "output_type": "display_data"
    },
    {
     "name": "stdout",
     "output_type": "stream",
     "text": [
      "---------------------------------------------------------------------------\n",
      "FileNotFoundError                         Traceback (most recent call last)\n",
      "Cell In[47], line 160, in update_topic_timeseries_plot_company(selected_company='ChatGPT')\n",
      "    154 @app.callback(\n",
      "    155     Output('company-polularity-index-timeseries-plot', 'figure'),\n",
      "    156     Input('company-dropdown', 'value')\n",
      "    157 )\n",
      "    158 def update_topic_timeseries_plot_company(selected_company):\n",
      "    159     # 创建图表\n",
      "--> 160     grouped = pd.read_parquet('output/HeatOutput/Subreddit/HeatData_bets_{}.parquet'.format(selected_company))\n",
      "        grouped =           time     Close  heat_index\n",
      "0   2023-04-03  5.660283           0\n",
      "1   2023-04-04  5.660109           0\n",
      "2   2023-04-05  5.650171           0\n",
      "3   2023-04-06  5.675383           0\n",
      "4   2023-04-10  5.667775           0\n",
      "..         ...       ...         ...\n",
      "246 2024-03-05  5.998068         171\n",
      "247 2024-03-06  5.996676           0\n",
      "248 2024-03-07  6.014057           0\n",
      "249 2024-03-08  6.006895           0\n",
      "250 2024-03-11  6.002701           0\n",
      "\n",
      "[251 rows x 3 columns]\n",
      "        pd = <module 'pandas' from '/Users/chelseayeung/anaconda3/lib/python3.11/site-packages/pandas/__init__.py'>\n",
      "        selected_company = 'ChatGPT'\n",
      "    161     fig = go.Figure()\n",
      "    163     # 添加 heat index 曲线\n",
      "\n",
      "File ~/anaconda3/lib/python3.11/site-packages/pandas/io/parquet.py:509, in read_parquet(\n",
      "    path='output/HeatOutput/Subreddit/HeatData_bets_ChatGPT.parquet',\n",
      "    engine='auto',\n",
      "    columns=None,\n",
      "    storage_options=None,\n",
      "    use_nullable_dtypes=False,\n",
      "    dtype_backend=<no_default>,\n",
      "    **kwargs={}\n",
      ")\n",
      "    506     use_nullable_dtypes = False\n",
      "    507 check_dtype_backend(dtype_backend)\n",
      "--> 509 return impl.read(\n",
      "        impl = <pandas.io.parquet.PyArrowImpl object at 0x159599950>\n",
      "        path = 'output/HeatOutput/Subreddit/HeatData_bets_ChatGPT.parquet'\n",
      "        columns = None\n",
      "        storage_options = None\n",
      "        use_nullable_dtypes = False\n",
      "        dtype_backend = <no_default>\n",
      "        kwargs = {}\n",
      "    510     path,\n",
      "    511     columns=columns,\n",
      "    512     storage_options=storage_options,\n",
      "    513     use_nullable_dtypes=use_nullable_dtypes,\n",
      "    514     dtype_backend=dtype_backend,\n",
      "    515     **kwargs,\n",
      "    516 )\n",
      "\n",
      "File ~/anaconda3/lib/python3.11/site-packages/pandas/io/parquet.py:220, in PyArrowImpl.read(\n",
      "    self=<pandas.io.parquet.PyArrowImpl object>,\n",
      "    path='output/HeatOutput/Subreddit/HeatData_bets_ChatGPT.parquet',\n",
      "    columns=None,\n",
      "    use_nullable_dtypes=False,\n",
      "    dtype_backend=<no_default>,\n",
      "    storage_options=None,\n",
      "    **kwargs={'use_pandas_metadata': True}\n",
      ")\n",
      "    217 if manager == \"array\":\n",
      "    218     to_pandas_kwargs[\"split_blocks\"] = True  # type: ignore[assignment]\n",
      "--> 220 path_or_handle, handles, kwargs[\"filesystem\"] = _get_path_or_handle(\n",
      "        kwargs = {'use_pandas_metadata': True}\n",
      "        path = 'output/HeatOutput/Subreddit/HeatData_bets_ChatGPT.parquet'\n",
      "        storage_options = None\n",
      "    221     path,\n",
      "    222     kwargs.pop(\"filesystem\", None),\n",
      "    223     storage_options=storage_options,\n",
      "    224     mode=\"rb\",\n",
      "    225 )\n",
      "    226 try:\n",
      "    227     pa_table = self.api.parquet.read_table(\n",
      "    228         path_or_handle, columns=columns, **kwargs\n",
      "    229     )\n",
      "\n",
      "File ~/anaconda3/lib/python3.11/site-packages/pandas/io/parquet.py:110, in _get_path_or_handle(\n",
      "    path='output/HeatOutput/Subreddit/HeatData_bets_ChatGPT.parquet',\n",
      "    fs=None,\n",
      "    storage_options=None,\n",
      "    mode='rb',\n",
      "    is_dir=False\n",
      ")\n",
      "    100 handles = None\n",
      "    101 if (\n",
      "    102     not fs\n",
      "    103     and not is_dir\n",
      "   (...)\n",
      "    108     # fsspec resources can also point to directories\n",
      "    109     # this branch is used for example when reading from non-fsspec URLs\n",
      "--> 110     handles = get_handle(\n",
      "        handles = None\n",
      "        path_or_handle = 'output/HeatOutput/Subreddit/HeatData_bets_ChatGPT.parquet'\n",
      "        storage_options = None\n",
      "        mode = 'rb'\n",
      "    111         path_or_handle, mode, is_text=False, storage_options=storage_options\n",
      "    112     )\n",
      "    113     fs = None\n",
      "    114     path_or_handle = handles.handle\n",
      "\n",
      "File ~/anaconda3/lib/python3.11/site-packages/pandas/io/common.py:868, in get_handle(\n",
      "    path_or_buf='output/HeatOutput/Subreddit/HeatData_bets_ChatGPT.parquet',\n",
      "    mode='rb',\n",
      "    encoding='utf-8',\n",
      "    compression=None,\n",
      "    memory_map=False,\n",
      "    is_text=False,\n",
      "    errors='strict',\n",
      "    storage_options=None\n",
      ")\n",
      "    859         handle = open(\n",
      "    860             handle,\n",
      "    861             ioargs.mode,\n",
      "   (...)\n",
      "    864             newline=\"\",\n",
      "    865         )\n",
      "    866     else:\n",
      "    867         # Binary mode\n",
      "--> 868         handle = open(handle, ioargs.mode)\n",
      "        ioargs = IOArgs(filepath_or_buffer='output/HeatOutput/Subreddit/HeatData_bets_ChatGPT.parquet', encoding='utf-8', mode='rb', compression={'method': None}, should_close=False)\n",
      "        handle = 'output/HeatOutput/Subreddit/HeatData_bets_ChatGPT.parquet'\n",
      "        ioargs.mode = 'rb'\n",
      "    869     handles.append(handle)\n",
      "    871 # Convert BytesIO or file objects passed with an encoding\n",
      "\n",
      "FileNotFoundError: [Errno 2] No such file or directory: 'output/HeatOutput/Subreddit/HeatData_bets_ChatGPT.parquet'\n",
      "\n"
     ]
    },
    {
     "data": {
      "application/vnd.plotly.v1+json": {
       "config": {
        "plotlyServerURL": "https://plot.ly"
       },
       "data": [
        {
         "line": {
          "color": "firebrick"
         },
         "mode": "lines",
         "name": "Heat Index",
         "type": "scatter",
         "x": [
          0,
          1,
          2,
          3,
          4,
          5,
          6,
          7,
          8,
          9,
          10,
          11,
          12,
          13,
          14,
          15,
          16,
          17,
          18,
          19,
          20,
          21,
          22,
          23,
          24,
          25,
          26,
          27,
          28,
          29,
          30,
          31,
          32,
          33,
          34,
          35,
          36,
          37,
          38,
          39,
          40,
          41,
          42,
          43,
          44,
          45,
          46,
          47,
          48,
          49,
          50,
          51,
          52,
          53,
          54,
          55,
          56,
          57,
          58,
          59,
          60,
          61,
          62,
          63,
          64,
          65,
          66,
          67,
          68,
          69,
          70,
          71,
          72,
          73,
          74,
          75,
          76,
          77,
          78,
          79,
          80,
          81,
          82,
          83,
          84,
          85,
          86,
          87,
          88,
          89,
          90,
          91,
          92,
          93,
          94,
          95,
          96,
          97,
          98,
          99,
          100,
          101,
          102,
          103,
          104,
          105,
          106,
          107,
          108,
          109,
          110,
          111,
          112,
          113,
          114,
          115,
          116,
          117,
          118,
          119,
          120,
          121,
          122,
          123,
          124,
          125,
          126,
          127,
          128,
          129,
          130,
          131,
          132,
          133,
          134,
          135,
          136,
          137,
          138,
          139,
          140,
          141,
          142,
          143,
          144,
          145,
          146,
          147,
          148,
          149,
          150,
          151,
          152,
          153,
          154,
          155,
          156,
          157,
          158,
          159,
          160,
          161,
          162,
          163,
          164,
          165,
          166,
          167,
          168,
          169,
          170,
          171,
          172,
          173,
          174,
          175,
          176,
          177,
          178,
          179,
          180,
          181,
          182,
          183,
          184,
          185,
          186,
          187,
          188,
          189,
          190,
          191,
          192,
          193,
          194,
          195,
          196,
          197,
          198,
          199,
          200,
          201,
          202,
          203,
          204,
          205,
          206,
          207,
          208,
          209,
          210,
          211,
          212,
          213,
          214,
          215,
          216,
          217,
          218,
          219,
          220,
          221,
          222,
          223,
          224,
          225,
          226,
          227,
          228,
          229,
          230,
          231,
          232,
          233,
          234,
          235,
          236,
          237,
          238,
          239,
          240,
          241,
          242,
          243,
          244,
          245,
          246,
          247,
          248,
          249,
          250,
          251,
          252,
          253,
          254,
          255,
          256,
          257,
          258,
          259,
          260,
          261,
          262,
          263,
          264,
          265,
          266,
          267
         ],
         "y": [
          50,
          0,
          0,
          0,
          0,
          39,
          61,
          18,
          0,
          0,
          100,
          626,
          0,
          188,
          66,
          0,
          12,
          0,
          0,
          338,
          0,
          6,
          89,
          0,
          56,
          12,
          189,
          0,
          0,
          0,
          0,
          20,
          77,
          185,
          0,
          396,
          0,
          80,
          16,
          0,
          0,
          55,
          181,
          268,
          50,
          0,
          0,
          0,
          0,
          29,
          127,
          0,
          0,
          34,
          104,
          64,
          168,
          341,
          0,
          0,
          79,
          0,
          0,
          6,
          0,
          0,
          0,
          9,
          0,
          0,
          0,
          310,
          0,
          0,
          0,
          4,
          0,
          193,
          339,
          0,
          0,
          3,
          0,
          0,
          0,
          3,
          0,
          701,
          0,
          0,
          0,
          0,
          0,
          36,
          23,
          0,
          0,
          0,
          0,
          0,
          0,
          0,
          0,
          358,
          0,
          0,
          0,
          10,
          0,
          0,
          0,
          0,
          0,
          0,
          0,
          0,
          0,
          55,
          0,
          0,
          0,
          0,
          0,
          0,
          284,
          0,
          0,
          0,
          0,
          0,
          0,
          0,
          0,
          0,
          0,
          0,
          0,
          22,
          149,
          0,
          0,
          0,
          0,
          0,
          0,
          0,
          0,
          0,
          0,
          0,
          0,
          0,
          0,
          262,
          0,
          0,
          0,
          19,
          0,
          26,
          454,
          0,
          0,
          0,
          233,
          0,
          0,
          0,
          0,
          0,
          84,
          65,
          0,
          0,
          0,
          6,
          857,
          201,
          0,
          37,
          49,
          0,
          0,
          84,
          0,
          3,
          0,
          95,
          0,
          0,
          0,
          34,
          45,
          0,
          96,
          0,
          0,
          0,
          27,
          20,
          3,
          0,
          228,
          0,
          0,
          0,
          0,
          0,
          0,
          0,
          0,
          0,
          0,
          0,
          0,
          0,
          10,
          93,
          0,
          0,
          101,
          0,
          0,
          578,
          0,
          0,
          36,
          0,
          121,
          0,
          0,
          0,
          0,
          50,
          0,
          67,
          0,
          0,
          53,
          0,
          0,
          0,
          0,
          397,
          0,
          39,
          894,
          0,
          85,
          43,
          385,
          83,
          0,
          0,
          21,
          0,
          1036,
          26,
          0,
          0,
          51,
          0,
          47,
          0,
          0,
          22,
          555,
          0
         ]
        },
        {
         "line": {
          "color": "royalblue"
         },
         "mode": "lines",
         "name": "Close",
         "type": "scatter",
         "x": [
          0,
          1,
          2,
          3,
          4,
          5,
          6,
          7,
          8,
          9,
          10,
          11,
          12,
          13,
          14,
          15,
          16,
          17,
          18,
          19,
          20,
          21,
          22,
          23,
          24,
          25,
          26,
          27,
          28,
          29,
          30,
          31,
          32,
          33,
          34,
          35,
          36,
          37,
          38,
          39,
          40,
          41,
          42,
          43,
          44,
          45,
          46,
          47,
          48,
          49,
          50,
          51,
          52,
          53,
          54,
          55,
          56,
          57,
          58,
          59,
          60,
          61,
          62,
          63,
          64,
          65,
          66,
          67,
          68,
          69,
          70,
          71,
          72,
          73,
          74,
          75,
          76,
          77,
          78,
          79,
          80,
          81,
          82,
          83,
          84,
          85,
          86,
          87,
          88,
          89,
          90,
          91,
          92,
          93,
          94,
          95,
          96,
          97,
          98,
          99,
          100,
          101,
          102,
          103,
          104,
          105,
          106,
          107,
          108,
          109,
          110,
          111,
          112,
          113,
          114,
          115,
          116,
          117,
          118,
          119,
          120,
          121,
          122,
          123,
          124,
          125,
          126,
          127,
          128,
          129,
          130,
          131,
          132,
          133,
          134,
          135,
          136,
          137,
          138,
          139,
          140,
          141,
          142,
          143,
          144,
          145,
          146,
          147,
          148,
          149,
          150,
          151,
          152,
          153,
          154,
          155,
          156,
          157,
          158,
          159,
          160,
          161,
          162,
          163,
          164,
          165,
          166,
          167,
          168,
          169,
          170,
          171,
          172,
          173,
          174,
          175,
          176,
          177,
          178,
          179,
          180,
          181,
          182,
          183,
          184,
          185,
          186,
          187,
          188,
          189,
          190,
          191,
          192,
          193,
          194,
          195,
          196,
          197,
          198,
          199,
          200,
          201,
          202,
          203,
          204,
          205,
          206,
          207,
          208,
          209,
          210,
          211,
          212,
          213,
          214,
          215,
          216,
          217,
          218,
          219,
          220,
          221,
          222,
          223,
          224,
          225,
          226,
          227,
          228,
          229,
          230,
          231,
          232,
          233,
          234,
          235,
          236,
          237,
          238,
          239,
          240,
          241,
          242,
          243,
          244,
          245,
          246,
          247,
          248,
          249,
          250,
          251,
          252,
          253,
          254,
          255,
          256,
          257,
          258,
          259,
          260,
          261,
          262,
          263,
          264,
          265,
          266,
          267
         ],
         "y": [
          5.633538799812206,
          5.615060540952808,
          5.594004802897756,
          5.599791372775026,
          5.619639739177298,
          5.604661717816338,
          5.579541174230335,
          5.57833264283309,
          5.589418538461871,
          5.598495989591375,
          5.622825507230111,
          5.63232226894489,
          5.60226644466912,
          5.60281968960497,
          null,
          5.599976354003978,
          5.5699081813431945,
          5.5967909926585175,
          5.606757528813923,
          5.6257848604638045,
          5.666772669776365,
          5.642261639277004,
          5.627693013983447,
          5.61902308730608,
          5.658785066884461,
          null,
          5.675074344823598,
          5.654977278873795,
          5.665907542999301,
          5.655222280541628,
          5.646859306085091,
          null,
          null,
          5.668258915133281,
          5.677198925788846,
          5.709698271771833,
          5.758207523477509,
          5.745052416832921,
          null,
          5.742233693106409,
          5.726456807988087,
          5.721556919128409,
          5.939644766782608,
          5.964761141164512,
          null,
          null,
          5.994235666507542,
          5.935793251665016,
          5.985697982387142,
          5.974496370907222,
          null,
          5.970521747111875,
          5.957235378840811,
          5.926259136982707,
          5.953503056401232,
          5.96023187562865,
          null,
          5.97842998256712,
          6.016693603591474,
          6.063715441137631,
          6.055682702090046,
          6.0565966724964335,
          null,
          null,
          null,
          6.082401512425139,
          6.064831200981765,
          6.064366435091649,
          6.045218551962696,
          null,
          6.00714104372079,
          6.037297987331181,
          6.019006785898098,
          6.0118062472155565,
          6.04741943324893,
          null,
          null,
          6.050040023801049,
          null,
          6.047774020283088,
          6.042704087675822,
          6.052159752315704,
          6.044531239595171,
          6.049851344509159,
          6.084544945068187,
          6.1307263405164525,
          6.119615872465185,
          null,
          6.14119831171105,
          6.163188484477715,
          6.154369628664453,
          6.12073690917416,
          6.093772900654251,
          null,
          null,
          6.100587962918589,
          6.124223786386324,
          6.119241892848453,
          6.129050210060545,
          6.147399348728743,
          null,
          null,
          6.146950069208185,
          6.1421879469436105,
          6.09286975534031,
          6.098411290541077,
          6.102111040337391,
          null,
          6.1184716059155395,
          6.101752934586199,
          6.05335897179517,
          6.049450408102427,
          6.012614276458546,
          6.08114527258977,
          6.0854101462955255,
          6.075024105713052,
          6.071753382951034,
          6.0707146099523595,
          null,
          null,
          6.152030348116473,
          6.123982911480106,
          6.155197747580269,
          6.156194790473063,
          6.131617702079947,
          null,
          null,
          6.149215892466072,
          6.189987475040535,
          6.1997787146243875,
          6.201624146550251,
          6.184334432486472,
          null,
          null,
          null,
          6.185138114896149,
          6.154029693662732,
          6.136451952072233,
          6.121878588024245,
          null,
          null,
          6.113195333465662,
          6.1063545397258645,
          6.1199677074592325,
          6.12207605163025,
          6.0844994130751715,
          6.08600171002991,
          6.075805723115262,
          6.045929093381592,
          6.016571739601886,
          6.030925630408507,
          null,
          6.045526507574946,
          6.038133379510019,
          6.0513359276623735,
          6.065852871923509,
          6.075323019329663,
          6.104391381594473,
          6.075736789215541,
          6.087706120303515,
          6.1022901133855525,
          6.126039134478106,
          null,
          null,
          6.115295945595611,
          6.1268255390569495,
          6.14859648855532,
          6.151561822266384,
          6.119439875541506,
          null,
          6.133289603277795,
          6.0853646536807044,
          6.044910501484572,
          6.042656610121809,
          6.025551902771033,
          null,
          6.063203644262958,
          6.079086165987149,
          6.034978935480864,
          5.999581540007827,
          6.003887067106539,
          null,
          6.02007626265496,
          6.010776828714165,
          6.047963021013245,
          6.075483948014489,
          6.10935866103939,
          null,
          6.125798764257638,
          6.130247723691617,
          6.143627517033882,
          6.1516682986483175,
          6.180741041323979,
          6.186620086563224,
          6.2077043180776865,
          6.192117070814119,
          6.204153616266109,
          6.200468627581748,
          null,
          null,
          6.222754815622869,
          6.213487474757974,
          6.188592619429764,
          null,
          6.169108535281837,
          null,
          null,
          6.178815130870849,
          6.170049947737798,
          6.176698512885324,
          6.147827090389313,
          6.147720140050452,
          null,
          6.120517188206512,
          6.143455762684061,
          6.1203633486456726,
          6.144099774216612,
          6.163441107636952,
          null,
          null,
          6.14476484188892,
          6.166614631505206,
          6.175617769128511,
          6.181051314893349,
          6.192157957312151,
          null,
          6.216146891872036,
          6.206656586778269,
          6.176095903010926,
          6.1942012763971315,
          6.190929946492558,
          null,
          null,
          6.200083138068986,
          6.20287961385032,
          6.205002110296261,
          6.205002110296261,
          null,
          null,
          null,
          6.177279978623723,
          6.164766385769394,
          6.173744459284811,
          6.196383028168302,
          null,
          null,
          6.258682453957862,
          6.27551507848943,
          6.298029706561264,
          6.3066766133401115,
          6.304631557202113,
          null,
          null,
          null,
          6.334735064038338,
          6.32888281645623,
          6.347511806343882,
          6.3884100882153865,
          null,
          null,
          6.391146260247741,
          6.39481071184044,
          6.419375835897611,
          6.423522871895878,
          6.413967021523424,
          null,
          null,
          6.437191531299353,
          6.442126052072246,
          6.422061228359805,
          6.446148330736078,
          6.494661107433785,
          null,
          null,
          6.541491663169457,
          6.52536681507582,
          6.552493607332065,
          6.545938528584141,
          6.581096753783073,
          null,
          null,
          6.582689710260116,
          6.581027451617656,
          6.6052979209482015,
          6.588348617344504,
          6.587729069041567,
          null,
          null,
          null,
          6.543220988272804,
          6.514297747017457,
          6.666167683454676,
          6.669713781061864,
          null,
          null,
          6.673196803358672,
          6.6682409675233005,
          6.654964052914838,
          6.673449656641582,
          6.712700977344874,
          null,
          null,
          6.748020698994865,
          6.75651371440617,
          6.787844982309579,
          6.8316190997139,
          6.774543868300789,
          null,
          null,
          6.754301011603427
         ],
         "yaxis": "y2"
        }
       ],
       "layout": {
        "template": {
         "data": {
          "bar": [
           {
            "error_x": {
             "color": "#2a3f5f"
            },
            "error_y": {
             "color": "#2a3f5f"
            },
            "marker": {
             "line": {
              "color": "#E5ECF6",
              "width": 0.5
             },
             "pattern": {
              "fillmode": "overlay",
              "size": 10,
              "solidity": 0.2
             }
            },
            "type": "bar"
           }
          ],
          "barpolar": [
           {
            "marker": {
             "line": {
              "color": "#E5ECF6",
              "width": 0.5
             },
             "pattern": {
              "fillmode": "overlay",
              "size": 10,
              "solidity": 0.2
             }
            },
            "type": "barpolar"
           }
          ],
          "carpet": [
           {
            "aaxis": {
             "endlinecolor": "#2a3f5f",
             "gridcolor": "white",
             "linecolor": "white",
             "minorgridcolor": "white",
             "startlinecolor": "#2a3f5f"
            },
            "baxis": {
             "endlinecolor": "#2a3f5f",
             "gridcolor": "white",
             "linecolor": "white",
             "minorgridcolor": "white",
             "startlinecolor": "#2a3f5f"
            },
            "type": "carpet"
           }
          ],
          "choropleth": [
           {
            "colorbar": {
             "outlinewidth": 0,
             "ticks": ""
            },
            "type": "choropleth"
           }
          ],
          "contour": [
           {
            "colorbar": {
             "outlinewidth": 0,
             "ticks": ""
            },
            "colorscale": [
             [
              0,
              "#0d0887"
             ],
             [
              0.1111111111111111,
              "#46039f"
             ],
             [
              0.2222222222222222,
              "#7201a8"
             ],
             [
              0.3333333333333333,
              "#9c179e"
             ],
             [
              0.4444444444444444,
              "#bd3786"
             ],
             [
              0.5555555555555556,
              "#d8576b"
             ],
             [
              0.6666666666666666,
              "#ed7953"
             ],
             [
              0.7777777777777778,
              "#fb9f3a"
             ],
             [
              0.8888888888888888,
              "#fdca26"
             ],
             [
              1,
              "#f0f921"
             ]
            ],
            "type": "contour"
           }
          ],
          "contourcarpet": [
           {
            "colorbar": {
             "outlinewidth": 0,
             "ticks": ""
            },
            "type": "contourcarpet"
           }
          ],
          "heatmap": [
           {
            "colorbar": {
             "outlinewidth": 0,
             "ticks": ""
            },
            "colorscale": [
             [
              0,
              "#0d0887"
             ],
             [
              0.1111111111111111,
              "#46039f"
             ],
             [
              0.2222222222222222,
              "#7201a8"
             ],
             [
              0.3333333333333333,
              "#9c179e"
             ],
             [
              0.4444444444444444,
              "#bd3786"
             ],
             [
              0.5555555555555556,
              "#d8576b"
             ],
             [
              0.6666666666666666,
              "#ed7953"
             ],
             [
              0.7777777777777778,
              "#fb9f3a"
             ],
             [
              0.8888888888888888,
              "#fdca26"
             ],
             [
              1,
              "#f0f921"
             ]
            ],
            "type": "heatmap"
           }
          ],
          "heatmapgl": [
           {
            "colorbar": {
             "outlinewidth": 0,
             "ticks": ""
            },
            "colorscale": [
             [
              0,
              "#0d0887"
             ],
             [
              0.1111111111111111,
              "#46039f"
             ],
             [
              0.2222222222222222,
              "#7201a8"
             ],
             [
              0.3333333333333333,
              "#9c179e"
             ],
             [
              0.4444444444444444,
              "#bd3786"
             ],
             [
              0.5555555555555556,
              "#d8576b"
             ],
             [
              0.6666666666666666,
              "#ed7953"
             ],
             [
              0.7777777777777778,
              "#fb9f3a"
             ],
             [
              0.8888888888888888,
              "#fdca26"
             ],
             [
              1,
              "#f0f921"
             ]
            ],
            "type": "heatmapgl"
           }
          ],
          "histogram": [
           {
            "marker": {
             "pattern": {
              "fillmode": "overlay",
              "size": 10,
              "solidity": 0.2
             }
            },
            "type": "histogram"
           }
          ],
          "histogram2d": [
           {
            "colorbar": {
             "outlinewidth": 0,
             "ticks": ""
            },
            "colorscale": [
             [
              0,
              "#0d0887"
             ],
             [
              0.1111111111111111,
              "#46039f"
             ],
             [
              0.2222222222222222,
              "#7201a8"
             ],
             [
              0.3333333333333333,
              "#9c179e"
             ],
             [
              0.4444444444444444,
              "#bd3786"
             ],
             [
              0.5555555555555556,
              "#d8576b"
             ],
             [
              0.6666666666666666,
              "#ed7953"
             ],
             [
              0.7777777777777778,
              "#fb9f3a"
             ],
             [
              0.8888888888888888,
              "#fdca26"
             ],
             [
              1,
              "#f0f921"
             ]
            ],
            "type": "histogram2d"
           }
          ],
          "histogram2dcontour": [
           {
            "colorbar": {
             "outlinewidth": 0,
             "ticks": ""
            },
            "colorscale": [
             [
              0,
              "#0d0887"
             ],
             [
              0.1111111111111111,
              "#46039f"
             ],
             [
              0.2222222222222222,
              "#7201a8"
             ],
             [
              0.3333333333333333,
              "#9c179e"
             ],
             [
              0.4444444444444444,
              "#bd3786"
             ],
             [
              0.5555555555555556,
              "#d8576b"
             ],
             [
              0.6666666666666666,
              "#ed7953"
             ],
             [
              0.7777777777777778,
              "#fb9f3a"
             ],
             [
              0.8888888888888888,
              "#fdca26"
             ],
             [
              1,
              "#f0f921"
             ]
            ],
            "type": "histogram2dcontour"
           }
          ],
          "mesh3d": [
           {
            "colorbar": {
             "outlinewidth": 0,
             "ticks": ""
            },
            "type": "mesh3d"
           }
          ],
          "parcoords": [
           {
            "line": {
             "colorbar": {
              "outlinewidth": 0,
              "ticks": ""
             }
            },
            "type": "parcoords"
           }
          ],
          "pie": [
           {
            "automargin": true,
            "type": "pie"
           }
          ],
          "scatter": [
           {
            "fillpattern": {
             "fillmode": "overlay",
             "size": 10,
             "solidity": 0.2
            },
            "type": "scatter"
           }
          ],
          "scatter3d": [
           {
            "line": {
             "colorbar": {
              "outlinewidth": 0,
              "ticks": ""
             }
            },
            "marker": {
             "colorbar": {
              "outlinewidth": 0,
              "ticks": ""
             }
            },
            "type": "scatter3d"
           }
          ],
          "scattercarpet": [
           {
            "marker": {
             "colorbar": {
              "outlinewidth": 0,
              "ticks": ""
             }
            },
            "type": "scattercarpet"
           }
          ],
          "scattergeo": [
           {
            "marker": {
             "colorbar": {
              "outlinewidth": 0,
              "ticks": ""
             }
            },
            "type": "scattergeo"
           }
          ],
          "scattergl": [
           {
            "marker": {
             "colorbar": {
              "outlinewidth": 0,
              "ticks": ""
             }
            },
            "type": "scattergl"
           }
          ],
          "scattermapbox": [
           {
            "marker": {
             "colorbar": {
              "outlinewidth": 0,
              "ticks": ""
             }
            },
            "type": "scattermapbox"
           }
          ],
          "scatterpolar": [
           {
            "marker": {
             "colorbar": {
              "outlinewidth": 0,
              "ticks": ""
             }
            },
            "type": "scatterpolar"
           }
          ],
          "scatterpolargl": [
           {
            "marker": {
             "colorbar": {
              "outlinewidth": 0,
              "ticks": ""
             }
            },
            "type": "scatterpolargl"
           }
          ],
          "scatterternary": [
           {
            "marker": {
             "colorbar": {
              "outlinewidth": 0,
              "ticks": ""
             }
            },
            "type": "scatterternary"
           }
          ],
          "surface": [
           {
            "colorbar": {
             "outlinewidth": 0,
             "ticks": ""
            },
            "colorscale": [
             [
              0,
              "#0d0887"
             ],
             [
              0.1111111111111111,
              "#46039f"
             ],
             [
              0.2222222222222222,
              "#7201a8"
             ],
             [
              0.3333333333333333,
              "#9c179e"
             ],
             [
              0.4444444444444444,
              "#bd3786"
             ],
             [
              0.5555555555555556,
              "#d8576b"
             ],
             [
              0.6666666666666666,
              "#ed7953"
             ],
             [
              0.7777777777777778,
              "#fb9f3a"
             ],
             [
              0.8888888888888888,
              "#fdca26"
             ],
             [
              1,
              "#f0f921"
             ]
            ],
            "type": "surface"
           }
          ],
          "table": [
           {
            "cells": {
             "fill": {
              "color": "#EBF0F8"
             },
             "line": {
              "color": "white"
             }
            },
            "header": {
             "fill": {
              "color": "#C8D4E3"
             },
             "line": {
              "color": "white"
             }
            },
            "type": "table"
           }
          ]
         },
         "layout": {
          "annotationdefaults": {
           "arrowcolor": "#2a3f5f",
           "arrowhead": 0,
           "arrowwidth": 1
          },
          "autotypenumbers": "strict",
          "coloraxis": {
           "colorbar": {
            "outlinewidth": 0,
            "ticks": ""
           }
          },
          "colorscale": {
           "diverging": [
            [
             0,
             "#8e0152"
            ],
            [
             0.1,
             "#c51b7d"
            ],
            [
             0.2,
             "#de77ae"
            ],
            [
             0.3,
             "#f1b6da"
            ],
            [
             0.4,
             "#fde0ef"
            ],
            [
             0.5,
             "#f7f7f7"
            ],
            [
             0.6,
             "#e6f5d0"
            ],
            [
             0.7,
             "#b8e186"
            ],
            [
             0.8,
             "#7fbc41"
            ],
            [
             0.9,
             "#4d9221"
            ],
            [
             1,
             "#276419"
            ]
           ],
           "sequential": [
            [
             0,
             "#0d0887"
            ],
            [
             0.1111111111111111,
             "#46039f"
            ],
            [
             0.2222222222222222,
             "#7201a8"
            ],
            [
             0.3333333333333333,
             "#9c179e"
            ],
            [
             0.4444444444444444,
             "#bd3786"
            ],
            [
             0.5555555555555556,
             "#d8576b"
            ],
            [
             0.6666666666666666,
             "#ed7953"
            ],
            [
             0.7777777777777778,
             "#fb9f3a"
            ],
            [
             0.8888888888888888,
             "#fdca26"
            ],
            [
             1,
             "#f0f921"
            ]
           ],
           "sequentialminus": [
            [
             0,
             "#0d0887"
            ],
            [
             0.1111111111111111,
             "#46039f"
            ],
            [
             0.2222222222222222,
             "#7201a8"
            ],
            [
             0.3333333333333333,
             "#9c179e"
            ],
            [
             0.4444444444444444,
             "#bd3786"
            ],
            [
             0.5555555555555556,
             "#d8576b"
            ],
            [
             0.6666666666666666,
             "#ed7953"
            ],
            [
             0.7777777777777778,
             "#fb9f3a"
            ],
            [
             0.8888888888888888,
             "#fdca26"
            ],
            [
             1,
             "#f0f921"
            ]
           ]
          },
          "colorway": [
           "#636efa",
           "#EF553B",
           "#00cc96",
           "#ab63fa",
           "#FFA15A",
           "#19d3f3",
           "#FF6692",
           "#B6E880",
           "#FF97FF",
           "#FECB52"
          ],
          "font": {
           "color": "#2a3f5f"
          },
          "geo": {
           "bgcolor": "white",
           "lakecolor": "white",
           "landcolor": "#E5ECF6",
           "showlakes": true,
           "showland": true,
           "subunitcolor": "white"
          },
          "hoverlabel": {
           "align": "left"
          },
          "hovermode": "closest",
          "mapbox": {
           "style": "light"
          },
          "paper_bgcolor": "white",
          "plot_bgcolor": "#E5ECF6",
          "polar": {
           "angularaxis": {
            "gridcolor": "white",
            "linecolor": "white",
            "ticks": ""
           },
           "bgcolor": "#E5ECF6",
           "radialaxis": {
            "gridcolor": "white",
            "linecolor": "white",
            "ticks": ""
           }
          },
          "scene": {
           "xaxis": {
            "backgroundcolor": "#E5ECF6",
            "gridcolor": "white",
            "gridwidth": 2,
            "linecolor": "white",
            "showbackground": true,
            "ticks": "",
            "zerolinecolor": "white"
           },
           "yaxis": {
            "backgroundcolor": "#E5ECF6",
            "gridcolor": "white",
            "gridwidth": 2,
            "linecolor": "white",
            "showbackground": true,
            "ticks": "",
            "zerolinecolor": "white"
           },
           "zaxis": {
            "backgroundcolor": "#E5ECF6",
            "gridcolor": "white",
            "gridwidth": 2,
            "linecolor": "white",
            "showbackground": true,
            "ticks": "",
            "zerolinecolor": "white"
           }
          },
          "shapedefaults": {
           "line": {
            "color": "#2a3f5f"
           }
          },
          "ternary": {
           "aaxis": {
            "gridcolor": "white",
            "linecolor": "white",
            "ticks": ""
           },
           "baxis": {
            "gridcolor": "white",
            "linecolor": "white",
            "ticks": ""
           },
           "bgcolor": "#E5ECF6",
           "caxis": {
            "gridcolor": "white",
            "linecolor": "white",
            "ticks": ""
           }
          },
          "title": {
           "x": 0.05
          },
          "xaxis": {
           "automargin": true,
           "gridcolor": "white",
           "linecolor": "white",
           "ticks": "",
           "title": {
            "standoff": 15
           },
           "zerolinecolor": "white",
           "zerolinewidth": 2
          },
          "yaxis": {
           "automargin": true,
           "gridcolor": "white",
           "linecolor": "white",
           "ticks": "",
           "title": {
            "standoff": 15
           },
           "zerolinecolor": "white",
           "zerolinewidth": 2
          }
         }
        },
        "title": {
         "text": "Popularity Index and Stock Price Over Time"
        },
        "xaxis": {
         "tickangle": 45,
         "title": {
          "text": "Time"
         }
        },
        "yaxis": {
         "color": "firebrick",
         "showgrid": false,
         "side": "left",
         "title": {
          "text": "Popularity Index"
         },
         "zeroline": false
        },
        "yaxis2": {
         "color": "royalblue",
         "overlaying": "y",
         "showgrid": false,
         "side": "right",
         "title": {
          "text": "Stock Price"
         },
         "zeroline": false
        }
       }
      },
      "text/html": [
       "<div>                            <div id=\"d0d32d2e-9ef7-43e1-816b-260db527e3c1\" class=\"plotly-graph-div\" style=\"height:525px; width:100%;\"></div>            <script type=\"text/javascript\">                require([\"plotly\"], function(Plotly) {                    window.PLOTLYENV=window.PLOTLYENV || {};                                    if (document.getElementById(\"d0d32d2e-9ef7-43e1-816b-260db527e3c1\")) {                    Plotly.newPlot(                        \"d0d32d2e-9ef7-43e1-816b-260db527e3c1\",                        [{\"line\":{\"color\":\"firebrick\"},\"mode\":\"lines\",\"name\":\"Heat Index\",\"x\":[0,1,2,3,4,5,6,7,8,9,10,11,12,13,14,15,16,17,18,19,20,21,22,23,24,25,26,27,28,29,30,31,32,33,34,35,36,37,38,39,40,41,42,43,44,45,46,47,48,49,50,51,52,53,54,55,56,57,58,59,60,61,62,63,64,65,66,67,68,69,70,71,72,73,74,75,76,77,78,79,80,81,82,83,84,85,86,87,88,89,90,91,92,93,94,95,96,97,98,99,100,101,102,103,104,105,106,107,108,109,110,111,112,113,114,115,116,117,118,119,120,121,122,123,124,125,126,127,128,129,130,131,132,133,134,135,136,137,138,139,140,141,142,143,144,145,146,147,148,149,150,151,152,153,154,155,156,157,158,159,160,161,162,163,164,165,166,167,168,169,170,171,172,173,174,175,176,177,178,179,180,181,182,183,184,185,186,187,188,189,190,191,192,193,194,195,196,197,198,199,200,201,202,203,204,205,206,207,208,209,210,211,212,213,214,215,216,217,218,219,220,221,222,223,224,225,226,227,228,229,230,231,232,233,234,235,236,237,238,239,240,241,242,243,244,245,246,247,248,249,250,251,252,253,254,255,256,257,258,259,260,261,262,263,264,265,266,267],\"y\":[50,0,0,0,0,39,61,18,0,0,100,626,0,188,66,0,12,0,0,338,0,6,89,0,56,12,189,0,0,0,0,20,77,185,0,396,0,80,16,0,0,55,181,268,50,0,0,0,0,29,127,0,0,34,104,64,168,341,0,0,79,0,0,6,0,0,0,9,0,0,0,310,0,0,0,4,0,193,339,0,0,3,0,0,0,3,0,701,0,0,0,0,0,36,23,0,0,0,0,0,0,0,0,358,0,0,0,10,0,0,0,0,0,0,0,0,0,55,0,0,0,0,0,0,284,0,0,0,0,0,0,0,0,0,0,0,0,22,149,0,0,0,0,0,0,0,0,0,0,0,0,0,0,262,0,0,0,19,0,26,454,0,0,0,233,0,0,0,0,0,84,65,0,0,0,6,857,201,0,37,49,0,0,84,0,3,0,95,0,0,0,34,45,0,96,0,0,0,27,20,3,0,228,0,0,0,0,0,0,0,0,0,0,0,0,0,10,93,0,0,101,0,0,578,0,0,36,0,121,0,0,0,0,50,0,67,0,0,53,0,0,0,0,397,0,39,894,0,85,43,385,83,0,0,21,0,1036,26,0,0,51,0,47,0,0,22,555,0],\"type\":\"scatter\"},{\"line\":{\"color\":\"royalblue\"},\"mode\":\"lines\",\"name\":\"Close\",\"x\":[0,1,2,3,4,5,6,7,8,9,10,11,12,13,14,15,16,17,18,19,20,21,22,23,24,25,26,27,28,29,30,31,32,33,34,35,36,37,38,39,40,41,42,43,44,45,46,47,48,49,50,51,52,53,54,55,56,57,58,59,60,61,62,63,64,65,66,67,68,69,70,71,72,73,74,75,76,77,78,79,80,81,82,83,84,85,86,87,88,89,90,91,92,93,94,95,96,97,98,99,100,101,102,103,104,105,106,107,108,109,110,111,112,113,114,115,116,117,118,119,120,121,122,123,124,125,126,127,128,129,130,131,132,133,134,135,136,137,138,139,140,141,142,143,144,145,146,147,148,149,150,151,152,153,154,155,156,157,158,159,160,161,162,163,164,165,166,167,168,169,170,171,172,173,174,175,176,177,178,179,180,181,182,183,184,185,186,187,188,189,190,191,192,193,194,195,196,197,198,199,200,201,202,203,204,205,206,207,208,209,210,211,212,213,214,215,216,217,218,219,220,221,222,223,224,225,226,227,228,229,230,231,232,233,234,235,236,237,238,239,240,241,242,243,244,245,246,247,248,249,250,251,252,253,254,255,256,257,258,259,260,261,262,263,264,265,266,267],\"y\":[5.633538799812206,5.615060540952808,5.594004802897756,5.599791372775026,5.619639739177298,5.604661717816338,5.579541174230335,5.57833264283309,5.589418538461871,5.598495989591375,5.622825507230111,5.63232226894489,5.60226644466912,5.60281968960497,null,5.599976354003978,5.5699081813431945,5.5967909926585175,5.606757528813923,5.6257848604638045,5.666772669776365,5.642261639277004,5.627693013983447,5.61902308730608,5.658785066884461,null,5.675074344823598,5.654977278873795,5.665907542999301,5.655222280541628,5.646859306085091,null,null,5.668258915133281,5.677198925788846,5.709698271771833,5.758207523477509,5.745052416832921,null,5.742233693106409,5.726456807988087,5.721556919128409,5.939644766782608,5.964761141164512,null,null,5.994235666507542,5.935793251665016,5.985697982387142,5.974496370907222,null,5.970521747111875,5.957235378840811,5.926259136982707,5.953503056401232,5.96023187562865,null,5.97842998256712,6.016693603591474,6.063715441137631,6.055682702090046,6.0565966724964335,null,null,null,6.082401512425139,6.064831200981765,6.064366435091649,6.045218551962696,null,6.00714104372079,6.037297987331181,6.019006785898098,6.0118062472155565,6.04741943324893,null,null,6.050040023801049,null,6.047774020283088,6.042704087675822,6.052159752315704,6.044531239595171,6.049851344509159,6.084544945068187,6.1307263405164525,6.119615872465185,null,6.14119831171105,6.163188484477715,6.154369628664453,6.12073690917416,6.093772900654251,null,null,6.100587962918589,6.124223786386324,6.119241892848453,6.129050210060545,6.147399348728743,null,null,6.146950069208185,6.1421879469436105,6.09286975534031,6.098411290541077,6.102111040337391,null,6.1184716059155395,6.101752934586199,6.05335897179517,6.049450408102427,6.012614276458546,6.08114527258977,6.0854101462955255,6.075024105713052,6.071753382951034,6.0707146099523595,null,null,6.152030348116473,6.123982911480106,6.155197747580269,6.156194790473063,6.131617702079947,null,null,6.149215892466072,6.189987475040535,6.1997787146243875,6.201624146550251,6.184334432486472,null,null,null,6.185138114896149,6.154029693662732,6.136451952072233,6.121878588024245,null,null,6.113195333465662,6.1063545397258645,6.1199677074592325,6.12207605163025,6.0844994130751715,6.08600171002991,6.075805723115262,6.045929093381592,6.016571739601886,6.030925630408507,null,6.045526507574946,6.038133379510019,6.0513359276623735,6.065852871923509,6.075323019329663,6.104391381594473,6.075736789215541,6.087706120303515,6.1022901133855525,6.126039134478106,null,null,6.115295945595611,6.1268255390569495,6.14859648855532,6.151561822266384,6.119439875541506,null,6.133289603277795,6.0853646536807044,6.044910501484572,6.042656610121809,6.025551902771033,null,6.063203644262958,6.079086165987149,6.034978935480864,5.999581540007827,6.003887067106539,null,6.02007626265496,6.010776828714165,6.047963021013245,6.075483948014489,6.10935866103939,null,6.125798764257638,6.130247723691617,6.143627517033882,6.1516682986483175,6.180741041323979,6.186620086563224,6.2077043180776865,6.192117070814119,6.204153616266109,6.200468627581748,null,null,6.222754815622869,6.213487474757974,6.188592619429764,null,6.169108535281837,null,null,6.178815130870849,6.170049947737798,6.176698512885324,6.147827090389313,6.147720140050452,null,6.120517188206512,6.143455762684061,6.1203633486456726,6.144099774216612,6.163441107636952,null,null,6.14476484188892,6.166614631505206,6.175617769128511,6.181051314893349,6.192157957312151,null,6.216146891872036,6.206656586778269,6.176095903010926,6.1942012763971315,6.190929946492558,null,null,6.200083138068986,6.20287961385032,6.205002110296261,6.205002110296261,null,null,null,6.177279978623723,6.164766385769394,6.173744459284811,6.196383028168302,null,null,6.258682453957862,6.27551507848943,6.298029706561264,6.3066766133401115,6.304631557202113,null,null,null,6.334735064038338,6.32888281645623,6.347511806343882,6.3884100882153865,null,null,6.391146260247741,6.39481071184044,6.419375835897611,6.423522871895878,6.413967021523424,null,null,6.437191531299353,6.442126052072246,6.422061228359805,6.446148330736078,6.494661107433785,null,null,6.541491663169457,6.52536681507582,6.552493607332065,6.545938528584141,6.581096753783073,null,null,6.582689710260116,6.581027451617656,6.6052979209482015,6.588348617344504,6.587729069041567,null,null,null,6.543220988272804,6.514297747017457,6.666167683454676,6.669713781061864,null,null,6.673196803358672,6.6682409675233005,6.654964052914838,6.673449656641582,6.712700977344874,null,null,6.748020698994865,6.75651371440617,6.787844982309579,6.8316190997139,6.774543868300789,null,null,6.754301011603427],\"yaxis\":\"y2\",\"type\":\"scatter\"}],                        {\"template\":{\"data\":{\"histogram2dcontour\":[{\"type\":\"histogram2dcontour\",\"colorbar\":{\"outlinewidth\":0,\"ticks\":\"\"},\"colorscale\":[[0.0,\"#0d0887\"],[0.1111111111111111,\"#46039f\"],[0.2222222222222222,\"#7201a8\"],[0.3333333333333333,\"#9c179e\"],[0.4444444444444444,\"#bd3786\"],[0.5555555555555556,\"#d8576b\"],[0.6666666666666666,\"#ed7953\"],[0.7777777777777778,\"#fb9f3a\"],[0.8888888888888888,\"#fdca26\"],[1.0,\"#f0f921\"]]}],\"choropleth\":[{\"type\":\"choropleth\",\"colorbar\":{\"outlinewidth\":0,\"ticks\":\"\"}}],\"histogram2d\":[{\"type\":\"histogram2d\",\"colorbar\":{\"outlinewidth\":0,\"ticks\":\"\"},\"colorscale\":[[0.0,\"#0d0887\"],[0.1111111111111111,\"#46039f\"],[0.2222222222222222,\"#7201a8\"],[0.3333333333333333,\"#9c179e\"],[0.4444444444444444,\"#bd3786\"],[0.5555555555555556,\"#d8576b\"],[0.6666666666666666,\"#ed7953\"],[0.7777777777777778,\"#fb9f3a\"],[0.8888888888888888,\"#fdca26\"],[1.0,\"#f0f921\"]]}],\"heatmap\":[{\"type\":\"heatmap\",\"colorbar\":{\"outlinewidth\":0,\"ticks\":\"\"},\"colorscale\":[[0.0,\"#0d0887\"],[0.1111111111111111,\"#46039f\"],[0.2222222222222222,\"#7201a8\"],[0.3333333333333333,\"#9c179e\"],[0.4444444444444444,\"#bd3786\"],[0.5555555555555556,\"#d8576b\"],[0.6666666666666666,\"#ed7953\"],[0.7777777777777778,\"#fb9f3a\"],[0.8888888888888888,\"#fdca26\"],[1.0,\"#f0f921\"]]}],\"heatmapgl\":[{\"type\":\"heatmapgl\",\"colorbar\":{\"outlinewidth\":0,\"ticks\":\"\"},\"colorscale\":[[0.0,\"#0d0887\"],[0.1111111111111111,\"#46039f\"],[0.2222222222222222,\"#7201a8\"],[0.3333333333333333,\"#9c179e\"],[0.4444444444444444,\"#bd3786\"],[0.5555555555555556,\"#d8576b\"],[0.6666666666666666,\"#ed7953\"],[0.7777777777777778,\"#fb9f3a\"],[0.8888888888888888,\"#fdca26\"],[1.0,\"#f0f921\"]]}],\"contourcarpet\":[{\"type\":\"contourcarpet\",\"colorbar\":{\"outlinewidth\":0,\"ticks\":\"\"}}],\"contour\":[{\"type\":\"contour\",\"colorbar\":{\"outlinewidth\":0,\"ticks\":\"\"},\"colorscale\":[[0.0,\"#0d0887\"],[0.1111111111111111,\"#46039f\"],[0.2222222222222222,\"#7201a8\"],[0.3333333333333333,\"#9c179e\"],[0.4444444444444444,\"#bd3786\"],[0.5555555555555556,\"#d8576b\"],[0.6666666666666666,\"#ed7953\"],[0.7777777777777778,\"#fb9f3a\"],[0.8888888888888888,\"#fdca26\"],[1.0,\"#f0f921\"]]}],\"surface\":[{\"type\":\"surface\",\"colorbar\":{\"outlinewidth\":0,\"ticks\":\"\"},\"colorscale\":[[0.0,\"#0d0887\"],[0.1111111111111111,\"#46039f\"],[0.2222222222222222,\"#7201a8\"],[0.3333333333333333,\"#9c179e\"],[0.4444444444444444,\"#bd3786\"],[0.5555555555555556,\"#d8576b\"],[0.6666666666666666,\"#ed7953\"],[0.7777777777777778,\"#fb9f3a\"],[0.8888888888888888,\"#fdca26\"],[1.0,\"#f0f921\"]]}],\"mesh3d\":[{\"type\":\"mesh3d\",\"colorbar\":{\"outlinewidth\":0,\"ticks\":\"\"}}],\"scatter\":[{\"fillpattern\":{\"fillmode\":\"overlay\",\"size\":10,\"solidity\":0.2},\"type\":\"scatter\"}],\"parcoords\":[{\"type\":\"parcoords\",\"line\":{\"colorbar\":{\"outlinewidth\":0,\"ticks\":\"\"}}}],\"scatterpolargl\":[{\"type\":\"scatterpolargl\",\"marker\":{\"colorbar\":{\"outlinewidth\":0,\"ticks\":\"\"}}}],\"bar\":[{\"error_x\":{\"color\":\"#2a3f5f\"},\"error_y\":{\"color\":\"#2a3f5f\"},\"marker\":{\"line\":{\"color\":\"#E5ECF6\",\"width\":0.5},\"pattern\":{\"fillmode\":\"overlay\",\"size\":10,\"solidity\":0.2}},\"type\":\"bar\"}],\"scattergeo\":[{\"type\":\"scattergeo\",\"marker\":{\"colorbar\":{\"outlinewidth\":0,\"ticks\":\"\"}}}],\"scatterpolar\":[{\"type\":\"scatterpolar\",\"marker\":{\"colorbar\":{\"outlinewidth\":0,\"ticks\":\"\"}}}],\"histogram\":[{\"marker\":{\"pattern\":{\"fillmode\":\"overlay\",\"size\":10,\"solidity\":0.2}},\"type\":\"histogram\"}],\"scattergl\":[{\"type\":\"scattergl\",\"marker\":{\"colorbar\":{\"outlinewidth\":0,\"ticks\":\"\"}}}],\"scatter3d\":[{\"type\":\"scatter3d\",\"line\":{\"colorbar\":{\"outlinewidth\":0,\"ticks\":\"\"}},\"marker\":{\"colorbar\":{\"outlinewidth\":0,\"ticks\":\"\"}}}],\"scattermapbox\":[{\"type\":\"scattermapbox\",\"marker\":{\"colorbar\":{\"outlinewidth\":0,\"ticks\":\"\"}}}],\"scatterternary\":[{\"type\":\"scatterternary\",\"marker\":{\"colorbar\":{\"outlinewidth\":0,\"ticks\":\"\"}}}],\"scattercarpet\":[{\"type\":\"scattercarpet\",\"marker\":{\"colorbar\":{\"outlinewidth\":0,\"ticks\":\"\"}}}],\"carpet\":[{\"aaxis\":{\"endlinecolor\":\"#2a3f5f\",\"gridcolor\":\"white\",\"linecolor\":\"white\",\"minorgridcolor\":\"white\",\"startlinecolor\":\"#2a3f5f\"},\"baxis\":{\"endlinecolor\":\"#2a3f5f\",\"gridcolor\":\"white\",\"linecolor\":\"white\",\"minorgridcolor\":\"white\",\"startlinecolor\":\"#2a3f5f\"},\"type\":\"carpet\"}],\"table\":[{\"cells\":{\"fill\":{\"color\":\"#EBF0F8\"},\"line\":{\"color\":\"white\"}},\"header\":{\"fill\":{\"color\":\"#C8D4E3\"},\"line\":{\"color\":\"white\"}},\"type\":\"table\"}],\"barpolar\":[{\"marker\":{\"line\":{\"color\":\"#E5ECF6\",\"width\":0.5},\"pattern\":{\"fillmode\":\"overlay\",\"size\":10,\"solidity\":0.2}},\"type\":\"barpolar\"}],\"pie\":[{\"automargin\":true,\"type\":\"pie\"}]},\"layout\":{\"autotypenumbers\":\"strict\",\"colorway\":[\"#636efa\",\"#EF553B\",\"#00cc96\",\"#ab63fa\",\"#FFA15A\",\"#19d3f3\",\"#FF6692\",\"#B6E880\",\"#FF97FF\",\"#FECB52\"],\"font\":{\"color\":\"#2a3f5f\"},\"hovermode\":\"closest\",\"hoverlabel\":{\"align\":\"left\"},\"paper_bgcolor\":\"white\",\"plot_bgcolor\":\"#E5ECF6\",\"polar\":{\"bgcolor\":\"#E5ECF6\",\"angularaxis\":{\"gridcolor\":\"white\",\"linecolor\":\"white\",\"ticks\":\"\"},\"radialaxis\":{\"gridcolor\":\"white\",\"linecolor\":\"white\",\"ticks\":\"\"}},\"ternary\":{\"bgcolor\":\"#E5ECF6\",\"aaxis\":{\"gridcolor\":\"white\",\"linecolor\":\"white\",\"ticks\":\"\"},\"baxis\":{\"gridcolor\":\"white\",\"linecolor\":\"white\",\"ticks\":\"\"},\"caxis\":{\"gridcolor\":\"white\",\"linecolor\":\"white\",\"ticks\":\"\"}},\"coloraxis\":{\"colorbar\":{\"outlinewidth\":0,\"ticks\":\"\"}},\"colorscale\":{\"sequential\":[[0.0,\"#0d0887\"],[0.1111111111111111,\"#46039f\"],[0.2222222222222222,\"#7201a8\"],[0.3333333333333333,\"#9c179e\"],[0.4444444444444444,\"#bd3786\"],[0.5555555555555556,\"#d8576b\"],[0.6666666666666666,\"#ed7953\"],[0.7777777777777778,\"#fb9f3a\"],[0.8888888888888888,\"#fdca26\"],[1.0,\"#f0f921\"]],\"sequentialminus\":[[0.0,\"#0d0887\"],[0.1111111111111111,\"#46039f\"],[0.2222222222222222,\"#7201a8\"],[0.3333333333333333,\"#9c179e\"],[0.4444444444444444,\"#bd3786\"],[0.5555555555555556,\"#d8576b\"],[0.6666666666666666,\"#ed7953\"],[0.7777777777777778,\"#fb9f3a\"],[0.8888888888888888,\"#fdca26\"],[1.0,\"#f0f921\"]],\"diverging\":[[0,\"#8e0152\"],[0.1,\"#c51b7d\"],[0.2,\"#de77ae\"],[0.3,\"#f1b6da\"],[0.4,\"#fde0ef\"],[0.5,\"#f7f7f7\"],[0.6,\"#e6f5d0\"],[0.7,\"#b8e186\"],[0.8,\"#7fbc41\"],[0.9,\"#4d9221\"],[1,\"#276419\"]]},\"xaxis\":{\"gridcolor\":\"white\",\"linecolor\":\"white\",\"ticks\":\"\",\"title\":{\"standoff\":15},\"zerolinecolor\":\"white\",\"automargin\":true,\"zerolinewidth\":2},\"yaxis\":{\"gridcolor\":\"white\",\"linecolor\":\"white\",\"ticks\":\"\",\"title\":{\"standoff\":15},\"zerolinecolor\":\"white\",\"automargin\":true,\"zerolinewidth\":2},\"scene\":{\"xaxis\":{\"backgroundcolor\":\"#E5ECF6\",\"gridcolor\":\"white\",\"linecolor\":\"white\",\"showbackground\":true,\"ticks\":\"\",\"zerolinecolor\":\"white\",\"gridwidth\":2},\"yaxis\":{\"backgroundcolor\":\"#E5ECF6\",\"gridcolor\":\"white\",\"linecolor\":\"white\",\"showbackground\":true,\"ticks\":\"\",\"zerolinecolor\":\"white\",\"gridwidth\":2},\"zaxis\":{\"backgroundcolor\":\"#E5ECF6\",\"gridcolor\":\"white\",\"linecolor\":\"white\",\"showbackground\":true,\"ticks\":\"\",\"zerolinecolor\":\"white\",\"gridwidth\":2}},\"shapedefaults\":{\"line\":{\"color\":\"#2a3f5f\"}},\"annotationdefaults\":{\"arrowcolor\":\"#2a3f5f\",\"arrowhead\":0,\"arrowwidth\":1},\"geo\":{\"bgcolor\":\"white\",\"landcolor\":\"#E5ECF6\",\"subunitcolor\":\"white\",\"showland\":true,\"showlakes\":true,\"lakecolor\":\"white\"},\"title\":{\"x\":0.05},\"mapbox\":{\"style\":\"light\"}}},\"xaxis\":{\"title\":{\"text\":\"Time\"},\"tickangle\":45},\"yaxis\":{\"title\":{\"text\":\"Popularity Index\"},\"side\":\"left\",\"showgrid\":false,\"zeroline\":false,\"color\":\"firebrick\"},\"yaxis2\":{\"title\":{\"text\":\"Stock Price\"},\"side\":\"right\",\"overlaying\":\"y\",\"showgrid\":false,\"zeroline\":false,\"color\":\"royalblue\"},\"title\":{\"text\":\"Popularity Index and Stock Price Over Time\"}},                        {\"responsive\": true}                    ).then(function(){\n",
       "                            \n",
       "var gd = document.getElementById('d0d32d2e-9ef7-43e1-816b-260db527e3c1');\n",
       "var x = new MutationObserver(function (mutations, observer) {{\n",
       "        var display = window.getComputedStyle(gd).display;\n",
       "        if (!display || display === 'none') {{\n",
       "            console.log([gd, 'removed!']);\n",
       "            Plotly.purge(gd);\n",
       "            observer.disconnect();\n",
       "        }}\n",
       "}});\n",
       "\n",
       "// Listen for the removal of the full notebook cells\n",
       "var notebookContainer = gd.closest('#notebook-container');\n",
       "if (notebookContainer) {{\n",
       "    x.observe(notebookContainer, {childList: true});\n",
       "}}\n",
       "\n",
       "// Listen for the clearing of the current output cell\n",
       "var outputEl = gd.closest('.output');\n",
       "if (outputEl) {{\n",
       "    x.observe(outputEl, {childList: true});\n",
       "}}\n",
       "\n",
       "                        })                };                });            </script>        </div>"
      ]
     },
     "metadata": {},
     "output_type": "display_data"
    },
    {
     "data": {
      "application/vnd.plotly.v1+json": {
       "config": {
        "plotlyServerURL": "https://plot.ly"
       },
       "data": [
        {
         "line": {
          "color": "firebrick"
         },
         "mode": "lines",
         "name": "Heat Index",
         "type": "scatter",
         "x": [
          0,
          1,
          2,
          3,
          4,
          5,
          6,
          7,
          8,
          9,
          10,
          11,
          12,
          13,
          14,
          15,
          16,
          17,
          18,
          19,
          20,
          21,
          22,
          23,
          24,
          25,
          26,
          27,
          28,
          29,
          30,
          31,
          32,
          33,
          34,
          35,
          36,
          37,
          38,
          39,
          40,
          41,
          42,
          43,
          44,
          45,
          46,
          47,
          48,
          49,
          50,
          51,
          52,
          53,
          54,
          55,
          56,
          57,
          58,
          59,
          60,
          61,
          62,
          63,
          64,
          65,
          66,
          67,
          68,
          69,
          70,
          71,
          72,
          73,
          74,
          75,
          76,
          77,
          78,
          79,
          80,
          81,
          82,
          83,
          84,
          85,
          86,
          87,
          88,
          89,
          90,
          91,
          92,
          93,
          94,
          95,
          96,
          97,
          98,
          99,
          100,
          101,
          102,
          103,
          104,
          105,
          106,
          107,
          108,
          109,
          110,
          111,
          112,
          113,
          114,
          115,
          116,
          117,
          118,
          119,
          120,
          121,
          122,
          123,
          124,
          125,
          126,
          127,
          128,
          129,
          130,
          131,
          132,
          133,
          134,
          135,
          136,
          137,
          138,
          139,
          140,
          141,
          142,
          143,
          144,
          145,
          146,
          147,
          148,
          149,
          150,
          151,
          152,
          153,
          154,
          155,
          156,
          157,
          158,
          159,
          160,
          161,
          162,
          163,
          164,
          165,
          166,
          167,
          168,
          169,
          170,
          171,
          172,
          173,
          174,
          175,
          176,
          177,
          178,
          179,
          180,
          181,
          182,
          183,
          184,
          185,
          186,
          187,
          188,
          189,
          190,
          191,
          192,
          193,
          194,
          195,
          196,
          197,
          198,
          199,
          200,
          201,
          202,
          203,
          204,
          205,
          206,
          207,
          208,
          209,
          210,
          211,
          212,
          213,
          214,
          215,
          216,
          217,
          218,
          219,
          220,
          221,
          222,
          223,
          224,
          225,
          226,
          227,
          228,
          229,
          230,
          231,
          232,
          233,
          234,
          235,
          236,
          237,
          238,
          239,
          240,
          241,
          242,
          243,
          244,
          245,
          246,
          247,
          248,
          249,
          250,
          251,
          252,
          253,
          254,
          255,
          256,
          257,
          258,
          259,
          260,
          261,
          262
         ],
         "y": [
          0,
          0,
          0,
          0,
          261,
          0,
          0,
          0,
          0,
          0,
          0,
          0,
          0,
          0,
          0,
          0,
          0,
          0,
          0,
          0,
          0,
          0,
          0,
          0,
          0,
          0,
          0,
          0,
          0,
          0,
          0,
          0,
          95,
          145,
          0,
          225,
          0,
          328,
          2111,
          98,
          262,
          575,
          360,
          0,
          0,
          0,
          58,
          0,
          0,
          0,
          0,
          0,
          0,
          341,
          313,
          0,
          692,
          0,
          119,
          275,
          0,
          0,
          0,
          0,
          0,
          0,
          65,
          0,
          0,
          0,
          0,
          0,
          0,
          0,
          0,
          0,
          384,
          348,
          0,
          175,
          0,
          0,
          0,
          237,
          0,
          0,
          0,
          0,
          0,
          0,
          0,
          0,
          0,
          197,
          0,
          0,
          0,
          0,
          494,
          0,
          120,
          258,
          0,
          277,
          0,
          426,
          273,
          722,
          246,
          209,
          0,
          974,
          0,
          0,
          0,
          0,
          0,
          0,
          0,
          0,
          0,
          0,
          0,
          0,
          196,
          0,
          0,
          0,
          0,
          0,
          0,
          0,
          0,
          0,
          0,
          0,
          0,
          0,
          0,
          0,
          168,
          0,
          0,
          0,
          0,
          0,
          0,
          176,
          0,
          71,
          0,
          0,
          0,
          0,
          0,
          0,
          0,
          0,
          0,
          0,
          0,
          0,
          0,
          0,
          0,
          0,
          0,
          224,
          113,
          0,
          0,
          0,
          64,
          754,
          687,
          0,
          279,
          0,
          0,
          0,
          0,
          0,
          0,
          0,
          0,
          0,
          0,
          0,
          137,
          0,
          0,
          0,
          0,
          0,
          0,
          0,
          0,
          0,
          0,
          0,
          0,
          0,
          0,
          0,
          0,
          0,
          1426,
          0,
          214,
          0,
          85,
          0,
          21,
          88,
          55,
          128,
          336,
          0,
          0,
          0,
          0,
          151,
          0,
          0,
          0,
          0,
          72,
          678,
          1609,
          111,
          630,
          1936,
          1045,
          1275,
          685,
          990,
          1230,
          285,
          302,
          1071,
          1238,
          860,
          1308,
          2203,
          2090,
          43,
          548,
          41,
          715,
          273,
          440,
          107,
          351,
          1129,
          0,
          1002,
          196,
          650,
          3482,
          2934,
          576,
          1920,
          495
         ]
        },
        {
         "line": {
          "color": "royalblue"
         },
         "mode": "lines",
         "name": "Close",
         "type": "scatter",
         "x": [
          0,
          1,
          2,
          3,
          4,
          5,
          6,
          7,
          8,
          9,
          10,
          11,
          12,
          13,
          14,
          15,
          16,
          17,
          18,
          19,
          20,
          21,
          22,
          23,
          24,
          25,
          26,
          27,
          28,
          29,
          30,
          31,
          32,
          33,
          34,
          35,
          36,
          37,
          38,
          39,
          40,
          41,
          42,
          43,
          44,
          45,
          46,
          47,
          48,
          49,
          50,
          51,
          52,
          53,
          54,
          55,
          56,
          57,
          58,
          59,
          60,
          61,
          62,
          63,
          64,
          65,
          66,
          67,
          68,
          69,
          70,
          71,
          72,
          73,
          74,
          75,
          76,
          77,
          78,
          79,
          80,
          81,
          82,
          83,
          84,
          85,
          86,
          87,
          88,
          89,
          90,
          91,
          92,
          93,
          94,
          95,
          96,
          97,
          98,
          99,
          100,
          101,
          102,
          103,
          104,
          105,
          106,
          107,
          108,
          109,
          110,
          111,
          112,
          113,
          114,
          115,
          116,
          117,
          118,
          119,
          120,
          121,
          122,
          123,
          124,
          125,
          126,
          127,
          128,
          129,
          130,
          131,
          132,
          133,
          134,
          135,
          136,
          137,
          138,
          139,
          140,
          141,
          142,
          143,
          144,
          145,
          146,
          147,
          148,
          149,
          150,
          151,
          152,
          153,
          154,
          155,
          156,
          157,
          158,
          159,
          160,
          161,
          162,
          163,
          164,
          165,
          166,
          167,
          168,
          169,
          170,
          171,
          172,
          173,
          174,
          175,
          176,
          177,
          178,
          179,
          180,
          181,
          182,
          183,
          184,
          185,
          186,
          187,
          188,
          189,
          190,
          191,
          192,
          193,
          194,
          195,
          196,
          197,
          198,
          199,
          200,
          201,
          202,
          203,
          204,
          205,
          206,
          207,
          208,
          209,
          210,
          211,
          212,
          213,
          214,
          215,
          216,
          217,
          218,
          219,
          220,
          221,
          222,
          223,
          224,
          225,
          226,
          227,
          228,
          229,
          230,
          231,
          232,
          233,
          234,
          235,
          236,
          237,
          238,
          239,
          240,
          241,
          242,
          243,
          244,
          245,
          246,
          247,
          248,
          249,
          250,
          251,
          252,
          253,
          254,
          255,
          256,
          257,
          258,
          259,
          260,
          261,
          262
         ],
         "y": [
          5.633538799812206,
          5.615060540952808,
          5.594004802897756,
          5.599791372775026,
          5.619639739177298,
          5.604661717816338,
          5.579541174230335,
          5.57833264283309,
          5.589418538461871,
          5.598495989591375,
          5.622825507230111,
          5.63232226894489,
          5.60226644466912,
          5.60281968960497,
          null,
          5.599976354003978,
          5.5699081813431945,
          5.5967909926585175,
          5.606757528813923,
          5.6257848604638045,
          5.666772669776365,
          5.642261639277004,
          5.627693013983447,
          5.61902308730608,
          5.658785066884461,
          null,
          5.675074344823598,
          5.654977278873795,
          5.665907542999301,
          5.655222280541628,
          5.646859306085091,
          null,
          null,
          5.668258915133281,
          5.677198925788846,
          5.709698271771833,
          5.758207523477509,
          5.745052416832921,
          null,
          5.742233693106409,
          5.726456807988087,
          5.721556919128409,
          5.939644766782608,
          5.964761141164512,
          null,
          null,
          5.994235666507542,
          5.935793251665016,
          5.985697982387142,
          5.974496370907222,
          null,
          5.970521747111875,
          5.957235378840811,
          5.926259136982707,
          5.953503056401232,
          5.96023187562865,
          null,
          5.97842998256712,
          6.016693603591474,
          6.063715441137631,
          6.055682702090046,
          6.0565966724964335,
          null,
          null,
          null,
          6.082401512425139,
          6.064831200981765,
          6.064366435091649,
          6.045218551962696,
          null,
          6.00714104372079,
          6.037297987331181,
          6.019006785898098,
          6.0118062472155565,
          6.04741943324893,
          null,
          null,
          6.050040023801049,
          null,
          6.047774020283088,
          6.042704087675822,
          6.052159752315704,
          6.044531239595171,
          6.049851344509159,
          6.084544945068187,
          6.1307263405164525,
          6.119615872465185,
          null,
          6.14119831171105,
          6.163188484477715,
          6.154369628664453,
          6.12073690917416,
          6.093772900654251,
          null,
          null,
          6.100587962918589,
          6.124223786386324,
          6.119241892848453,
          6.129050210060545,
          6.147399348728743,
          null,
          null,
          6.146950069208185,
          6.1421879469436105,
          6.09286975534031,
          6.098411290541077,
          6.102111040337391,
          null,
          6.1184716059155395,
          6.101752934586199,
          6.05335897179517,
          6.049450408102427,
          6.012614276458546,
          6.08114527258977,
          6.0854101462955255,
          6.075024105713052,
          6.071753382951034,
          6.0707146099523595,
          null,
          null,
          6.152030348116473,
          6.123982911480106,
          6.155197747580269,
          6.156194790473063,
          6.131617702079947,
          null,
          null,
          6.149215892466072,
          6.189987475040535,
          6.1997787146243875,
          6.201624146550251,
          6.184334432486472,
          null,
          null,
          null,
          6.185138114896149,
          6.154029693662732,
          6.136451952072233,
          6.121878588024245,
          null,
          null,
          6.113195333465662,
          6.1063545397258645,
          6.1199677074592325,
          6.12207605163025,
          6.0844994130751715,
          6.08600171002991,
          6.075805723115262,
          6.045929093381592,
          6.016571739601886,
          6.030925630408507,
          null,
          6.045526507574946,
          6.038133379510019,
          6.0513359276623735,
          6.065852871923509,
          6.075323019329663,
          6.104391381594473,
          6.075736789215541,
          6.087706120303515,
          6.1022901133855525,
          6.126039134478106,
          null,
          null,
          6.115295945595611,
          6.1268255390569495,
          6.14859648855532,
          6.151561822266384,
          6.119439875541506,
          null,
          6.133289603277795,
          6.0853646536807044,
          6.044910501484572,
          6.042656610121809,
          6.025551902771033,
          null,
          6.063203644262958,
          6.079086165987149,
          6.034978935480864,
          5.999581540007827,
          6.003887067106539,
          null,
          6.02007626265496,
          6.010776828714165,
          6.047963021013245,
          6.075483948014489,
          6.10935866103939,
          null,
          6.125798764257638,
          6.130247723691617,
          6.143627517033882,
          6.1516682986483175,
          6.180741041323979,
          6.186620086563224,
          6.2077043180776865,
          6.192117070814119,
          6.204153616266109,
          6.200468627581748,
          null,
          null,
          6.222754815622869,
          6.213487474757974,
          6.188592619429764,
          null,
          6.169108535281837,
          null,
          null,
          6.178815130870849,
          6.170049947737798,
          6.176698512885324,
          6.147827090389313,
          6.147720140050452,
          null,
          6.120517188206512,
          6.143455762684061,
          6.1203633486456726,
          6.144099774216612,
          6.163441107636952,
          null,
          null,
          6.14476484188892,
          6.166614631505206,
          6.175617769128511,
          6.181051314893349,
          6.192157957312151,
          null,
          6.216146891872036,
          6.206656586778269,
          6.176095903010926,
          6.1942012763971315,
          6.190929946492558,
          null,
          null,
          6.200083138068986,
          6.20287961385032,
          6.205002110296261,
          6.205002110296261,
          null,
          null,
          null,
          6.177279978623723,
          6.164766385769394,
          6.173744459284811,
          6.196383028168302,
          null,
          null,
          6.258682453957862,
          6.27551507848943,
          6.298029706561264,
          6.3066766133401115,
          6.304631557202113,
          null,
          null,
          null,
          6.334735064038338,
          6.32888281645623,
          6.347511806343882,
          6.3884100882153865,
          null,
          null,
          6.391146260247741,
          6.39481071184044,
          6.419375835897611,
          6.423522871895878,
          6.413967021523424,
          null,
          null,
          6.437191531299353,
          6.442126052072246,
          6.422061228359805,
          6.446148330736078,
          6.494661107433785,
          null,
          null,
          6.541491663169457,
          6.52536681507582,
          6.552493607332065,
          6.545938528584141,
          6.581096753783073,
          null,
          null,
          6.582689710260116,
          6.581027451617656,
          6.6052979209482015,
          6.588348617344504,
          6.587729069041567,
          null,
          null,
          null,
          6.543220988272804,
          6.514297747017457,
          6.666167683454676,
          6.669713781061864,
          null,
          null,
          6.673196803358672,
          6.6682409675233005,
          6.654964052914838,
          6.673449656641582,
          6.712700977344874,
          null,
          null,
          6.748020698994865,
          6.75651371440617,
          6.787844982309579,
          6.8316190997139,
          6.774543868300789,
          null,
          null,
          6.754301011603427
         ],
         "yaxis": "y2"
        }
       ],
       "layout": {
        "template": {
         "data": {
          "bar": [
           {
            "error_x": {
             "color": "#2a3f5f"
            },
            "error_y": {
             "color": "#2a3f5f"
            },
            "marker": {
             "line": {
              "color": "#E5ECF6",
              "width": 0.5
             },
             "pattern": {
              "fillmode": "overlay",
              "size": 10,
              "solidity": 0.2
             }
            },
            "type": "bar"
           }
          ],
          "barpolar": [
           {
            "marker": {
             "line": {
              "color": "#E5ECF6",
              "width": 0.5
             },
             "pattern": {
              "fillmode": "overlay",
              "size": 10,
              "solidity": 0.2
             }
            },
            "type": "barpolar"
           }
          ],
          "carpet": [
           {
            "aaxis": {
             "endlinecolor": "#2a3f5f",
             "gridcolor": "white",
             "linecolor": "white",
             "minorgridcolor": "white",
             "startlinecolor": "#2a3f5f"
            },
            "baxis": {
             "endlinecolor": "#2a3f5f",
             "gridcolor": "white",
             "linecolor": "white",
             "minorgridcolor": "white",
             "startlinecolor": "#2a3f5f"
            },
            "type": "carpet"
           }
          ],
          "choropleth": [
           {
            "colorbar": {
             "outlinewidth": 0,
             "ticks": ""
            },
            "type": "choropleth"
           }
          ],
          "contour": [
           {
            "colorbar": {
             "outlinewidth": 0,
             "ticks": ""
            },
            "colorscale": [
             [
              0,
              "#0d0887"
             ],
             [
              0.1111111111111111,
              "#46039f"
             ],
             [
              0.2222222222222222,
              "#7201a8"
             ],
             [
              0.3333333333333333,
              "#9c179e"
             ],
             [
              0.4444444444444444,
              "#bd3786"
             ],
             [
              0.5555555555555556,
              "#d8576b"
             ],
             [
              0.6666666666666666,
              "#ed7953"
             ],
             [
              0.7777777777777778,
              "#fb9f3a"
             ],
             [
              0.8888888888888888,
              "#fdca26"
             ],
             [
              1,
              "#f0f921"
             ]
            ],
            "type": "contour"
           }
          ],
          "contourcarpet": [
           {
            "colorbar": {
             "outlinewidth": 0,
             "ticks": ""
            },
            "type": "contourcarpet"
           }
          ],
          "heatmap": [
           {
            "colorbar": {
             "outlinewidth": 0,
             "ticks": ""
            },
            "colorscale": [
             [
              0,
              "#0d0887"
             ],
             [
              0.1111111111111111,
              "#46039f"
             ],
             [
              0.2222222222222222,
              "#7201a8"
             ],
             [
              0.3333333333333333,
              "#9c179e"
             ],
             [
              0.4444444444444444,
              "#bd3786"
             ],
             [
              0.5555555555555556,
              "#d8576b"
             ],
             [
              0.6666666666666666,
              "#ed7953"
             ],
             [
              0.7777777777777778,
              "#fb9f3a"
             ],
             [
              0.8888888888888888,
              "#fdca26"
             ],
             [
              1,
              "#f0f921"
             ]
            ],
            "type": "heatmap"
           }
          ],
          "heatmapgl": [
           {
            "colorbar": {
             "outlinewidth": 0,
             "ticks": ""
            },
            "colorscale": [
             [
              0,
              "#0d0887"
             ],
             [
              0.1111111111111111,
              "#46039f"
             ],
             [
              0.2222222222222222,
              "#7201a8"
             ],
             [
              0.3333333333333333,
              "#9c179e"
             ],
             [
              0.4444444444444444,
              "#bd3786"
             ],
             [
              0.5555555555555556,
              "#d8576b"
             ],
             [
              0.6666666666666666,
              "#ed7953"
             ],
             [
              0.7777777777777778,
              "#fb9f3a"
             ],
             [
              0.8888888888888888,
              "#fdca26"
             ],
             [
              1,
              "#f0f921"
             ]
            ],
            "type": "heatmapgl"
           }
          ],
          "histogram": [
           {
            "marker": {
             "pattern": {
              "fillmode": "overlay",
              "size": 10,
              "solidity": 0.2
             }
            },
            "type": "histogram"
           }
          ],
          "histogram2d": [
           {
            "colorbar": {
             "outlinewidth": 0,
             "ticks": ""
            },
            "colorscale": [
             [
              0,
              "#0d0887"
             ],
             [
              0.1111111111111111,
              "#46039f"
             ],
             [
              0.2222222222222222,
              "#7201a8"
             ],
             [
              0.3333333333333333,
              "#9c179e"
             ],
             [
              0.4444444444444444,
              "#bd3786"
             ],
             [
              0.5555555555555556,
              "#d8576b"
             ],
             [
              0.6666666666666666,
              "#ed7953"
             ],
             [
              0.7777777777777778,
              "#fb9f3a"
             ],
             [
              0.8888888888888888,
              "#fdca26"
             ],
             [
              1,
              "#f0f921"
             ]
            ],
            "type": "histogram2d"
           }
          ],
          "histogram2dcontour": [
           {
            "colorbar": {
             "outlinewidth": 0,
             "ticks": ""
            },
            "colorscale": [
             [
              0,
              "#0d0887"
             ],
             [
              0.1111111111111111,
              "#46039f"
             ],
             [
              0.2222222222222222,
              "#7201a8"
             ],
             [
              0.3333333333333333,
              "#9c179e"
             ],
             [
              0.4444444444444444,
              "#bd3786"
             ],
             [
              0.5555555555555556,
              "#d8576b"
             ],
             [
              0.6666666666666666,
              "#ed7953"
             ],
             [
              0.7777777777777778,
              "#fb9f3a"
             ],
             [
              0.8888888888888888,
              "#fdca26"
             ],
             [
              1,
              "#f0f921"
             ]
            ],
            "type": "histogram2dcontour"
           }
          ],
          "mesh3d": [
           {
            "colorbar": {
             "outlinewidth": 0,
             "ticks": ""
            },
            "type": "mesh3d"
           }
          ],
          "parcoords": [
           {
            "line": {
             "colorbar": {
              "outlinewidth": 0,
              "ticks": ""
             }
            },
            "type": "parcoords"
           }
          ],
          "pie": [
           {
            "automargin": true,
            "type": "pie"
           }
          ],
          "scatter": [
           {
            "fillpattern": {
             "fillmode": "overlay",
             "size": 10,
             "solidity": 0.2
            },
            "type": "scatter"
           }
          ],
          "scatter3d": [
           {
            "line": {
             "colorbar": {
              "outlinewidth": 0,
              "ticks": ""
             }
            },
            "marker": {
             "colorbar": {
              "outlinewidth": 0,
              "ticks": ""
             }
            },
            "type": "scatter3d"
           }
          ],
          "scattercarpet": [
           {
            "marker": {
             "colorbar": {
              "outlinewidth": 0,
              "ticks": ""
             }
            },
            "type": "scattercarpet"
           }
          ],
          "scattergeo": [
           {
            "marker": {
             "colorbar": {
              "outlinewidth": 0,
              "ticks": ""
             }
            },
            "type": "scattergeo"
           }
          ],
          "scattergl": [
           {
            "marker": {
             "colorbar": {
              "outlinewidth": 0,
              "ticks": ""
             }
            },
            "type": "scattergl"
           }
          ],
          "scattermapbox": [
           {
            "marker": {
             "colorbar": {
              "outlinewidth": 0,
              "ticks": ""
             }
            },
            "type": "scattermapbox"
           }
          ],
          "scatterpolar": [
           {
            "marker": {
             "colorbar": {
              "outlinewidth": 0,
              "ticks": ""
             }
            },
            "type": "scatterpolar"
           }
          ],
          "scatterpolargl": [
           {
            "marker": {
             "colorbar": {
              "outlinewidth": 0,
              "ticks": ""
             }
            },
            "type": "scatterpolargl"
           }
          ],
          "scatterternary": [
           {
            "marker": {
             "colorbar": {
              "outlinewidth": 0,
              "ticks": ""
             }
            },
            "type": "scatterternary"
           }
          ],
          "surface": [
           {
            "colorbar": {
             "outlinewidth": 0,
             "ticks": ""
            },
            "colorscale": [
             [
              0,
              "#0d0887"
             ],
             [
              0.1111111111111111,
              "#46039f"
             ],
             [
              0.2222222222222222,
              "#7201a8"
             ],
             [
              0.3333333333333333,
              "#9c179e"
             ],
             [
              0.4444444444444444,
              "#bd3786"
             ],
             [
              0.5555555555555556,
              "#d8576b"
             ],
             [
              0.6666666666666666,
              "#ed7953"
             ],
             [
              0.7777777777777778,
              "#fb9f3a"
             ],
             [
              0.8888888888888888,
              "#fdca26"
             ],
             [
              1,
              "#f0f921"
             ]
            ],
            "type": "surface"
           }
          ],
          "table": [
           {
            "cells": {
             "fill": {
              "color": "#EBF0F8"
             },
             "line": {
              "color": "white"
             }
            },
            "header": {
             "fill": {
              "color": "#C8D4E3"
             },
             "line": {
              "color": "white"
             }
            },
            "type": "table"
           }
          ]
         },
         "layout": {
          "annotationdefaults": {
           "arrowcolor": "#2a3f5f",
           "arrowhead": 0,
           "arrowwidth": 1
          },
          "autotypenumbers": "strict",
          "coloraxis": {
           "colorbar": {
            "outlinewidth": 0,
            "ticks": ""
           }
          },
          "colorscale": {
           "diverging": [
            [
             0,
             "#8e0152"
            ],
            [
             0.1,
             "#c51b7d"
            ],
            [
             0.2,
             "#de77ae"
            ],
            [
             0.3,
             "#f1b6da"
            ],
            [
             0.4,
             "#fde0ef"
            ],
            [
             0.5,
             "#f7f7f7"
            ],
            [
             0.6,
             "#e6f5d0"
            ],
            [
             0.7,
             "#b8e186"
            ],
            [
             0.8,
             "#7fbc41"
            ],
            [
             0.9,
             "#4d9221"
            ],
            [
             1,
             "#276419"
            ]
           ],
           "sequential": [
            [
             0,
             "#0d0887"
            ],
            [
             0.1111111111111111,
             "#46039f"
            ],
            [
             0.2222222222222222,
             "#7201a8"
            ],
            [
             0.3333333333333333,
             "#9c179e"
            ],
            [
             0.4444444444444444,
             "#bd3786"
            ],
            [
             0.5555555555555556,
             "#d8576b"
            ],
            [
             0.6666666666666666,
             "#ed7953"
            ],
            [
             0.7777777777777778,
             "#fb9f3a"
            ],
            [
             0.8888888888888888,
             "#fdca26"
            ],
            [
             1,
             "#f0f921"
            ]
           ],
           "sequentialminus": [
            [
             0,
             "#0d0887"
            ],
            [
             0.1111111111111111,
             "#46039f"
            ],
            [
             0.2222222222222222,
             "#7201a8"
            ],
            [
             0.3333333333333333,
             "#9c179e"
            ],
            [
             0.4444444444444444,
             "#bd3786"
            ],
            [
             0.5555555555555556,
             "#d8576b"
            ],
            [
             0.6666666666666666,
             "#ed7953"
            ],
            [
             0.7777777777777778,
             "#fb9f3a"
            ],
            [
             0.8888888888888888,
             "#fdca26"
            ],
            [
             1,
             "#f0f921"
            ]
           ]
          },
          "colorway": [
           "#636efa",
           "#EF553B",
           "#00cc96",
           "#ab63fa",
           "#FFA15A",
           "#19d3f3",
           "#FF6692",
           "#B6E880",
           "#FF97FF",
           "#FECB52"
          ],
          "font": {
           "color": "#2a3f5f"
          },
          "geo": {
           "bgcolor": "white",
           "lakecolor": "white",
           "landcolor": "#E5ECF6",
           "showlakes": true,
           "showland": true,
           "subunitcolor": "white"
          },
          "hoverlabel": {
           "align": "left"
          },
          "hovermode": "closest",
          "mapbox": {
           "style": "light"
          },
          "paper_bgcolor": "white",
          "plot_bgcolor": "#E5ECF6",
          "polar": {
           "angularaxis": {
            "gridcolor": "white",
            "linecolor": "white",
            "ticks": ""
           },
           "bgcolor": "#E5ECF6",
           "radialaxis": {
            "gridcolor": "white",
            "linecolor": "white",
            "ticks": ""
           }
          },
          "scene": {
           "xaxis": {
            "backgroundcolor": "#E5ECF6",
            "gridcolor": "white",
            "gridwidth": 2,
            "linecolor": "white",
            "showbackground": true,
            "ticks": "",
            "zerolinecolor": "white"
           },
           "yaxis": {
            "backgroundcolor": "#E5ECF6",
            "gridcolor": "white",
            "gridwidth": 2,
            "linecolor": "white",
            "showbackground": true,
            "ticks": "",
            "zerolinecolor": "white"
           },
           "zaxis": {
            "backgroundcolor": "#E5ECF6",
            "gridcolor": "white",
            "gridwidth": 2,
            "linecolor": "white",
            "showbackground": true,
            "ticks": "",
            "zerolinecolor": "white"
           }
          },
          "shapedefaults": {
           "line": {
            "color": "#2a3f5f"
           }
          },
          "ternary": {
           "aaxis": {
            "gridcolor": "white",
            "linecolor": "white",
            "ticks": ""
           },
           "baxis": {
            "gridcolor": "white",
            "linecolor": "white",
            "ticks": ""
           },
           "bgcolor": "#E5ECF6",
           "caxis": {
            "gridcolor": "white",
            "linecolor": "white",
            "ticks": ""
           }
          },
          "title": {
           "x": 0.05
          },
          "xaxis": {
           "automargin": true,
           "gridcolor": "white",
           "linecolor": "white",
           "ticks": "",
           "title": {
            "standoff": 15
           },
           "zerolinecolor": "white",
           "zerolinewidth": 2
          },
          "yaxis": {
           "automargin": true,
           "gridcolor": "white",
           "linecolor": "white",
           "ticks": "",
           "title": {
            "standoff": 15
           },
           "zerolinecolor": "white",
           "zerolinewidth": 2
          }
         }
        },
        "title": {
         "text": "Popularity Index and Stock Price Over Time"
        },
        "xaxis": {
         "tickangle": 45,
         "title": {
          "text": "Time"
         }
        },
        "yaxis": {
         "color": "firebrick",
         "showgrid": false,
         "side": "left",
         "title": {
          "text": "Popularity Index"
         },
         "zeroline": false
        },
        "yaxis2": {
         "color": "royalblue",
         "overlaying": "y",
         "showgrid": false,
         "side": "right",
         "title": {
          "text": "Stock Price"
         },
         "zeroline": false
        }
       }
      },
      "text/html": [
       "<div>                            <div id=\"9f7680dc-0684-4ef3-b21a-827bf130d1f3\" class=\"plotly-graph-div\" style=\"height:525px; width:100%;\"></div>            <script type=\"text/javascript\">                require([\"plotly\"], function(Plotly) {                    window.PLOTLYENV=window.PLOTLYENV || {};                                    if (document.getElementById(\"9f7680dc-0684-4ef3-b21a-827bf130d1f3\")) {                    Plotly.newPlot(                        \"9f7680dc-0684-4ef3-b21a-827bf130d1f3\",                        [{\"line\":{\"color\":\"firebrick\"},\"mode\":\"lines\",\"name\":\"Heat Index\",\"x\":[0,1,2,3,4,5,6,7,8,9,10,11,12,13,14,15,16,17,18,19,20,21,22,23,24,25,26,27,28,29,30,31,32,33,34,35,36,37,38,39,40,41,42,43,44,45,46,47,48,49,50,51,52,53,54,55,56,57,58,59,60,61,62,63,64,65,66,67,68,69,70,71,72,73,74,75,76,77,78,79,80,81,82,83,84,85,86,87,88,89,90,91,92,93,94,95,96,97,98,99,100,101,102,103,104,105,106,107,108,109,110,111,112,113,114,115,116,117,118,119,120,121,122,123,124,125,126,127,128,129,130,131,132,133,134,135,136,137,138,139,140,141,142,143,144,145,146,147,148,149,150,151,152,153,154,155,156,157,158,159,160,161,162,163,164,165,166,167,168,169,170,171,172,173,174,175,176,177,178,179,180,181,182,183,184,185,186,187,188,189,190,191,192,193,194,195,196,197,198,199,200,201,202,203,204,205,206,207,208,209,210,211,212,213,214,215,216,217,218,219,220,221,222,223,224,225,226,227,228,229,230,231,232,233,234,235,236,237,238,239,240,241,242,243,244,245,246,247,248,249,250,251,252,253,254,255,256,257,258,259,260,261,262],\"y\":[0,0,0,0,261,0,0,0,0,0,0,0,0,0,0,0,0,0,0,0,0,0,0,0,0,0,0,0,0,0,0,0,95,145,0,225,0,328,2111,98,262,575,360,0,0,0,58,0,0,0,0,0,0,341,313,0,692,0,119,275,0,0,0,0,0,0,65,0,0,0,0,0,0,0,0,0,384,348,0,175,0,0,0,237,0,0,0,0,0,0,0,0,0,197,0,0,0,0,494,0,120,258,0,277,0,426,273,722,246,209,0,974,0,0,0,0,0,0,0,0,0,0,0,0,196,0,0,0,0,0,0,0,0,0,0,0,0,0,0,0,168,0,0,0,0,0,0,176,0,71,0,0,0,0,0,0,0,0,0,0,0,0,0,0,0,0,0,224,113,0,0,0,64,754,687,0,279,0,0,0,0,0,0,0,0,0,0,0,137,0,0,0,0,0,0,0,0,0,0,0,0,0,0,0,0,0,1426,0,214,0,85,0,21,88,55,128,336,0,0,0,0,151,0,0,0,0,72,678,1609,111,630,1936,1045,1275,685,990,1230,285,302,1071,1238,860,1308,2203,2090,43,548,41,715,273,440,107,351,1129,0,1002,196,650,3482,2934,576,1920,495],\"type\":\"scatter\"},{\"line\":{\"color\":\"royalblue\"},\"mode\":\"lines\",\"name\":\"Close\",\"x\":[0,1,2,3,4,5,6,7,8,9,10,11,12,13,14,15,16,17,18,19,20,21,22,23,24,25,26,27,28,29,30,31,32,33,34,35,36,37,38,39,40,41,42,43,44,45,46,47,48,49,50,51,52,53,54,55,56,57,58,59,60,61,62,63,64,65,66,67,68,69,70,71,72,73,74,75,76,77,78,79,80,81,82,83,84,85,86,87,88,89,90,91,92,93,94,95,96,97,98,99,100,101,102,103,104,105,106,107,108,109,110,111,112,113,114,115,116,117,118,119,120,121,122,123,124,125,126,127,128,129,130,131,132,133,134,135,136,137,138,139,140,141,142,143,144,145,146,147,148,149,150,151,152,153,154,155,156,157,158,159,160,161,162,163,164,165,166,167,168,169,170,171,172,173,174,175,176,177,178,179,180,181,182,183,184,185,186,187,188,189,190,191,192,193,194,195,196,197,198,199,200,201,202,203,204,205,206,207,208,209,210,211,212,213,214,215,216,217,218,219,220,221,222,223,224,225,226,227,228,229,230,231,232,233,234,235,236,237,238,239,240,241,242,243,244,245,246,247,248,249,250,251,252,253,254,255,256,257,258,259,260,261,262],\"y\":[5.633538799812206,5.615060540952808,5.594004802897756,5.599791372775026,5.619639739177298,5.604661717816338,5.579541174230335,5.57833264283309,5.589418538461871,5.598495989591375,5.622825507230111,5.63232226894489,5.60226644466912,5.60281968960497,null,5.599976354003978,5.5699081813431945,5.5967909926585175,5.606757528813923,5.6257848604638045,5.666772669776365,5.642261639277004,5.627693013983447,5.61902308730608,5.658785066884461,null,5.675074344823598,5.654977278873795,5.665907542999301,5.655222280541628,5.646859306085091,null,null,5.668258915133281,5.677198925788846,5.709698271771833,5.758207523477509,5.745052416832921,null,5.742233693106409,5.726456807988087,5.721556919128409,5.939644766782608,5.964761141164512,null,null,5.994235666507542,5.935793251665016,5.985697982387142,5.974496370907222,null,5.970521747111875,5.957235378840811,5.926259136982707,5.953503056401232,5.96023187562865,null,5.97842998256712,6.016693603591474,6.063715441137631,6.055682702090046,6.0565966724964335,null,null,null,6.082401512425139,6.064831200981765,6.064366435091649,6.045218551962696,null,6.00714104372079,6.037297987331181,6.019006785898098,6.0118062472155565,6.04741943324893,null,null,6.050040023801049,null,6.047774020283088,6.042704087675822,6.052159752315704,6.044531239595171,6.049851344509159,6.084544945068187,6.1307263405164525,6.119615872465185,null,6.14119831171105,6.163188484477715,6.154369628664453,6.12073690917416,6.093772900654251,null,null,6.100587962918589,6.124223786386324,6.119241892848453,6.129050210060545,6.147399348728743,null,null,6.146950069208185,6.1421879469436105,6.09286975534031,6.098411290541077,6.102111040337391,null,6.1184716059155395,6.101752934586199,6.05335897179517,6.049450408102427,6.012614276458546,6.08114527258977,6.0854101462955255,6.075024105713052,6.071753382951034,6.0707146099523595,null,null,6.152030348116473,6.123982911480106,6.155197747580269,6.156194790473063,6.131617702079947,null,null,6.149215892466072,6.189987475040535,6.1997787146243875,6.201624146550251,6.184334432486472,null,null,null,6.185138114896149,6.154029693662732,6.136451952072233,6.121878588024245,null,null,6.113195333465662,6.1063545397258645,6.1199677074592325,6.12207605163025,6.0844994130751715,6.08600171002991,6.075805723115262,6.045929093381592,6.016571739601886,6.030925630408507,null,6.045526507574946,6.038133379510019,6.0513359276623735,6.065852871923509,6.075323019329663,6.104391381594473,6.075736789215541,6.087706120303515,6.1022901133855525,6.126039134478106,null,null,6.115295945595611,6.1268255390569495,6.14859648855532,6.151561822266384,6.119439875541506,null,6.133289603277795,6.0853646536807044,6.044910501484572,6.042656610121809,6.025551902771033,null,6.063203644262958,6.079086165987149,6.034978935480864,5.999581540007827,6.003887067106539,null,6.02007626265496,6.010776828714165,6.047963021013245,6.075483948014489,6.10935866103939,null,6.125798764257638,6.130247723691617,6.143627517033882,6.1516682986483175,6.180741041323979,6.186620086563224,6.2077043180776865,6.192117070814119,6.204153616266109,6.200468627581748,null,null,6.222754815622869,6.213487474757974,6.188592619429764,null,6.169108535281837,null,null,6.178815130870849,6.170049947737798,6.176698512885324,6.147827090389313,6.147720140050452,null,6.120517188206512,6.143455762684061,6.1203633486456726,6.144099774216612,6.163441107636952,null,null,6.14476484188892,6.166614631505206,6.175617769128511,6.181051314893349,6.192157957312151,null,6.216146891872036,6.206656586778269,6.176095903010926,6.1942012763971315,6.190929946492558,null,null,6.200083138068986,6.20287961385032,6.205002110296261,6.205002110296261,null,null,null,6.177279978623723,6.164766385769394,6.173744459284811,6.196383028168302,null,null,6.258682453957862,6.27551507848943,6.298029706561264,6.3066766133401115,6.304631557202113,null,null,null,6.334735064038338,6.32888281645623,6.347511806343882,6.3884100882153865,null,null,6.391146260247741,6.39481071184044,6.419375835897611,6.423522871895878,6.413967021523424,null,null,6.437191531299353,6.442126052072246,6.422061228359805,6.446148330736078,6.494661107433785,null,null,6.541491663169457,6.52536681507582,6.552493607332065,6.545938528584141,6.581096753783073,null,null,6.582689710260116,6.581027451617656,6.6052979209482015,6.588348617344504,6.587729069041567,null,null,null,6.543220988272804,6.514297747017457,6.666167683454676,6.669713781061864,null,null,6.673196803358672,6.6682409675233005,6.654964052914838,6.673449656641582,6.712700977344874,null,null,6.748020698994865,6.75651371440617,6.787844982309579,6.8316190997139,6.774543868300789,null,null,6.754301011603427],\"yaxis\":\"y2\",\"type\":\"scatter\"}],                        {\"template\":{\"data\":{\"histogram2dcontour\":[{\"type\":\"histogram2dcontour\",\"colorbar\":{\"outlinewidth\":0,\"ticks\":\"\"},\"colorscale\":[[0.0,\"#0d0887\"],[0.1111111111111111,\"#46039f\"],[0.2222222222222222,\"#7201a8\"],[0.3333333333333333,\"#9c179e\"],[0.4444444444444444,\"#bd3786\"],[0.5555555555555556,\"#d8576b\"],[0.6666666666666666,\"#ed7953\"],[0.7777777777777778,\"#fb9f3a\"],[0.8888888888888888,\"#fdca26\"],[1.0,\"#f0f921\"]]}],\"choropleth\":[{\"type\":\"choropleth\",\"colorbar\":{\"outlinewidth\":0,\"ticks\":\"\"}}],\"histogram2d\":[{\"type\":\"histogram2d\",\"colorbar\":{\"outlinewidth\":0,\"ticks\":\"\"},\"colorscale\":[[0.0,\"#0d0887\"],[0.1111111111111111,\"#46039f\"],[0.2222222222222222,\"#7201a8\"],[0.3333333333333333,\"#9c179e\"],[0.4444444444444444,\"#bd3786\"],[0.5555555555555556,\"#d8576b\"],[0.6666666666666666,\"#ed7953\"],[0.7777777777777778,\"#fb9f3a\"],[0.8888888888888888,\"#fdca26\"],[1.0,\"#f0f921\"]]}],\"heatmap\":[{\"type\":\"heatmap\",\"colorbar\":{\"outlinewidth\":0,\"ticks\":\"\"},\"colorscale\":[[0.0,\"#0d0887\"],[0.1111111111111111,\"#46039f\"],[0.2222222222222222,\"#7201a8\"],[0.3333333333333333,\"#9c179e\"],[0.4444444444444444,\"#bd3786\"],[0.5555555555555556,\"#d8576b\"],[0.6666666666666666,\"#ed7953\"],[0.7777777777777778,\"#fb9f3a\"],[0.8888888888888888,\"#fdca26\"],[1.0,\"#f0f921\"]]}],\"heatmapgl\":[{\"type\":\"heatmapgl\",\"colorbar\":{\"outlinewidth\":0,\"ticks\":\"\"},\"colorscale\":[[0.0,\"#0d0887\"],[0.1111111111111111,\"#46039f\"],[0.2222222222222222,\"#7201a8\"],[0.3333333333333333,\"#9c179e\"],[0.4444444444444444,\"#bd3786\"],[0.5555555555555556,\"#d8576b\"],[0.6666666666666666,\"#ed7953\"],[0.7777777777777778,\"#fb9f3a\"],[0.8888888888888888,\"#fdca26\"],[1.0,\"#f0f921\"]]}],\"contourcarpet\":[{\"type\":\"contourcarpet\",\"colorbar\":{\"outlinewidth\":0,\"ticks\":\"\"}}],\"contour\":[{\"type\":\"contour\",\"colorbar\":{\"outlinewidth\":0,\"ticks\":\"\"},\"colorscale\":[[0.0,\"#0d0887\"],[0.1111111111111111,\"#46039f\"],[0.2222222222222222,\"#7201a8\"],[0.3333333333333333,\"#9c179e\"],[0.4444444444444444,\"#bd3786\"],[0.5555555555555556,\"#d8576b\"],[0.6666666666666666,\"#ed7953\"],[0.7777777777777778,\"#fb9f3a\"],[0.8888888888888888,\"#fdca26\"],[1.0,\"#f0f921\"]]}],\"surface\":[{\"type\":\"surface\",\"colorbar\":{\"outlinewidth\":0,\"ticks\":\"\"},\"colorscale\":[[0.0,\"#0d0887\"],[0.1111111111111111,\"#46039f\"],[0.2222222222222222,\"#7201a8\"],[0.3333333333333333,\"#9c179e\"],[0.4444444444444444,\"#bd3786\"],[0.5555555555555556,\"#d8576b\"],[0.6666666666666666,\"#ed7953\"],[0.7777777777777778,\"#fb9f3a\"],[0.8888888888888888,\"#fdca26\"],[1.0,\"#f0f921\"]]}],\"mesh3d\":[{\"type\":\"mesh3d\",\"colorbar\":{\"outlinewidth\":0,\"ticks\":\"\"}}],\"scatter\":[{\"fillpattern\":{\"fillmode\":\"overlay\",\"size\":10,\"solidity\":0.2},\"type\":\"scatter\"}],\"parcoords\":[{\"type\":\"parcoords\",\"line\":{\"colorbar\":{\"outlinewidth\":0,\"ticks\":\"\"}}}],\"scatterpolargl\":[{\"type\":\"scatterpolargl\",\"marker\":{\"colorbar\":{\"outlinewidth\":0,\"ticks\":\"\"}}}],\"bar\":[{\"error_x\":{\"color\":\"#2a3f5f\"},\"error_y\":{\"color\":\"#2a3f5f\"},\"marker\":{\"line\":{\"color\":\"#E5ECF6\",\"width\":0.5},\"pattern\":{\"fillmode\":\"overlay\",\"size\":10,\"solidity\":0.2}},\"type\":\"bar\"}],\"scattergeo\":[{\"type\":\"scattergeo\",\"marker\":{\"colorbar\":{\"outlinewidth\":0,\"ticks\":\"\"}}}],\"scatterpolar\":[{\"type\":\"scatterpolar\",\"marker\":{\"colorbar\":{\"outlinewidth\":0,\"ticks\":\"\"}}}],\"histogram\":[{\"marker\":{\"pattern\":{\"fillmode\":\"overlay\",\"size\":10,\"solidity\":0.2}},\"type\":\"histogram\"}],\"scattergl\":[{\"type\":\"scattergl\",\"marker\":{\"colorbar\":{\"outlinewidth\":0,\"ticks\":\"\"}}}],\"scatter3d\":[{\"type\":\"scatter3d\",\"line\":{\"colorbar\":{\"outlinewidth\":0,\"ticks\":\"\"}},\"marker\":{\"colorbar\":{\"outlinewidth\":0,\"ticks\":\"\"}}}],\"scattermapbox\":[{\"type\":\"scattermapbox\",\"marker\":{\"colorbar\":{\"outlinewidth\":0,\"ticks\":\"\"}}}],\"scatterternary\":[{\"type\":\"scatterternary\",\"marker\":{\"colorbar\":{\"outlinewidth\":0,\"ticks\":\"\"}}}],\"scattercarpet\":[{\"type\":\"scattercarpet\",\"marker\":{\"colorbar\":{\"outlinewidth\":0,\"ticks\":\"\"}}}],\"carpet\":[{\"aaxis\":{\"endlinecolor\":\"#2a3f5f\",\"gridcolor\":\"white\",\"linecolor\":\"white\",\"minorgridcolor\":\"white\",\"startlinecolor\":\"#2a3f5f\"},\"baxis\":{\"endlinecolor\":\"#2a3f5f\",\"gridcolor\":\"white\",\"linecolor\":\"white\",\"minorgridcolor\":\"white\",\"startlinecolor\":\"#2a3f5f\"},\"type\":\"carpet\"}],\"table\":[{\"cells\":{\"fill\":{\"color\":\"#EBF0F8\"},\"line\":{\"color\":\"white\"}},\"header\":{\"fill\":{\"color\":\"#C8D4E3\"},\"line\":{\"color\":\"white\"}},\"type\":\"table\"}],\"barpolar\":[{\"marker\":{\"line\":{\"color\":\"#E5ECF6\",\"width\":0.5},\"pattern\":{\"fillmode\":\"overlay\",\"size\":10,\"solidity\":0.2}},\"type\":\"barpolar\"}],\"pie\":[{\"automargin\":true,\"type\":\"pie\"}]},\"layout\":{\"autotypenumbers\":\"strict\",\"colorway\":[\"#636efa\",\"#EF553B\",\"#00cc96\",\"#ab63fa\",\"#FFA15A\",\"#19d3f3\",\"#FF6692\",\"#B6E880\",\"#FF97FF\",\"#FECB52\"],\"font\":{\"color\":\"#2a3f5f\"},\"hovermode\":\"closest\",\"hoverlabel\":{\"align\":\"left\"},\"paper_bgcolor\":\"white\",\"plot_bgcolor\":\"#E5ECF6\",\"polar\":{\"bgcolor\":\"#E5ECF6\",\"angularaxis\":{\"gridcolor\":\"white\",\"linecolor\":\"white\",\"ticks\":\"\"},\"radialaxis\":{\"gridcolor\":\"white\",\"linecolor\":\"white\",\"ticks\":\"\"}},\"ternary\":{\"bgcolor\":\"#E5ECF6\",\"aaxis\":{\"gridcolor\":\"white\",\"linecolor\":\"white\",\"ticks\":\"\"},\"baxis\":{\"gridcolor\":\"white\",\"linecolor\":\"white\",\"ticks\":\"\"},\"caxis\":{\"gridcolor\":\"white\",\"linecolor\":\"white\",\"ticks\":\"\"}},\"coloraxis\":{\"colorbar\":{\"outlinewidth\":0,\"ticks\":\"\"}},\"colorscale\":{\"sequential\":[[0.0,\"#0d0887\"],[0.1111111111111111,\"#46039f\"],[0.2222222222222222,\"#7201a8\"],[0.3333333333333333,\"#9c179e\"],[0.4444444444444444,\"#bd3786\"],[0.5555555555555556,\"#d8576b\"],[0.6666666666666666,\"#ed7953\"],[0.7777777777777778,\"#fb9f3a\"],[0.8888888888888888,\"#fdca26\"],[1.0,\"#f0f921\"]],\"sequentialminus\":[[0.0,\"#0d0887\"],[0.1111111111111111,\"#46039f\"],[0.2222222222222222,\"#7201a8\"],[0.3333333333333333,\"#9c179e\"],[0.4444444444444444,\"#bd3786\"],[0.5555555555555556,\"#d8576b\"],[0.6666666666666666,\"#ed7953\"],[0.7777777777777778,\"#fb9f3a\"],[0.8888888888888888,\"#fdca26\"],[1.0,\"#f0f921\"]],\"diverging\":[[0,\"#8e0152\"],[0.1,\"#c51b7d\"],[0.2,\"#de77ae\"],[0.3,\"#f1b6da\"],[0.4,\"#fde0ef\"],[0.5,\"#f7f7f7\"],[0.6,\"#e6f5d0\"],[0.7,\"#b8e186\"],[0.8,\"#7fbc41\"],[0.9,\"#4d9221\"],[1,\"#276419\"]]},\"xaxis\":{\"gridcolor\":\"white\",\"linecolor\":\"white\",\"ticks\":\"\",\"title\":{\"standoff\":15},\"zerolinecolor\":\"white\",\"automargin\":true,\"zerolinewidth\":2},\"yaxis\":{\"gridcolor\":\"white\",\"linecolor\":\"white\",\"ticks\":\"\",\"title\":{\"standoff\":15},\"zerolinecolor\":\"white\",\"automargin\":true,\"zerolinewidth\":2},\"scene\":{\"xaxis\":{\"backgroundcolor\":\"#E5ECF6\",\"gridcolor\":\"white\",\"linecolor\":\"white\",\"showbackground\":true,\"ticks\":\"\",\"zerolinecolor\":\"white\",\"gridwidth\":2},\"yaxis\":{\"backgroundcolor\":\"#E5ECF6\",\"gridcolor\":\"white\",\"linecolor\":\"white\",\"showbackground\":true,\"ticks\":\"\",\"zerolinecolor\":\"white\",\"gridwidth\":2},\"zaxis\":{\"backgroundcolor\":\"#E5ECF6\",\"gridcolor\":\"white\",\"linecolor\":\"white\",\"showbackground\":true,\"ticks\":\"\",\"zerolinecolor\":\"white\",\"gridwidth\":2}},\"shapedefaults\":{\"line\":{\"color\":\"#2a3f5f\"}},\"annotationdefaults\":{\"arrowcolor\":\"#2a3f5f\",\"arrowhead\":0,\"arrowwidth\":1},\"geo\":{\"bgcolor\":\"white\",\"landcolor\":\"#E5ECF6\",\"subunitcolor\":\"white\",\"showland\":true,\"showlakes\":true,\"lakecolor\":\"white\"},\"title\":{\"x\":0.05},\"mapbox\":{\"style\":\"light\"}}},\"xaxis\":{\"title\":{\"text\":\"Time\"},\"tickangle\":45},\"yaxis\":{\"title\":{\"text\":\"Popularity Index\"},\"side\":\"left\",\"showgrid\":false,\"zeroline\":false,\"color\":\"firebrick\"},\"yaxis2\":{\"title\":{\"text\":\"Stock Price\"},\"side\":\"right\",\"overlaying\":\"y\",\"showgrid\":false,\"zeroline\":false,\"color\":\"royalblue\"},\"title\":{\"text\":\"Popularity Index and Stock Price Over Time\"}},                        {\"responsive\": true}                    ).then(function(){\n",
       "                            \n",
       "var gd = document.getElementById('9f7680dc-0684-4ef3-b21a-827bf130d1f3');\n",
       "var x = new MutationObserver(function (mutations, observer) {{\n",
       "        var display = window.getComputedStyle(gd).display;\n",
       "        if (!display || display === 'none') {{\n",
       "            console.log([gd, 'removed!']);\n",
       "            Plotly.purge(gd);\n",
       "            observer.disconnect();\n",
       "        }}\n",
       "}});\n",
       "\n",
       "// Listen for the removal of the full notebook cells\n",
       "var notebookContainer = gd.closest('#notebook-container');\n",
       "if (notebookContainer) {{\n",
       "    x.observe(notebookContainer, {childList: true});\n",
       "}}\n",
       "\n",
       "// Listen for the clearing of the current output cell\n",
       "var outputEl = gd.closest('.output');\n",
       "if (outputEl) {{\n",
       "    x.observe(outputEl, {childList: true});\n",
       "}}\n",
       "\n",
       "                        })                };                });            </script>        </div>"
      ]
     },
     "metadata": {},
     "output_type": "display_data"
    },
    {
     "data": {
      "application/vnd.plotly.v1+json": {
       "config": {
        "plotlyServerURL": "https://plot.ly"
       },
       "data": [
        {
         "line": {
          "color": "firebrick"
         },
         "mode": "lines",
         "name": "Heat Index",
         "type": "scatter",
         "x": [
          0,
          1,
          2,
          3,
          4,
          5,
          6,
          7,
          8,
          9,
          10,
          11,
          12,
          13,
          14,
          15,
          16,
          17,
          18,
          19,
          20,
          21,
          22,
          23,
          24,
          25,
          26,
          27,
          28,
          29,
          30,
          31,
          32,
          33,
          34,
          35,
          36,
          37,
          38,
          39,
          40,
          41,
          42,
          43,
          44,
          45,
          46,
          47,
          48,
          49,
          50,
          51,
          52,
          53,
          54,
          55,
          56,
          57,
          58,
          59,
          60,
          61,
          62,
          63,
          64,
          65,
          66,
          67,
          68,
          69,
          70,
          71,
          72,
          73,
          74,
          75,
          76,
          77,
          78,
          79,
          80,
          81,
          82,
          83,
          84,
          85,
          86,
          87,
          88,
          89,
          90,
          91,
          92,
          93,
          94,
          95,
          96,
          97,
          98,
          99,
          100,
          101,
          102,
          103,
          104,
          105,
          106,
          107,
          108,
          109,
          110,
          111,
          112,
          113,
          114,
          115,
          116,
          117,
          118,
          119,
          120,
          121,
          122,
          123,
          124,
          125,
          126,
          127,
          128,
          129,
          130,
          131,
          132,
          133,
          134,
          135,
          136,
          137,
          138,
          139,
          140,
          141,
          142,
          143,
          144,
          145,
          146,
          147,
          148,
          149,
          150,
          151,
          152,
          153,
          154,
          155,
          156,
          157,
          158,
          159,
          160,
          161,
          162,
          163,
          164,
          165,
          166,
          167,
          168,
          169,
          170,
          171,
          172,
          173,
          174,
          175,
          176,
          177,
          178,
          179,
          180,
          181,
          182,
          183,
          184,
          185,
          186,
          187,
          188,
          189,
          190,
          191,
          192,
          193,
          194,
          195,
          196,
          197,
          198,
          199,
          200,
          201,
          202,
          203,
          204,
          205,
          206,
          207,
          208,
          209,
          210,
          211,
          212,
          213,
          214,
          215,
          216,
          217,
          218,
          219,
          220,
          221,
          222,
          223,
          224,
          225,
          226,
          227,
          228,
          229,
          230,
          231,
          232,
          233,
          234,
          235,
          236,
          237,
          238,
          239,
          240,
          241,
          242,
          243,
          244,
          245,
          246,
          247,
          248,
          249,
          250,
          251,
          252,
          253,
          254,
          255,
          256,
          257,
          258,
          259,
          260,
          261,
          262,
          263,
          264,
          265,
          266,
          267,
          268,
          269,
          270,
          271,
          272,
          273,
          274,
          275,
          276,
          277,
          278,
          279,
          280,
          281,
          282,
          283,
          284,
          285,
          286,
          287,
          288,
          289,
          290,
          291,
          292,
          293,
          294,
          295,
          296,
          297,
          298,
          299,
          300,
          301,
          302,
          303,
          304,
          305,
          306,
          307,
          308,
          309
         ],
         "y": [
          0,
          0,
          0,
          2,
          5,
          6,
          36,
          0,
          1,
          4,
          0,
          6,
          5,
          0,
          8,
          5,
          0,
          1,
          5,
          2,
          15,
          2,
          0,
          25,
          17,
          2,
          3,
          0,
          0,
          0,
          0,
          9,
          2,
          14,
          6,
          10,
          17,
          14,
          7,
          24,
          17,
          11,
          169,
          10,
          4,
          76,
          52,
          37,
          10,
          0,
          10,
          15,
          7,
          11,
          14,
          1,
          7,
          15,
          38,
          1,
          108,
          25,
          28,
          2,
          40,
          7,
          0,
          7,
          0,
          1,
          11,
          0,
          39,
          7,
          0,
          8,
          5,
          4,
          6,
          0,
          4,
          0,
          8,
          17,
          0,
          1,
          0,
          25,
          2,
          0,
          34,
          16,
          4,
          4,
          2,
          11,
          0,
          11,
          1,
          4,
          10,
          2,
          9,
          4,
          10,
          10,
          12,
          4,
          5,
          12,
          57,
          5,
          0,
          6,
          6,
          18,
          0,
          65,
          14,
          9,
          16,
          11,
          22,
          93,
          13,
          10,
          25,
          51,
          37,
          20,
          23,
          19,
          23,
          2,
          15,
          8,
          0,
          0,
          35,
          13,
          4,
          20,
          6,
          16,
          74,
          41,
          5,
          31,
          8,
          12,
          13,
          1,
          2,
          3,
          18,
          2,
          9,
          5,
          0,
          3,
          0,
          19,
          22,
          9,
          3,
          7,
          6,
          13,
          2,
          4,
          18,
          33,
          0,
          100,
          0,
          3,
          24,
          39,
          2,
          4,
          3,
          1,
          12,
          17,
          30,
          4,
          4,
          2,
          10,
          7,
          10,
          6,
          24,
          15,
          9,
          62,
          19,
          17,
          7,
          2,
          42,
          1,
          127,
          34,
          17,
          15,
          66,
          8,
          5,
          64,
          69,
          0,
          93,
          79,
          18,
          84,
          103,
          22,
          5,
          3,
          16,
          0,
          19,
          38,
          0,
          10,
          39,
          0,
          43,
          0,
          3,
          4,
          18,
          0,
          8,
          0,
          0,
          22,
          1,
          10,
          31,
          0,
          1,
          0,
          1,
          43,
          85,
          31,
          73,
          19,
          33,
          17,
          44,
          41,
          26,
          12,
          44,
          45,
          77,
          81,
          23,
          0,
          31,
          88,
          22,
          27,
          16,
          30,
          56,
          121,
          35,
          143,
          108,
          36,
          188,
          156,
          145,
          322,
          181,
          236,
          208,
          190,
          51,
          239,
          89,
          281,
          249,
          136,
          91,
          278,
          338,
          873,
          445,
          395,
          184,
          182,
          128,
          73,
          164,
          248,
          311,
          154,
          95,
          478,
          330,
          317,
          377,
          673,
          416,
          40
         ]
        },
        {
         "line": {
          "color": "royalblue"
         },
         "mode": "lines",
         "name": "Close",
         "type": "scatter",
         "x": [
          0,
          1,
          2,
          3,
          4,
          5,
          6,
          7,
          8,
          9,
          10,
          11,
          12,
          13,
          14,
          15,
          16,
          17,
          18,
          19,
          20,
          21,
          22,
          23,
          24,
          25,
          26,
          27,
          28,
          29,
          30,
          31,
          32,
          33,
          34,
          35,
          36,
          37,
          38,
          39,
          40,
          41,
          42,
          43,
          44,
          45,
          46,
          47,
          48,
          49,
          50,
          51,
          52,
          53,
          54,
          55,
          56,
          57,
          58,
          59,
          60,
          61,
          62,
          63,
          64,
          65,
          66,
          67,
          68,
          69,
          70,
          71,
          72,
          73,
          74,
          75,
          76,
          77,
          78,
          79,
          80,
          81,
          82,
          83,
          84,
          85,
          86,
          87,
          88,
          89,
          90,
          91,
          92,
          93,
          94,
          95,
          96,
          97,
          98,
          99,
          100,
          101,
          102,
          103,
          104,
          105,
          106,
          107,
          108,
          109,
          110,
          111,
          112,
          113,
          114,
          115,
          116,
          117,
          118,
          119,
          120,
          121,
          122,
          123,
          124,
          125,
          126,
          127,
          128,
          129,
          130,
          131,
          132,
          133,
          134,
          135,
          136,
          137,
          138,
          139,
          140,
          141,
          142,
          143,
          144,
          145,
          146,
          147,
          148,
          149,
          150,
          151,
          152,
          153,
          154,
          155,
          156,
          157,
          158,
          159,
          160,
          161,
          162,
          163,
          164,
          165,
          166,
          167,
          168,
          169,
          170,
          171,
          172,
          173,
          174,
          175,
          176,
          177,
          178,
          179,
          180,
          181,
          182,
          183,
          184,
          185,
          186,
          187,
          188,
          189,
          190,
          191,
          192,
          193,
          194,
          195,
          196,
          197,
          198,
          199,
          200,
          201,
          202,
          203,
          204,
          205,
          206,
          207,
          208,
          209,
          210,
          211,
          212,
          213,
          214,
          215,
          216,
          217,
          218,
          219,
          220,
          221,
          222,
          223,
          224,
          225,
          226,
          227,
          228,
          229,
          230,
          231,
          232,
          233,
          234,
          235,
          236,
          237,
          238,
          239,
          240,
          241,
          242,
          243,
          244,
          245,
          246,
          247,
          248,
          249,
          250,
          251,
          252,
          253,
          254,
          255,
          256,
          257,
          258,
          259,
          260,
          261,
          262,
          263,
          264,
          265,
          266,
          267,
          268,
          269,
          270,
          271,
          272,
          273,
          274,
          275,
          276,
          277,
          278,
          279,
          280,
          281,
          282,
          283,
          284,
          285,
          286,
          287,
          288,
          289,
          290,
          291,
          292,
          293,
          294,
          295,
          296,
          297,
          298,
          299,
          300,
          301,
          302,
          303,
          304,
          305,
          306,
          307,
          308,
          309
         ],
         "y": [
          5.633538799812206,
          5.615060540952808,
          5.594004802897756,
          5.599791372775026,
          5.619639739177298,
          5.604661717816338,
          5.579541174230335,
          5.57833264283309,
          5.589418538461871,
          5.598495989591375,
          5.622825507230111,
          5.63232226894489,
          5.60226644466912,
          5.60281968960497,
          null,
          5.599976354003978,
          5.5699081813431945,
          5.5967909926585175,
          5.606757528813923,
          5.6257848604638045,
          5.666772669776365,
          5.642261639277004,
          5.627693013983447,
          5.61902308730608,
          5.658785066884461,
          null,
          5.675074344823598,
          5.654977278873795,
          5.665907542999301,
          5.655222280541628,
          5.646859306085091,
          null,
          null,
          5.668258915133281,
          5.677198925788846,
          5.709698271771833,
          5.758207523477509,
          5.745052416832921,
          null,
          5.742233693106409,
          5.726456807988087,
          5.721556919128409,
          5.939644766782608,
          5.964761141164512,
          null,
          null,
          5.994235666507542,
          5.935793251665016,
          5.985697982387142,
          5.974496370907222,
          null,
          5.970521747111875,
          5.957235378840811,
          5.926259136982707,
          5.953503056401232,
          5.96023187562865,
          null,
          5.97842998256712,
          6.016693603591474,
          6.063715441137631,
          6.055682702090046,
          6.0565966724964335,
          null,
          null,
          null,
          6.082401512425139,
          6.064831200981765,
          6.064366435091649,
          6.045218551962696,
          null,
          6.00714104372079,
          6.037297987331181,
          6.019006785898098,
          6.0118062472155565,
          6.04741943324893,
          null,
          null,
          6.050040023801049,
          null,
          6.047774020283088,
          6.042704087675822,
          6.052159752315704,
          6.044531239595171,
          6.049851344509159,
          6.084544945068187,
          6.1307263405164525,
          6.119615872465185,
          null,
          6.14119831171105,
          6.163188484477715,
          6.154369628664453,
          6.12073690917416,
          6.093772900654251,
          null,
          null,
          6.100587962918589,
          6.124223786386324,
          6.119241892848453,
          6.129050210060545,
          6.147399348728743,
          null,
          null,
          6.146950069208185,
          6.1421879469436105,
          6.09286975534031,
          6.098411290541077,
          6.102111040337391,
          null,
          6.1184716059155395,
          6.101752934586199,
          6.05335897179517,
          6.049450408102427,
          6.012614276458546,
          6.08114527258977,
          6.0854101462955255,
          6.075024105713052,
          6.071753382951034,
          6.0707146099523595,
          null,
          null,
          6.152030348116473,
          6.123982911480106,
          6.155197747580269,
          6.156194790473063,
          6.131617702079947,
          null,
          null,
          6.149215892466072,
          6.189987475040535,
          6.1997787146243875,
          6.201624146550251,
          6.184334432486472,
          null,
          null,
          null,
          6.185138114896149,
          6.154029693662732,
          6.136451952072233,
          6.121878588024245,
          null,
          null,
          6.113195333465662,
          6.1063545397258645,
          6.1199677074592325,
          6.12207605163025,
          6.0844994130751715,
          6.08600171002991,
          6.075805723115262,
          6.045929093381592,
          6.016571739601886,
          6.030925630408507,
          null,
          6.045526507574946,
          6.038133379510019,
          6.0513359276623735,
          6.065852871923509,
          6.075323019329663,
          6.104391381594473,
          6.075736789215541,
          6.087706120303515,
          6.1022901133855525,
          6.126039134478106,
          null,
          null,
          6.115295945595611,
          6.1268255390569495,
          6.14859648855532,
          6.151561822266384,
          6.119439875541506,
          null,
          6.133289603277795,
          6.0853646536807044,
          6.044910501484572,
          6.042656610121809,
          6.025551902771033,
          null,
          6.063203644262958,
          6.079086165987149,
          6.034978935480864,
          5.999581540007827,
          6.003887067106539,
          null,
          6.02007626265496,
          6.010776828714165,
          6.047963021013245,
          6.075483948014489,
          6.10935866103939,
          null,
          6.125798764257638,
          6.130247723691617,
          6.143627517033882,
          6.1516682986483175,
          6.180741041323979,
          6.186620086563224,
          6.2077043180776865,
          6.192117070814119,
          6.204153616266109,
          6.200468627581748,
          null,
          null,
          6.222754815622869,
          6.213487474757974,
          6.188592619429764,
          null,
          6.169108535281837,
          null,
          null,
          6.178815130870849,
          6.170049947737798,
          6.176698512885324,
          6.147827090389313,
          6.147720140050452,
          null,
          6.120517188206512,
          6.143455762684061,
          6.1203633486456726,
          6.144099774216612,
          6.163441107636952,
          null,
          null,
          6.14476484188892,
          6.166614631505206,
          6.175617769128511,
          6.181051314893349,
          6.192157957312151,
          null,
          6.216146891872036,
          6.206656586778269,
          6.176095903010926,
          6.1942012763971315,
          6.190929946492558,
          null,
          null,
          6.200083138068986,
          6.20287961385032,
          6.205002110296261,
          6.205002110296261,
          null,
          null,
          null,
          6.177279978623723,
          6.164766385769394,
          6.173744459284811,
          6.196383028168302,
          null,
          null,
          6.258682453957862,
          6.27551507848943,
          6.298029706561264,
          6.3066766133401115,
          6.304631557202113,
          null,
          null,
          null,
          6.334735064038338,
          6.32888281645623,
          6.347511806343882,
          6.3884100882153865,
          null,
          null,
          6.391146260247741,
          6.39481071184044,
          6.419375835897611,
          6.423522871895878,
          6.413967021523424,
          null,
          null,
          6.437191531299353,
          6.442126052072246,
          6.422061228359805,
          6.446148330736078,
          6.494661107433785,
          null,
          null,
          6.541491663169457,
          6.52536681507582,
          6.552493607332065,
          6.545938528584141,
          6.581096753783073,
          null,
          null,
          6.582689710260116,
          6.581027451617656,
          6.6052979209482015,
          6.588348617344504,
          6.587729069041567,
          null,
          null,
          null,
          6.543220988272804,
          6.514297747017457,
          6.666167683454676,
          6.669713781061864,
          null,
          null,
          6.673196803358672,
          6.6682409675233005,
          6.654964052914838,
          6.673449656641582,
          6.712700977344874,
          null,
          null,
          6.748020698994865,
          6.75651371440617,
          6.787844982309579,
          6.8316190997139,
          6.774543868300789,
          null,
          null,
          6.754301011603427
         ],
         "yaxis": "y2"
        }
       ],
       "layout": {
        "template": {
         "data": {
          "bar": [
           {
            "error_x": {
             "color": "#2a3f5f"
            },
            "error_y": {
             "color": "#2a3f5f"
            },
            "marker": {
             "line": {
              "color": "#E5ECF6",
              "width": 0.5
             },
             "pattern": {
              "fillmode": "overlay",
              "size": 10,
              "solidity": 0.2
             }
            },
            "type": "bar"
           }
          ],
          "barpolar": [
           {
            "marker": {
             "line": {
              "color": "#E5ECF6",
              "width": 0.5
             },
             "pattern": {
              "fillmode": "overlay",
              "size": 10,
              "solidity": 0.2
             }
            },
            "type": "barpolar"
           }
          ],
          "carpet": [
           {
            "aaxis": {
             "endlinecolor": "#2a3f5f",
             "gridcolor": "white",
             "linecolor": "white",
             "minorgridcolor": "white",
             "startlinecolor": "#2a3f5f"
            },
            "baxis": {
             "endlinecolor": "#2a3f5f",
             "gridcolor": "white",
             "linecolor": "white",
             "minorgridcolor": "white",
             "startlinecolor": "#2a3f5f"
            },
            "type": "carpet"
           }
          ],
          "choropleth": [
           {
            "colorbar": {
             "outlinewidth": 0,
             "ticks": ""
            },
            "type": "choropleth"
           }
          ],
          "contour": [
           {
            "colorbar": {
             "outlinewidth": 0,
             "ticks": ""
            },
            "colorscale": [
             [
              0,
              "#0d0887"
             ],
             [
              0.1111111111111111,
              "#46039f"
             ],
             [
              0.2222222222222222,
              "#7201a8"
             ],
             [
              0.3333333333333333,
              "#9c179e"
             ],
             [
              0.4444444444444444,
              "#bd3786"
             ],
             [
              0.5555555555555556,
              "#d8576b"
             ],
             [
              0.6666666666666666,
              "#ed7953"
             ],
             [
              0.7777777777777778,
              "#fb9f3a"
             ],
             [
              0.8888888888888888,
              "#fdca26"
             ],
             [
              1,
              "#f0f921"
             ]
            ],
            "type": "contour"
           }
          ],
          "contourcarpet": [
           {
            "colorbar": {
             "outlinewidth": 0,
             "ticks": ""
            },
            "type": "contourcarpet"
           }
          ],
          "heatmap": [
           {
            "colorbar": {
             "outlinewidth": 0,
             "ticks": ""
            },
            "colorscale": [
             [
              0,
              "#0d0887"
             ],
             [
              0.1111111111111111,
              "#46039f"
             ],
             [
              0.2222222222222222,
              "#7201a8"
             ],
             [
              0.3333333333333333,
              "#9c179e"
             ],
             [
              0.4444444444444444,
              "#bd3786"
             ],
             [
              0.5555555555555556,
              "#d8576b"
             ],
             [
              0.6666666666666666,
              "#ed7953"
             ],
             [
              0.7777777777777778,
              "#fb9f3a"
             ],
             [
              0.8888888888888888,
              "#fdca26"
             ],
             [
              1,
              "#f0f921"
             ]
            ],
            "type": "heatmap"
           }
          ],
          "heatmapgl": [
           {
            "colorbar": {
             "outlinewidth": 0,
             "ticks": ""
            },
            "colorscale": [
             [
              0,
              "#0d0887"
             ],
             [
              0.1111111111111111,
              "#46039f"
             ],
             [
              0.2222222222222222,
              "#7201a8"
             ],
             [
              0.3333333333333333,
              "#9c179e"
             ],
             [
              0.4444444444444444,
              "#bd3786"
             ],
             [
              0.5555555555555556,
              "#d8576b"
             ],
             [
              0.6666666666666666,
              "#ed7953"
             ],
             [
              0.7777777777777778,
              "#fb9f3a"
             ],
             [
              0.8888888888888888,
              "#fdca26"
             ],
             [
              1,
              "#f0f921"
             ]
            ],
            "type": "heatmapgl"
           }
          ],
          "histogram": [
           {
            "marker": {
             "pattern": {
              "fillmode": "overlay",
              "size": 10,
              "solidity": 0.2
             }
            },
            "type": "histogram"
           }
          ],
          "histogram2d": [
           {
            "colorbar": {
             "outlinewidth": 0,
             "ticks": ""
            },
            "colorscale": [
             [
              0,
              "#0d0887"
             ],
             [
              0.1111111111111111,
              "#46039f"
             ],
             [
              0.2222222222222222,
              "#7201a8"
             ],
             [
              0.3333333333333333,
              "#9c179e"
             ],
             [
              0.4444444444444444,
              "#bd3786"
             ],
             [
              0.5555555555555556,
              "#d8576b"
             ],
             [
              0.6666666666666666,
              "#ed7953"
             ],
             [
              0.7777777777777778,
              "#fb9f3a"
             ],
             [
              0.8888888888888888,
              "#fdca26"
             ],
             [
              1,
              "#f0f921"
             ]
            ],
            "type": "histogram2d"
           }
          ],
          "histogram2dcontour": [
           {
            "colorbar": {
             "outlinewidth": 0,
             "ticks": ""
            },
            "colorscale": [
             [
              0,
              "#0d0887"
             ],
             [
              0.1111111111111111,
              "#46039f"
             ],
             [
              0.2222222222222222,
              "#7201a8"
             ],
             [
              0.3333333333333333,
              "#9c179e"
             ],
             [
              0.4444444444444444,
              "#bd3786"
             ],
             [
              0.5555555555555556,
              "#d8576b"
             ],
             [
              0.6666666666666666,
              "#ed7953"
             ],
             [
              0.7777777777777778,
              "#fb9f3a"
             ],
             [
              0.8888888888888888,
              "#fdca26"
             ],
             [
              1,
              "#f0f921"
             ]
            ],
            "type": "histogram2dcontour"
           }
          ],
          "mesh3d": [
           {
            "colorbar": {
             "outlinewidth": 0,
             "ticks": ""
            },
            "type": "mesh3d"
           }
          ],
          "parcoords": [
           {
            "line": {
             "colorbar": {
              "outlinewidth": 0,
              "ticks": ""
             }
            },
            "type": "parcoords"
           }
          ],
          "pie": [
           {
            "automargin": true,
            "type": "pie"
           }
          ],
          "scatter": [
           {
            "fillpattern": {
             "fillmode": "overlay",
             "size": 10,
             "solidity": 0.2
            },
            "type": "scatter"
           }
          ],
          "scatter3d": [
           {
            "line": {
             "colorbar": {
              "outlinewidth": 0,
              "ticks": ""
             }
            },
            "marker": {
             "colorbar": {
              "outlinewidth": 0,
              "ticks": ""
             }
            },
            "type": "scatter3d"
           }
          ],
          "scattercarpet": [
           {
            "marker": {
             "colorbar": {
              "outlinewidth": 0,
              "ticks": ""
             }
            },
            "type": "scattercarpet"
           }
          ],
          "scattergeo": [
           {
            "marker": {
             "colorbar": {
              "outlinewidth": 0,
              "ticks": ""
             }
            },
            "type": "scattergeo"
           }
          ],
          "scattergl": [
           {
            "marker": {
             "colorbar": {
              "outlinewidth": 0,
              "ticks": ""
             }
            },
            "type": "scattergl"
           }
          ],
          "scattermapbox": [
           {
            "marker": {
             "colorbar": {
              "outlinewidth": 0,
              "ticks": ""
             }
            },
            "type": "scattermapbox"
           }
          ],
          "scatterpolar": [
           {
            "marker": {
             "colorbar": {
              "outlinewidth": 0,
              "ticks": ""
             }
            },
            "type": "scatterpolar"
           }
          ],
          "scatterpolargl": [
           {
            "marker": {
             "colorbar": {
              "outlinewidth": 0,
              "ticks": ""
             }
            },
            "type": "scatterpolargl"
           }
          ],
          "scatterternary": [
           {
            "marker": {
             "colorbar": {
              "outlinewidth": 0,
              "ticks": ""
             }
            },
            "type": "scatterternary"
           }
          ],
          "surface": [
           {
            "colorbar": {
             "outlinewidth": 0,
             "ticks": ""
            },
            "colorscale": [
             [
              0,
              "#0d0887"
             ],
             [
              0.1111111111111111,
              "#46039f"
             ],
             [
              0.2222222222222222,
              "#7201a8"
             ],
             [
              0.3333333333333333,
              "#9c179e"
             ],
             [
              0.4444444444444444,
              "#bd3786"
             ],
             [
              0.5555555555555556,
              "#d8576b"
             ],
             [
              0.6666666666666666,
              "#ed7953"
             ],
             [
              0.7777777777777778,
              "#fb9f3a"
             ],
             [
              0.8888888888888888,
              "#fdca26"
             ],
             [
              1,
              "#f0f921"
             ]
            ],
            "type": "surface"
           }
          ],
          "table": [
           {
            "cells": {
             "fill": {
              "color": "#EBF0F8"
             },
             "line": {
              "color": "white"
             }
            },
            "header": {
             "fill": {
              "color": "#C8D4E3"
             },
             "line": {
              "color": "white"
             }
            },
            "type": "table"
           }
          ]
         },
         "layout": {
          "annotationdefaults": {
           "arrowcolor": "#2a3f5f",
           "arrowhead": 0,
           "arrowwidth": 1
          },
          "autotypenumbers": "strict",
          "coloraxis": {
           "colorbar": {
            "outlinewidth": 0,
            "ticks": ""
           }
          },
          "colorscale": {
           "diverging": [
            [
             0,
             "#8e0152"
            ],
            [
             0.1,
             "#c51b7d"
            ],
            [
             0.2,
             "#de77ae"
            ],
            [
             0.3,
             "#f1b6da"
            ],
            [
             0.4,
             "#fde0ef"
            ],
            [
             0.5,
             "#f7f7f7"
            ],
            [
             0.6,
             "#e6f5d0"
            ],
            [
             0.7,
             "#b8e186"
            ],
            [
             0.8,
             "#7fbc41"
            ],
            [
             0.9,
             "#4d9221"
            ],
            [
             1,
             "#276419"
            ]
           ],
           "sequential": [
            [
             0,
             "#0d0887"
            ],
            [
             0.1111111111111111,
             "#46039f"
            ],
            [
             0.2222222222222222,
             "#7201a8"
            ],
            [
             0.3333333333333333,
             "#9c179e"
            ],
            [
             0.4444444444444444,
             "#bd3786"
            ],
            [
             0.5555555555555556,
             "#d8576b"
            ],
            [
             0.6666666666666666,
             "#ed7953"
            ],
            [
             0.7777777777777778,
             "#fb9f3a"
            ],
            [
             0.8888888888888888,
             "#fdca26"
            ],
            [
             1,
             "#f0f921"
            ]
           ],
           "sequentialminus": [
            [
             0,
             "#0d0887"
            ],
            [
             0.1111111111111111,
             "#46039f"
            ],
            [
             0.2222222222222222,
             "#7201a8"
            ],
            [
             0.3333333333333333,
             "#9c179e"
            ],
            [
             0.4444444444444444,
             "#bd3786"
            ],
            [
             0.5555555555555556,
             "#d8576b"
            ],
            [
             0.6666666666666666,
             "#ed7953"
            ],
            [
             0.7777777777777778,
             "#fb9f3a"
            ],
            [
             0.8888888888888888,
             "#fdca26"
            ],
            [
             1,
             "#f0f921"
            ]
           ]
          },
          "colorway": [
           "#636efa",
           "#EF553B",
           "#00cc96",
           "#ab63fa",
           "#FFA15A",
           "#19d3f3",
           "#FF6692",
           "#B6E880",
           "#FF97FF",
           "#FECB52"
          ],
          "font": {
           "color": "#2a3f5f"
          },
          "geo": {
           "bgcolor": "white",
           "lakecolor": "white",
           "landcolor": "#E5ECF6",
           "showlakes": true,
           "showland": true,
           "subunitcolor": "white"
          },
          "hoverlabel": {
           "align": "left"
          },
          "hovermode": "closest",
          "mapbox": {
           "style": "light"
          },
          "paper_bgcolor": "white",
          "plot_bgcolor": "#E5ECF6",
          "polar": {
           "angularaxis": {
            "gridcolor": "white",
            "linecolor": "white",
            "ticks": ""
           },
           "bgcolor": "#E5ECF6",
           "radialaxis": {
            "gridcolor": "white",
            "linecolor": "white",
            "ticks": ""
           }
          },
          "scene": {
           "xaxis": {
            "backgroundcolor": "#E5ECF6",
            "gridcolor": "white",
            "gridwidth": 2,
            "linecolor": "white",
            "showbackground": true,
            "ticks": "",
            "zerolinecolor": "white"
           },
           "yaxis": {
            "backgroundcolor": "#E5ECF6",
            "gridcolor": "white",
            "gridwidth": 2,
            "linecolor": "white",
            "showbackground": true,
            "ticks": "",
            "zerolinecolor": "white"
           },
           "zaxis": {
            "backgroundcolor": "#E5ECF6",
            "gridcolor": "white",
            "gridwidth": 2,
            "linecolor": "white",
            "showbackground": true,
            "ticks": "",
            "zerolinecolor": "white"
           }
          },
          "shapedefaults": {
           "line": {
            "color": "#2a3f5f"
           }
          },
          "ternary": {
           "aaxis": {
            "gridcolor": "white",
            "linecolor": "white",
            "ticks": ""
           },
           "baxis": {
            "gridcolor": "white",
            "linecolor": "white",
            "ticks": ""
           },
           "bgcolor": "#E5ECF6",
           "caxis": {
            "gridcolor": "white",
            "linecolor": "white",
            "ticks": ""
           }
          },
          "title": {
           "x": 0.05
          },
          "xaxis": {
           "automargin": true,
           "gridcolor": "white",
           "linecolor": "white",
           "ticks": "",
           "title": {
            "standoff": 15
           },
           "zerolinecolor": "white",
           "zerolinewidth": 2
          },
          "yaxis": {
           "automargin": true,
           "gridcolor": "white",
           "linecolor": "white",
           "ticks": "",
           "title": {
            "standoff": 15
           },
           "zerolinecolor": "white",
           "zerolinewidth": 2
          }
         }
        },
        "title": {
         "text": "Popularity Index and Stock Price Over Time"
        },
        "xaxis": {
         "tickangle": 45,
         "title": {
          "text": "Time"
         }
        },
        "yaxis": {
         "color": "firebrick",
         "showgrid": false,
         "side": "left",
         "title": {
          "text": "Popularity Index"
         },
         "zeroline": false
        },
        "yaxis2": {
         "color": "royalblue",
         "overlaying": "y",
         "showgrid": false,
         "side": "right",
         "title": {
          "text": "Stock Price"
         },
         "zeroline": false
        }
       }
      },
      "text/html": [
       "<div>                            <div id=\"78bff340-2972-4386-98de-247083852ccf\" class=\"plotly-graph-div\" style=\"height:525px; width:100%;\"></div>            <script type=\"text/javascript\">                require([\"plotly\"], function(Plotly) {                    window.PLOTLYENV=window.PLOTLYENV || {};                                    if (document.getElementById(\"78bff340-2972-4386-98de-247083852ccf\")) {                    Plotly.newPlot(                        \"78bff340-2972-4386-98de-247083852ccf\",                        [{\"line\":{\"color\":\"firebrick\"},\"mode\":\"lines\",\"name\":\"Heat Index\",\"x\":[0,1,2,3,4,5,6,7,8,9,10,11,12,13,14,15,16,17,18,19,20,21,22,23,24,25,26,27,28,29,30,31,32,33,34,35,36,37,38,39,40,41,42,43,44,45,46,47,48,49,50,51,52,53,54,55,56,57,58,59,60,61,62,63,64,65,66,67,68,69,70,71,72,73,74,75,76,77,78,79,80,81,82,83,84,85,86,87,88,89,90,91,92,93,94,95,96,97,98,99,100,101,102,103,104,105,106,107,108,109,110,111,112,113,114,115,116,117,118,119,120,121,122,123,124,125,126,127,128,129,130,131,132,133,134,135,136,137,138,139,140,141,142,143,144,145,146,147,148,149,150,151,152,153,154,155,156,157,158,159,160,161,162,163,164,165,166,167,168,169,170,171,172,173,174,175,176,177,178,179,180,181,182,183,184,185,186,187,188,189,190,191,192,193,194,195,196,197,198,199,200,201,202,203,204,205,206,207,208,209,210,211,212,213,214,215,216,217,218,219,220,221,222,223,224,225,226,227,228,229,230,231,232,233,234,235,236,237,238,239,240,241,242,243,244,245,246,247,248,249,250,251,252,253,254,255,256,257,258,259,260,261,262,263,264,265,266,267,268,269,270,271,272,273,274,275,276,277,278,279,280,281,282,283,284,285,286,287,288,289,290,291,292,293,294,295,296,297,298,299,300,301,302,303,304,305,306,307,308,309],\"y\":[0,0,0,2,5,6,36,0,1,4,0,6,5,0,8,5,0,1,5,2,15,2,0,25,17,2,3,0,0,0,0,9,2,14,6,10,17,14,7,24,17,11,169,10,4,76,52,37,10,0,10,15,7,11,14,1,7,15,38,1,108,25,28,2,40,7,0,7,0,1,11,0,39,7,0,8,5,4,6,0,4,0,8,17,0,1,0,25,2,0,34,16,4,4,2,11,0,11,1,4,10,2,9,4,10,10,12,4,5,12,57,5,0,6,6,18,0,65,14,9,16,11,22,93,13,10,25,51,37,20,23,19,23,2,15,8,0,0,35,13,4,20,6,16,74,41,5,31,8,12,13,1,2,3,18,2,9,5,0,3,0,19,22,9,3,7,6,13,2,4,18,33,0,100,0,3,24,39,2,4,3,1,12,17,30,4,4,2,10,7,10,6,24,15,9,62,19,17,7,2,42,1,127,34,17,15,66,8,5,64,69,0,93,79,18,84,103,22,5,3,16,0,19,38,0,10,39,0,43,0,3,4,18,0,8,0,0,22,1,10,31,0,1,0,1,43,85,31,73,19,33,17,44,41,26,12,44,45,77,81,23,0,31,88,22,27,16,30,56,121,35,143,108,36,188,156,145,322,181,236,208,190,51,239,89,281,249,136,91,278,338,873,445,395,184,182,128,73,164,248,311,154,95,478,330,317,377,673,416,40],\"type\":\"scatter\"},{\"line\":{\"color\":\"royalblue\"},\"mode\":\"lines\",\"name\":\"Close\",\"x\":[0,1,2,3,4,5,6,7,8,9,10,11,12,13,14,15,16,17,18,19,20,21,22,23,24,25,26,27,28,29,30,31,32,33,34,35,36,37,38,39,40,41,42,43,44,45,46,47,48,49,50,51,52,53,54,55,56,57,58,59,60,61,62,63,64,65,66,67,68,69,70,71,72,73,74,75,76,77,78,79,80,81,82,83,84,85,86,87,88,89,90,91,92,93,94,95,96,97,98,99,100,101,102,103,104,105,106,107,108,109,110,111,112,113,114,115,116,117,118,119,120,121,122,123,124,125,126,127,128,129,130,131,132,133,134,135,136,137,138,139,140,141,142,143,144,145,146,147,148,149,150,151,152,153,154,155,156,157,158,159,160,161,162,163,164,165,166,167,168,169,170,171,172,173,174,175,176,177,178,179,180,181,182,183,184,185,186,187,188,189,190,191,192,193,194,195,196,197,198,199,200,201,202,203,204,205,206,207,208,209,210,211,212,213,214,215,216,217,218,219,220,221,222,223,224,225,226,227,228,229,230,231,232,233,234,235,236,237,238,239,240,241,242,243,244,245,246,247,248,249,250,251,252,253,254,255,256,257,258,259,260,261,262,263,264,265,266,267,268,269,270,271,272,273,274,275,276,277,278,279,280,281,282,283,284,285,286,287,288,289,290,291,292,293,294,295,296,297,298,299,300,301,302,303,304,305,306,307,308,309],\"y\":[5.633538799812206,5.615060540952808,5.594004802897756,5.599791372775026,5.619639739177298,5.604661717816338,5.579541174230335,5.57833264283309,5.589418538461871,5.598495989591375,5.622825507230111,5.63232226894489,5.60226644466912,5.60281968960497,null,5.599976354003978,5.5699081813431945,5.5967909926585175,5.606757528813923,5.6257848604638045,5.666772669776365,5.642261639277004,5.627693013983447,5.61902308730608,5.658785066884461,null,5.675074344823598,5.654977278873795,5.665907542999301,5.655222280541628,5.646859306085091,null,null,5.668258915133281,5.677198925788846,5.709698271771833,5.758207523477509,5.745052416832921,null,5.742233693106409,5.726456807988087,5.721556919128409,5.939644766782608,5.964761141164512,null,null,5.994235666507542,5.935793251665016,5.985697982387142,5.974496370907222,null,5.970521747111875,5.957235378840811,5.926259136982707,5.953503056401232,5.96023187562865,null,5.97842998256712,6.016693603591474,6.063715441137631,6.055682702090046,6.0565966724964335,null,null,null,6.082401512425139,6.064831200981765,6.064366435091649,6.045218551962696,null,6.00714104372079,6.037297987331181,6.019006785898098,6.0118062472155565,6.04741943324893,null,null,6.050040023801049,null,6.047774020283088,6.042704087675822,6.052159752315704,6.044531239595171,6.049851344509159,6.084544945068187,6.1307263405164525,6.119615872465185,null,6.14119831171105,6.163188484477715,6.154369628664453,6.12073690917416,6.093772900654251,null,null,6.100587962918589,6.124223786386324,6.119241892848453,6.129050210060545,6.147399348728743,null,null,6.146950069208185,6.1421879469436105,6.09286975534031,6.098411290541077,6.102111040337391,null,6.1184716059155395,6.101752934586199,6.05335897179517,6.049450408102427,6.012614276458546,6.08114527258977,6.0854101462955255,6.075024105713052,6.071753382951034,6.0707146099523595,null,null,6.152030348116473,6.123982911480106,6.155197747580269,6.156194790473063,6.131617702079947,null,null,6.149215892466072,6.189987475040535,6.1997787146243875,6.201624146550251,6.184334432486472,null,null,null,6.185138114896149,6.154029693662732,6.136451952072233,6.121878588024245,null,null,6.113195333465662,6.1063545397258645,6.1199677074592325,6.12207605163025,6.0844994130751715,6.08600171002991,6.075805723115262,6.045929093381592,6.016571739601886,6.030925630408507,null,6.045526507574946,6.038133379510019,6.0513359276623735,6.065852871923509,6.075323019329663,6.104391381594473,6.075736789215541,6.087706120303515,6.1022901133855525,6.126039134478106,null,null,6.115295945595611,6.1268255390569495,6.14859648855532,6.151561822266384,6.119439875541506,null,6.133289603277795,6.0853646536807044,6.044910501484572,6.042656610121809,6.025551902771033,null,6.063203644262958,6.079086165987149,6.034978935480864,5.999581540007827,6.003887067106539,null,6.02007626265496,6.010776828714165,6.047963021013245,6.075483948014489,6.10935866103939,null,6.125798764257638,6.130247723691617,6.143627517033882,6.1516682986483175,6.180741041323979,6.186620086563224,6.2077043180776865,6.192117070814119,6.204153616266109,6.200468627581748,null,null,6.222754815622869,6.213487474757974,6.188592619429764,null,6.169108535281837,null,null,6.178815130870849,6.170049947737798,6.176698512885324,6.147827090389313,6.147720140050452,null,6.120517188206512,6.143455762684061,6.1203633486456726,6.144099774216612,6.163441107636952,null,null,6.14476484188892,6.166614631505206,6.175617769128511,6.181051314893349,6.192157957312151,null,6.216146891872036,6.206656586778269,6.176095903010926,6.1942012763971315,6.190929946492558,null,null,6.200083138068986,6.20287961385032,6.205002110296261,6.205002110296261,null,null,null,6.177279978623723,6.164766385769394,6.173744459284811,6.196383028168302,null,null,6.258682453957862,6.27551507848943,6.298029706561264,6.3066766133401115,6.304631557202113,null,null,null,6.334735064038338,6.32888281645623,6.347511806343882,6.3884100882153865,null,null,6.391146260247741,6.39481071184044,6.419375835897611,6.423522871895878,6.413967021523424,null,null,6.437191531299353,6.442126052072246,6.422061228359805,6.446148330736078,6.494661107433785,null,null,6.541491663169457,6.52536681507582,6.552493607332065,6.545938528584141,6.581096753783073,null,null,6.582689710260116,6.581027451617656,6.6052979209482015,6.588348617344504,6.587729069041567,null,null,null,6.543220988272804,6.514297747017457,6.666167683454676,6.669713781061864,null,null,6.673196803358672,6.6682409675233005,6.654964052914838,6.673449656641582,6.712700977344874,null,null,6.748020698994865,6.75651371440617,6.787844982309579,6.8316190997139,6.774543868300789,null,null,6.754301011603427],\"yaxis\":\"y2\",\"type\":\"scatter\"}],                        {\"template\":{\"data\":{\"histogram2dcontour\":[{\"type\":\"histogram2dcontour\",\"colorbar\":{\"outlinewidth\":0,\"ticks\":\"\"},\"colorscale\":[[0.0,\"#0d0887\"],[0.1111111111111111,\"#46039f\"],[0.2222222222222222,\"#7201a8\"],[0.3333333333333333,\"#9c179e\"],[0.4444444444444444,\"#bd3786\"],[0.5555555555555556,\"#d8576b\"],[0.6666666666666666,\"#ed7953\"],[0.7777777777777778,\"#fb9f3a\"],[0.8888888888888888,\"#fdca26\"],[1.0,\"#f0f921\"]]}],\"choropleth\":[{\"type\":\"choropleth\",\"colorbar\":{\"outlinewidth\":0,\"ticks\":\"\"}}],\"histogram2d\":[{\"type\":\"histogram2d\",\"colorbar\":{\"outlinewidth\":0,\"ticks\":\"\"},\"colorscale\":[[0.0,\"#0d0887\"],[0.1111111111111111,\"#46039f\"],[0.2222222222222222,\"#7201a8\"],[0.3333333333333333,\"#9c179e\"],[0.4444444444444444,\"#bd3786\"],[0.5555555555555556,\"#d8576b\"],[0.6666666666666666,\"#ed7953\"],[0.7777777777777778,\"#fb9f3a\"],[0.8888888888888888,\"#fdca26\"],[1.0,\"#f0f921\"]]}],\"heatmap\":[{\"type\":\"heatmap\",\"colorbar\":{\"outlinewidth\":0,\"ticks\":\"\"},\"colorscale\":[[0.0,\"#0d0887\"],[0.1111111111111111,\"#46039f\"],[0.2222222222222222,\"#7201a8\"],[0.3333333333333333,\"#9c179e\"],[0.4444444444444444,\"#bd3786\"],[0.5555555555555556,\"#d8576b\"],[0.6666666666666666,\"#ed7953\"],[0.7777777777777778,\"#fb9f3a\"],[0.8888888888888888,\"#fdca26\"],[1.0,\"#f0f921\"]]}],\"heatmapgl\":[{\"type\":\"heatmapgl\",\"colorbar\":{\"outlinewidth\":0,\"ticks\":\"\"},\"colorscale\":[[0.0,\"#0d0887\"],[0.1111111111111111,\"#46039f\"],[0.2222222222222222,\"#7201a8\"],[0.3333333333333333,\"#9c179e\"],[0.4444444444444444,\"#bd3786\"],[0.5555555555555556,\"#d8576b\"],[0.6666666666666666,\"#ed7953\"],[0.7777777777777778,\"#fb9f3a\"],[0.8888888888888888,\"#fdca26\"],[1.0,\"#f0f921\"]]}],\"contourcarpet\":[{\"type\":\"contourcarpet\",\"colorbar\":{\"outlinewidth\":0,\"ticks\":\"\"}}],\"contour\":[{\"type\":\"contour\",\"colorbar\":{\"outlinewidth\":0,\"ticks\":\"\"},\"colorscale\":[[0.0,\"#0d0887\"],[0.1111111111111111,\"#46039f\"],[0.2222222222222222,\"#7201a8\"],[0.3333333333333333,\"#9c179e\"],[0.4444444444444444,\"#bd3786\"],[0.5555555555555556,\"#d8576b\"],[0.6666666666666666,\"#ed7953\"],[0.7777777777777778,\"#fb9f3a\"],[0.8888888888888888,\"#fdca26\"],[1.0,\"#f0f921\"]]}],\"surface\":[{\"type\":\"surface\",\"colorbar\":{\"outlinewidth\":0,\"ticks\":\"\"},\"colorscale\":[[0.0,\"#0d0887\"],[0.1111111111111111,\"#46039f\"],[0.2222222222222222,\"#7201a8\"],[0.3333333333333333,\"#9c179e\"],[0.4444444444444444,\"#bd3786\"],[0.5555555555555556,\"#d8576b\"],[0.6666666666666666,\"#ed7953\"],[0.7777777777777778,\"#fb9f3a\"],[0.8888888888888888,\"#fdca26\"],[1.0,\"#f0f921\"]]}],\"mesh3d\":[{\"type\":\"mesh3d\",\"colorbar\":{\"outlinewidth\":0,\"ticks\":\"\"}}],\"scatter\":[{\"fillpattern\":{\"fillmode\":\"overlay\",\"size\":10,\"solidity\":0.2},\"type\":\"scatter\"}],\"parcoords\":[{\"type\":\"parcoords\",\"line\":{\"colorbar\":{\"outlinewidth\":0,\"ticks\":\"\"}}}],\"scatterpolargl\":[{\"type\":\"scatterpolargl\",\"marker\":{\"colorbar\":{\"outlinewidth\":0,\"ticks\":\"\"}}}],\"bar\":[{\"error_x\":{\"color\":\"#2a3f5f\"},\"error_y\":{\"color\":\"#2a3f5f\"},\"marker\":{\"line\":{\"color\":\"#E5ECF6\",\"width\":0.5},\"pattern\":{\"fillmode\":\"overlay\",\"size\":10,\"solidity\":0.2}},\"type\":\"bar\"}],\"scattergeo\":[{\"type\":\"scattergeo\",\"marker\":{\"colorbar\":{\"outlinewidth\":0,\"ticks\":\"\"}}}],\"scatterpolar\":[{\"type\":\"scatterpolar\",\"marker\":{\"colorbar\":{\"outlinewidth\":0,\"ticks\":\"\"}}}],\"histogram\":[{\"marker\":{\"pattern\":{\"fillmode\":\"overlay\",\"size\":10,\"solidity\":0.2}},\"type\":\"histogram\"}],\"scattergl\":[{\"type\":\"scattergl\",\"marker\":{\"colorbar\":{\"outlinewidth\":0,\"ticks\":\"\"}}}],\"scatter3d\":[{\"type\":\"scatter3d\",\"line\":{\"colorbar\":{\"outlinewidth\":0,\"ticks\":\"\"}},\"marker\":{\"colorbar\":{\"outlinewidth\":0,\"ticks\":\"\"}}}],\"scattermapbox\":[{\"type\":\"scattermapbox\",\"marker\":{\"colorbar\":{\"outlinewidth\":0,\"ticks\":\"\"}}}],\"scatterternary\":[{\"type\":\"scatterternary\",\"marker\":{\"colorbar\":{\"outlinewidth\":0,\"ticks\":\"\"}}}],\"scattercarpet\":[{\"type\":\"scattercarpet\",\"marker\":{\"colorbar\":{\"outlinewidth\":0,\"ticks\":\"\"}}}],\"carpet\":[{\"aaxis\":{\"endlinecolor\":\"#2a3f5f\",\"gridcolor\":\"white\",\"linecolor\":\"white\",\"minorgridcolor\":\"white\",\"startlinecolor\":\"#2a3f5f\"},\"baxis\":{\"endlinecolor\":\"#2a3f5f\",\"gridcolor\":\"white\",\"linecolor\":\"white\",\"minorgridcolor\":\"white\",\"startlinecolor\":\"#2a3f5f\"},\"type\":\"carpet\"}],\"table\":[{\"cells\":{\"fill\":{\"color\":\"#EBF0F8\"},\"line\":{\"color\":\"white\"}},\"header\":{\"fill\":{\"color\":\"#C8D4E3\"},\"line\":{\"color\":\"white\"}},\"type\":\"table\"}],\"barpolar\":[{\"marker\":{\"line\":{\"color\":\"#E5ECF6\",\"width\":0.5},\"pattern\":{\"fillmode\":\"overlay\",\"size\":10,\"solidity\":0.2}},\"type\":\"barpolar\"}],\"pie\":[{\"automargin\":true,\"type\":\"pie\"}]},\"layout\":{\"autotypenumbers\":\"strict\",\"colorway\":[\"#636efa\",\"#EF553B\",\"#00cc96\",\"#ab63fa\",\"#FFA15A\",\"#19d3f3\",\"#FF6692\",\"#B6E880\",\"#FF97FF\",\"#FECB52\"],\"font\":{\"color\":\"#2a3f5f\"},\"hovermode\":\"closest\",\"hoverlabel\":{\"align\":\"left\"},\"paper_bgcolor\":\"white\",\"plot_bgcolor\":\"#E5ECF6\",\"polar\":{\"bgcolor\":\"#E5ECF6\",\"angularaxis\":{\"gridcolor\":\"white\",\"linecolor\":\"white\",\"ticks\":\"\"},\"radialaxis\":{\"gridcolor\":\"white\",\"linecolor\":\"white\",\"ticks\":\"\"}},\"ternary\":{\"bgcolor\":\"#E5ECF6\",\"aaxis\":{\"gridcolor\":\"white\",\"linecolor\":\"white\",\"ticks\":\"\"},\"baxis\":{\"gridcolor\":\"white\",\"linecolor\":\"white\",\"ticks\":\"\"},\"caxis\":{\"gridcolor\":\"white\",\"linecolor\":\"white\",\"ticks\":\"\"}},\"coloraxis\":{\"colorbar\":{\"outlinewidth\":0,\"ticks\":\"\"}},\"colorscale\":{\"sequential\":[[0.0,\"#0d0887\"],[0.1111111111111111,\"#46039f\"],[0.2222222222222222,\"#7201a8\"],[0.3333333333333333,\"#9c179e\"],[0.4444444444444444,\"#bd3786\"],[0.5555555555555556,\"#d8576b\"],[0.6666666666666666,\"#ed7953\"],[0.7777777777777778,\"#fb9f3a\"],[0.8888888888888888,\"#fdca26\"],[1.0,\"#f0f921\"]],\"sequentialminus\":[[0.0,\"#0d0887\"],[0.1111111111111111,\"#46039f\"],[0.2222222222222222,\"#7201a8\"],[0.3333333333333333,\"#9c179e\"],[0.4444444444444444,\"#bd3786\"],[0.5555555555555556,\"#d8576b\"],[0.6666666666666666,\"#ed7953\"],[0.7777777777777778,\"#fb9f3a\"],[0.8888888888888888,\"#fdca26\"],[1.0,\"#f0f921\"]],\"diverging\":[[0,\"#8e0152\"],[0.1,\"#c51b7d\"],[0.2,\"#de77ae\"],[0.3,\"#f1b6da\"],[0.4,\"#fde0ef\"],[0.5,\"#f7f7f7\"],[0.6,\"#e6f5d0\"],[0.7,\"#b8e186\"],[0.8,\"#7fbc41\"],[0.9,\"#4d9221\"],[1,\"#276419\"]]},\"xaxis\":{\"gridcolor\":\"white\",\"linecolor\":\"white\",\"ticks\":\"\",\"title\":{\"standoff\":15},\"zerolinecolor\":\"white\",\"automargin\":true,\"zerolinewidth\":2},\"yaxis\":{\"gridcolor\":\"white\",\"linecolor\":\"white\",\"ticks\":\"\",\"title\":{\"standoff\":15},\"zerolinecolor\":\"white\",\"automargin\":true,\"zerolinewidth\":2},\"scene\":{\"xaxis\":{\"backgroundcolor\":\"#E5ECF6\",\"gridcolor\":\"white\",\"linecolor\":\"white\",\"showbackground\":true,\"ticks\":\"\",\"zerolinecolor\":\"white\",\"gridwidth\":2},\"yaxis\":{\"backgroundcolor\":\"#E5ECF6\",\"gridcolor\":\"white\",\"linecolor\":\"white\",\"showbackground\":true,\"ticks\":\"\",\"zerolinecolor\":\"white\",\"gridwidth\":2},\"zaxis\":{\"backgroundcolor\":\"#E5ECF6\",\"gridcolor\":\"white\",\"linecolor\":\"white\",\"showbackground\":true,\"ticks\":\"\",\"zerolinecolor\":\"white\",\"gridwidth\":2}},\"shapedefaults\":{\"line\":{\"color\":\"#2a3f5f\"}},\"annotationdefaults\":{\"arrowcolor\":\"#2a3f5f\",\"arrowhead\":0,\"arrowwidth\":1},\"geo\":{\"bgcolor\":\"white\",\"landcolor\":\"#E5ECF6\",\"subunitcolor\":\"white\",\"showland\":true,\"showlakes\":true,\"lakecolor\":\"white\"},\"title\":{\"x\":0.05},\"mapbox\":{\"style\":\"light\"}}},\"xaxis\":{\"title\":{\"text\":\"Time\"},\"tickangle\":45},\"yaxis\":{\"title\":{\"text\":\"Popularity Index\"},\"side\":\"left\",\"showgrid\":false,\"zeroline\":false,\"color\":\"firebrick\"},\"yaxis2\":{\"title\":{\"text\":\"Stock Price\"},\"side\":\"right\",\"overlaying\":\"y\",\"showgrid\":false,\"zeroline\":false,\"color\":\"royalblue\"},\"title\":{\"text\":\"Popularity Index and Stock Price Over Time\"}},                        {\"responsive\": true}                    ).then(function(){\n",
       "                            \n",
       "var gd = document.getElementById('78bff340-2972-4386-98de-247083852ccf');\n",
       "var x = new MutationObserver(function (mutations, observer) {{\n",
       "        var display = window.getComputedStyle(gd).display;\n",
       "        if (!display || display === 'none') {{\n",
       "            console.log([gd, 'removed!']);\n",
       "            Plotly.purge(gd);\n",
       "            observer.disconnect();\n",
       "        }}\n",
       "}});\n",
       "\n",
       "// Listen for the removal of the full notebook cells\n",
       "var notebookContainer = gd.closest('#notebook-container');\n",
       "if (notebookContainer) {{\n",
       "    x.observe(notebookContainer, {childList: true});\n",
       "}}\n",
       "\n",
       "// Listen for the clearing of the current output cell\n",
       "var outputEl = gd.closest('.output');\n",
       "if (outputEl) {{\n",
       "    x.observe(outputEl, {childList: true});\n",
       "}}\n",
       "\n",
       "                        })                };                });            </script>        </div>"
      ]
     },
     "metadata": {},
     "output_type": "display_data"
    }
   ],
   "source": [
    "import dash\n",
    "import dash_core_components as dcc\n",
    "from dash import html\n",
    "from dash.dependencies import Input, Output\n",
    "import plotly.express as px\n",
    "from wordcloud import WordCloud\n",
    "import pandas as pd\n",
    "import numpy as np\n",
    "\n",
    "\n",
    "# Initialize the Dash app\n",
    "app = dash.Dash(__name__)\n",
    "\n",
    "# Define app styles\n",
    "app.layout = html.Div([\n",
    "    html.H1(\"Data Dashboard\", style={'textAlign': 'center', 'marginBottom': '20px'}),\n",
    "    \n",
    "    # Timeseries plot with stock prices -- company under wallstree\n",
    "\n",
    "    html.Div([\n",
    "        html.H3(\"Select company to explore its investor sentiment overtime:\", style={'textAlign': 'center'}),\n",
    "        dcc.Dropdown(\n",
    "            id='bet-company-dropdown',\n",
    "            options=[{'label': company, 'value': company} for company in bet_company],\n",
    "            value=subreddits[0],\n",
    "            style={'width': '50%', 'margin': '0 auto'}\n",
    "        ),\n",
    "#         html.H3(\"Word Cloud\", style={'textAlign': 'center'}),\n",
    "          dcc.Graph(\n",
    "        id='stock-price-plot',\n",
    "        config={'displayModeBar': False},\n",
    "        style={'height': '400px'}\n",
    "    )\n",
    "    ], style={'marginBottom': '20px'}),\n",
    "    \n",
    "    # Word cloud\n",
    "    html.Div([\n",
    "        html.H3(\"Select topic in WallStreetBet to generate word cloud:\", style={'textAlign': 'center'}),\n",
    "        dcc.Dropdown(\n",
    "            id='topic-dropdown',\n",
    "            options=[{'label': topic, 'value': topic} for topic in ['NVDA','AI']],\n",
    "            value=subreddits[0],\n",
    "            style={'width': '50%', 'margin': '0 auto'}\n",
    "        ),\n",
    "#         html.H3(\"Word Cloud\", style={'textAlign': 'center'}),\n",
    "        dcc.Graph(\n",
    "            id='word-cloud',\n",
    "            config={'displayModeBar': False},\n",
    "            style={'height': '300px'}\n",
    "        )\n",
    "    ], style={'marginBottom': '20px'}),\n",
    "    \n",
    "    # Dropdown for product selection, plot polularity index\n",
    "    html.Div([\n",
    "        html.H3(\"Select AI product\", style={'textAlign': 'center'}),\n",
    "        dcc.Dropdown(\n",
    "            id='product-dropdown',\n",
    "            options=[{'label': product, 'value': product} for product in products],\n",
    "            value=subreddits[0],\n",
    "            style={'width': '50%', 'margin': '0 auto'}\n",
    "        ),\n",
    "        dcc.Graph(\n",
    "            id='product-polularity-index-timeseries-plot',\n",
    "            config={'displayModeBar': False},\n",
    "            style={'height': '300px'}\n",
    "        )\n",
    "    ], style={'marginBottom': '20px'}),\n",
    "    \n",
    "    # Dropdown for company selection, plot polularity index\n",
    "    html.Div([\n",
    "        html.H3(\"Select AI company\", style={'textAlign': 'center'}),\n",
    "        dcc.Dropdown(\n",
    "            id='company-dropdown',\n",
    "            options=[{'label': company, 'value': company} for company in companies],\n",
    "            value=subreddits[0],\n",
    "            style={'width': '50%', 'margin': '0 auto'}\n",
    "        ),\n",
    "        dcc.Graph(\n",
    "            id='company-polularity-index-timeseries-plot',\n",
    "            config={'displayModeBar': False},\n",
    "            style={'height': '300px'}\n",
    "        )\n",
    "    ], style={'marginBottom': '20px'}),\n",
    "    \n",
    "])\n",
    "\n",
    "# Callback to update stock price plot\n",
    "@app.callback(\n",
    "    Output('stock-price-plot', 'figure'),\n",
    "    Input('bet-company-dropdown', 'value')\n",
    ")\n",
    "def update_stock_price_plot(relayoutData):\n",
    "    # Update stock price plot based on user interaction (if needed)\n",
    "    fig = px.line(stock_data, x='Date', y='StockPrice', title='Stock Prices Over Time')\n",
    "    fig.update_layout(\n",
    "        margin=dict(l=20, r=20, t=40, b=20),\n",
    "        paper_bgcolor='rgba(0,0,0,0)',\n",
    "        plot_bgcolor='rgba(0,0,0,0)',\n",
    "        font=dict(family='Arial', size=12, color='black')\n",
    "    )\n",
    "    return fig\n",
    "\n",
    "# Callback to update word cloud\n",
    "@app.callback(\n",
    "    Output('word-cloud', 'figure'),\n",
    "    Input('topic-dropdown', 'value')\n",
    ")\n",
    "def update_word_cloud(selected_topic):\n",
    "    # Generate word cloud\n",
    "    if selected_topic ==\"AI\":\n",
    "        wordcloud = WordCloud(background_color = 'white',width=800, height=400).generate(text_data_ai)\n",
    "    elif selected_topic ==\"NVDA\":\n",
    "        wordcloud = WordCloud(background_color = 'white',width=800, height=400).generate(text_data_nvda)\n",
    "    else: \n",
    "        wordcloud = WordCloud(background_color = 'white',width=800, height=400).generate(text_data_ai)\n",
    "    fig = px.imshow(wordcloud, title='Word Cloud')\n",
    "    fig.update_layout(\n",
    "        margin=dict(l=20, r=20, t=40, b=20),\n",
    "        paper_bgcolor='white',  # Change paper background color to white\n",
    "        plot_bgcolor='white',   # Change plot background color to white\n",
    "        font=dict(family='Arial', size=12, color='White')\n",
    "    )\n",
    "    fig.update_xaxes(showticklabels=False)\n",
    "    fig.update_yaxes(showticklabels=False)\n",
    "    return fig\n",
    "\n",
    "# Callback to update topic-specific timeseries plot\n",
    "@app.callback(\n",
    "    Output('product-polularity-index-timeseries-plot', 'figure'),\n",
    "    Input('product-dropdown', 'value')\n",
    ")\n",
    "def update_topic_timeseries_plot(selected_product):\n",
    "    # 创建图表\n",
    "    grouped = pd.read_parquet('output/HeatOutput/Wallstreetbets_topic/HeatData_bets_{}.parquet'.format(selected_product))\n",
    "    fig = go.Figure()\n",
    "\n",
    "    # 添加 heat index 曲线\n",
    "    fig.add_trace(go.Scatter(x=grouped.index, y=grouped['heat_index'], mode='lines', name='Heat Index', line=dict(color='firebrick')))\n",
    "\n",
    "    # 添加 Close 曲线\n",
    "    fig.add_trace(go.Scatter(x=grouped.index, y=filtered_df.groupby('time')['Close'].mean(), mode='lines', name='Close', yaxis='y2', line=dict(color='royalblue')))\n",
    "\n",
    "    # 设置布局\n",
    "    fig.update_layout(title='Popularity Index and Stock Price Over Time',\n",
    "                      xaxis=dict(title='Time', tickangle=45),\n",
    "                      yaxis=dict(title='Popularity Index', side='left', showgrid=False, zeroline=False, color='firebrick'),\n",
    "                      yaxis2=dict(title='Stock Price', side='right', overlaying='y', showgrid=False, zeroline=False, color='royalblue'))\n",
    "\n",
    "    # 显示图表\n",
    "    fig.show()\n",
    "    return fig\n",
    "\n",
    "# Callback to update topic-specific timeseries plot\n",
    "@app.callback(\n",
    "    Output('company-polularity-index-timeseries-plot', 'figure'),\n",
    "    Input('company-dropdown', 'value')\n",
    ")\n",
    "def update_topic_timeseries_plot_company(selected_company):\n",
    "    # 创建图表\n",
    "    grouped = pd.read_parquet('output/HeatOutput/Subreddit/HeatData_bets_{}.parquet'.format(selected_company))\n",
    "    fig = go.Figure()\n",
    "\n",
    "    # 添加 heat index 曲线\n",
    "    fig.add_trace(go.Scatter(x=grouped.index, y=grouped['heat_index'], mode='lines', name='Heat Index', line=dict(color='firebrick')))\n",
    "\n",
    "    # 添加 Close 曲线\n",
    "    fig.add_trace(go.Scatter(x=grouped.index, y=filtered_df.groupby('time')['Close'].mean(), mode='lines', name='Close', yaxis='y2', line=dict(color='royalblue')))\n",
    "\n",
    "    # 设置布局\n",
    "    fig.update_layout(title='Popularity Index and Stock Price Over Time',\n",
    "                      xaxis=dict(title='Time', tickangle=45),\n",
    "                      yaxis=dict(title='Popularity Index', side='left', showgrid=False, zeroline=False, color='firebrick'),\n",
    "                      yaxis2=dict(title='Stock Price', side='right', overlaying='y', showgrid=False, zeroline=False, color='royalblue'))\n",
    "\n",
    "    # 显示图表\n",
    "    fig.show()\n",
    "    return fig\n",
    "\n",
    "if __name__ == '__main__':\n",
    "    app.run_server(debug=True,port=8080)"
   ]
  },
  {
   "cell_type": "code",
   "execution_count": null,
   "id": "c686a025",
   "metadata": {},
   "outputs": [],
   "source": []
  }
 ],
 "metadata": {
  "kernelspec": {
   "display_name": "Python 3 (ipykernel)",
   "language": "python",
   "name": "python3"
  },
  "language_info": {
   "codemirror_mode": {
    "name": "ipython",
    "version": 3
   },
   "file_extension": ".py",
   "mimetype": "text/x-python",
   "name": "python",
   "nbconvert_exporter": "python",
   "pygments_lexer": "ipython3",
   "version": "3.11.5"
  }
 },
 "nbformat": 4,
 "nbformat_minor": 5
}
