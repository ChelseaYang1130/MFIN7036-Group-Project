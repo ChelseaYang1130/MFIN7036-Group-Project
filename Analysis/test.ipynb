{
 "cells": [
  {
   "cell_type": "code",
   "execution_count": 1,
   "id": "29ad9a80",
   "metadata": {},
   "outputs": [
    {
     "name": "stderr",
     "output_type": "stream",
     "text": [
      "/var/folders/zv/gmw7q4z17yq1g1cskc8llzn40000gn/T/ipykernel_7928/3586538828.py:7: UserWarning: \n",
      "The dash_core_components package is deprecated. Please replace\n",
      "`import dash_core_components as dcc` with `from dash import dcc`\n",
      "  import dash_core_components as dcc\n",
      "/var/folders/zv/gmw7q4z17yq1g1cskc8llzn40000gn/T/ipykernel_7928/3586538828.py:8: UserWarning: \n",
      "The dash_html_components package is deprecated. Please replace\n",
      "`import dash_html_components as html` with `from dash import html`\n",
      "  import dash_html_components as html\n"
     ]
    },
    {
     "data": {
      "text/html": [
       "\n",
       "        <iframe\n",
       "            width=\"100%\"\n",
       "            height=\"650\"\n",
       "            src=\"http://127.0.0.1:8080/\"\n",
       "            frameborder=\"0\"\n",
       "            allowfullscreen\n",
       "            \n",
       "        ></iframe>\n",
       "        "
      ],
      "text/plain": [
       "<IPython.lib.display.IFrame at 0x17739b2d0>"
      ]
     },
     "metadata": {},
     "output_type": "display_data"
    },
    {
     "name": "stdout",
     "output_type": "stream",
     "text": [
      "---------------------------------------------------------------------------\n",
      "AttributeError                            Traceback (most recent call last)\n",
      "Cell In[1], line 46, in update_word_cloud(selected_topic='Technology')\n",
      "     43 @app.callback(Output('word-cloud', 'figure'),\n",
      "     44               [Input('topic-dropdown', 'value')])\n",
      "     45 def update_word_cloud(selected_topic):\n",
      "---> 46     filtered_data = word_cloud_data[word_cloud_data['word'].str.contains(selected_topic)]\n",
      "        word_cloud_data = {'word': ['apple', 'stock', 'health', 'green', 'finance', 'technology'], 'count': [50, 30, 20, 40, 25, 35]}\n",
      "        selected_topic = 'Technology'\n",
      "        word_cloud_data['word'] = ['apple', 'stock', 'health', 'green', 'finance', 'technology']\n",
      "     47     return ff.create_wordcloud(filtered_data, size=(800, 400))\n",
      "\n",
      "AttributeError: 'list' object has no attribute 'str'\n",
      "\n"
     ]
    }
   ],
   "source": [
    "import plotly.graph_objects as go\n",
    "import plotly.express as px\n",
    "import pandas as pd\n",
    "import numpy as np\n",
    "import plotly.figure_factory as ff\n",
    "import dash\n",
    "import dash_core_components as dcc\n",
    "import dash_html_components as html\n",
    "from dash.dependencies import Input, Output\n",
    "\n",
    "# Sample data for demonstration (replace with your actual data)\n",
    "dates = pd.date_range(start='2023-01-01', end='2023-12-31', freq='D')\n",
    "stock_prices = np.random.rand(len(dates)) * 100\n",
    "topics = ['Technology', 'Finance', 'Health', 'Environment']\n",
    "word_cloud_data = {'word': ['apple', 'stock', 'health', 'green', 'finance', 'technology'],\n",
    "                   'count': [50, 30, 20, 40, 25, 35]}\n",
    "\n",
    "# Create a Dash app\n",
    "app = dash.Dash(__name__)\n",
    "\n",
    "# Define the layout\n",
    "app.layout = html.Div([\n",
    "    html.H1(\"Data Dashboard with Plotly\"),\n",
    "    \n",
    "    # Timeseries plot with stock prices\n",
    "    dcc.Graph(id='stock-prices',\n",
    "              figure=px.line(x=dates, y=stock_prices, labels={'x': 'Date', 'y': 'Stock Price'})),\n",
    "    \n",
    "    # Word cloud with topic selection\n",
    "    dcc.Dropdown(id='topic-dropdown',\n",
    "                 options=[{'label': topic, 'value': topic} for topic in topics],\n",
    "                 value=topics[0]),\n",
    "    dcc.Graph(id='word-cloud'),\n",
    "    \n",
    "    # Timeseries of specific topic with topic selection\n",
    "    dcc.Dropdown(id='specific-topic-dropdown',\n",
    "                 options=[{'label': topic, 'value': topic} for topic in topics],\n",
    "                 value=topics[0]),\n",
    "    dcc.Graph(id='specific-topic-timeseries')\n",
    "])\n",
    "\n",
    "# Callback to update word cloud based on selected topic\n",
    "@app.callback(Output('word-cloud', 'figure'),\n",
    "              [Input('topic-dropdown', 'value')])\n",
    "def update_word_cloud(selected_topic):\n",
    "    filtered_data = word_cloud_data[word_cloud_data['word'].str.contains(selected_topic)]\n",
    "    return ff.create_wordcloud(filtered_data, size=(800, 400))\n",
    "\n",
    "# Callback to update timeseries of specific topic based on selected topic\n",
    "@app.callback(Output('specific-topic-timeseries', 'figure'),\n",
    "              [Input('specific-topic-dropdown', 'value')])\n",
    "def update_specific_topic_timeseries(selected_topic):\n",
    "    # Generate sample data for demonstration\n",
    "    specific_topic_data = np.random.rand(len(dates)) * 50\n",
    "    return px.line(x=dates, y=specific_topic_data,\n",
    "                   labels={'x': 'Date', 'y': f'{selected_topic} Score'})\n",
    "\n",
    "if __name__ == '__main__':\n",
    "    app.run_server(debug=True,port=8080)\n"
   ]
  },
  {
   "cell_type": "code",
   "execution_count": null,
   "id": "e0aab3f5",
   "metadata": {},
   "outputs": [],
   "source": []
  }
 ],
 "metadata": {
  "kernelspec": {
   "display_name": "Python 3 (ipykernel)",
   "language": "python",
   "name": "python3"
  },
  "language_info": {
   "codemirror_mode": {
    "name": "ipython",
    "version": 3
   },
   "file_extension": ".py",
   "mimetype": "text/x-python",
   "name": "python",
   "nbconvert_exporter": "python",
   "pygments_lexer": "ipython3",
   "version": "3.11.5"
  }
 },
 "nbformat": 4,
 "nbformat_minor": 5
}
