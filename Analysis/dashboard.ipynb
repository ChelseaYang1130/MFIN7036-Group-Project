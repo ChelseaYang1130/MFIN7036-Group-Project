{
 "cells": [
  {
   "cell_type": "code",
   "execution_count": 25,
   "id": "a9ecafa6",
   "metadata": {},
   "outputs": [],
   "source": [
    "import pandas as pd\n",
    "import numpy as np\n",
    "import glob\n",
    "import os\n",
    "import pyarrow.parquet as pq\n",
    "import plotly.graph_objects as go"
   ]
  },
  {
   "cell_type": "code",
   "execution_count": 26,
   "id": "5fd99819",
   "metadata": {},
   "outputs": [
    {
     "name": "stderr",
     "output_type": "stream",
     "text": [
      "/var/folders/zv/gmw7q4z17yq1g1cskc8llzn40000gn/T/ipykernel_1021/4070941606.py:8: SettingWithCopyWarning:\n",
      "\n",
      "\n",
      "A value is trying to be set on a copy of a slice from a DataFrame.\n",
      "Try using .loc[row_indexer,col_indexer] = value instead\n",
      "\n",
      "See the caveats in the documentation: https://pandas.pydata.org/pandas-docs/stable/user_guide/indexing.html#returning-a-view-versus-a-copy\n",
      "\n"
     ]
    }
   ],
   "source": [
    "## heatindex\n",
    "comment = pd.read_parquet('data/NVDA_Stock_new.pq')\n",
    "stock = pd.read_csv('stock_data/NVDA.csv')\n",
    "stock['Date'] = pd.to_datetime(stock['Date'])\n",
    "stock = stock.rename(columns={'Date': 'time'})\n",
    "df = stock.merge(comment, on='time', how='outer')\n",
    "filtered_df = df[(df['time'] >= '2023-04-01') & (df['time'] <= '2024-03-31')]\n",
    "filtered_df['Close'] = filtered_df['Close'].apply(lambda x: np.log(x))\n",
    "# 按照日期对 cbody 和 title 列进行去重计数\n",
    "grouped = filtered_df.groupby('time').agg({'cbody': pd.Series.nunique, 'title': pd.Series.nunique})\n",
    "\n",
    "# 计算每天的 heat index\n",
    "grouped['heat_index'] = grouped['cbody'] + grouped['title']"
   ]
  },
  {
   "cell_type": "code",
   "execution_count": 27,
   "id": "6dc81c7a",
   "metadata": {},
   "outputs": [],
   "source": [
    "text_data_ai= pq.read_table('data/bets_ai_search.pq').to_pandas()['cbody'][:1000].str.cat()\n",
    "text_data_nvda = pq.read_table('data/bets_nvda_search.pq').to_pandas()['cbody'][:1000].str.cat()"
   ]
  },
  {
   "cell_type": "code",
   "execution_count": 32,
   "id": "1e6d7b9d",
   "metadata": {},
   "outputs": [
    {
     "ename": "KeyError",
     "evalue": "'subreddit'",
     "output_type": "error",
     "traceback": [
      "\u001b[0;31m---------------------------------------------------------------------------\u001b[0m",
      "\u001b[0;31mKeyError\u001b[0m                                  Traceback (most recent call last)",
      "File \u001b[0;32m~/anaconda3/lib/python3.11/site-packages/pandas/core/indexes/base.py:3653\u001b[0m, in \u001b[0;36mIndex.get_loc\u001b[0;34m(self, key)\u001b[0m\n\u001b[1;32m   3652\u001b[0m \u001b[38;5;28;01mtry\u001b[39;00m:\n\u001b[0;32m-> 3653\u001b[0m     \u001b[38;5;28;01mreturn\u001b[39;00m \u001b[38;5;28mself\u001b[39m\u001b[38;5;241m.\u001b[39m_engine\u001b[38;5;241m.\u001b[39mget_loc(casted_key)\n\u001b[1;32m   3654\u001b[0m \u001b[38;5;28;01mexcept\u001b[39;00m \u001b[38;5;167;01mKeyError\u001b[39;00m \u001b[38;5;28;01mas\u001b[39;00m err:\n",
      "File \u001b[0;32m~/anaconda3/lib/python3.11/site-packages/pandas/_libs/index.pyx:147\u001b[0m, in \u001b[0;36mpandas._libs.index.IndexEngine.get_loc\u001b[0;34m()\u001b[0m\n",
      "File \u001b[0;32m~/anaconda3/lib/python3.11/site-packages/pandas/_libs/index.pyx:176\u001b[0m, in \u001b[0;36mpandas._libs.index.IndexEngine.get_loc\u001b[0;34m()\u001b[0m\n",
      "File \u001b[0;32mpandas/_libs/hashtable_class_helper.pxi:7080\u001b[0m, in \u001b[0;36mpandas._libs.hashtable.PyObjectHashTable.get_item\u001b[0;34m()\u001b[0m\n",
      "File \u001b[0;32mpandas/_libs/hashtable_class_helper.pxi:7088\u001b[0m, in \u001b[0;36mpandas._libs.hashtable.PyObjectHashTable.get_item\u001b[0;34m()\u001b[0m\n",
      "\u001b[0;31mKeyError\u001b[0m: 'subreddit'",
      "\nThe above exception was the direct cause of the following exception:\n",
      "\u001b[0;31mKeyError\u001b[0m                                  Traceback (most recent call last)",
      "Cell \u001b[0;32mIn[32], line 5\u001b[0m\n\u001b[1;32m      2\u001b[0m stock_price \u001b[38;5;241m=\u001b[39m pd\u001b[38;5;241m.\u001b[39mread_parquet(\u001b[38;5;124m\"\u001b[39m\u001b[38;5;124moutput/stock_price.parquet\u001b[39m\u001b[38;5;124m\"\u001b[39m)\n\u001b[1;32m      4\u001b[0m \u001b[38;5;66;03m# Sample topic-specific data (replace with actual data)\u001b[39;00m\n\u001b[0;32m----> 5\u001b[0m subreddits \u001b[38;5;241m=\u001b[39m \u001b[38;5;28mlist\u001b[39m(\u001b[38;5;28mset\u001b[39m(df[\u001b[38;5;124m'\u001b[39m\u001b[38;5;124msubreddit\u001b[39m\u001b[38;5;124m'\u001b[39m]))\n\u001b[1;32m      7\u001b[0m topic_data \u001b[38;5;241m=\u001b[39m {\n\u001b[1;32m      8\u001b[0m }\n\u001b[1;32m      9\u001b[0m \u001b[38;5;28;01mfor\u001b[39;00m i \u001b[38;5;129;01min\u001b[39;00m subreddits:\n",
      "File \u001b[0;32m~/anaconda3/lib/python3.11/site-packages/pandas/core/frame.py:3761\u001b[0m, in \u001b[0;36mDataFrame.__getitem__\u001b[0;34m(self, key)\u001b[0m\n\u001b[1;32m   3759\u001b[0m \u001b[38;5;28;01mif\u001b[39;00m \u001b[38;5;28mself\u001b[39m\u001b[38;5;241m.\u001b[39mcolumns\u001b[38;5;241m.\u001b[39mnlevels \u001b[38;5;241m>\u001b[39m \u001b[38;5;241m1\u001b[39m:\n\u001b[1;32m   3760\u001b[0m     \u001b[38;5;28;01mreturn\u001b[39;00m \u001b[38;5;28mself\u001b[39m\u001b[38;5;241m.\u001b[39m_getitem_multilevel(key)\n\u001b[0;32m-> 3761\u001b[0m indexer \u001b[38;5;241m=\u001b[39m \u001b[38;5;28mself\u001b[39m\u001b[38;5;241m.\u001b[39mcolumns\u001b[38;5;241m.\u001b[39mget_loc(key)\n\u001b[1;32m   3762\u001b[0m \u001b[38;5;28;01mif\u001b[39;00m is_integer(indexer):\n\u001b[1;32m   3763\u001b[0m     indexer \u001b[38;5;241m=\u001b[39m [indexer]\n",
      "File \u001b[0;32m~/anaconda3/lib/python3.11/site-packages/pandas/core/indexes/base.py:3655\u001b[0m, in \u001b[0;36mIndex.get_loc\u001b[0;34m(self, key)\u001b[0m\n\u001b[1;32m   3653\u001b[0m     \u001b[38;5;28;01mreturn\u001b[39;00m \u001b[38;5;28mself\u001b[39m\u001b[38;5;241m.\u001b[39m_engine\u001b[38;5;241m.\u001b[39mget_loc(casted_key)\n\u001b[1;32m   3654\u001b[0m \u001b[38;5;28;01mexcept\u001b[39;00m \u001b[38;5;167;01mKeyError\u001b[39;00m \u001b[38;5;28;01mas\u001b[39;00m err:\n\u001b[0;32m-> 3655\u001b[0m     \u001b[38;5;28;01mraise\u001b[39;00m \u001b[38;5;167;01mKeyError\u001b[39;00m(key) \u001b[38;5;28;01mfrom\u001b[39;00m \u001b[38;5;21;01merr\u001b[39;00m\n\u001b[1;32m   3656\u001b[0m \u001b[38;5;28;01mexcept\u001b[39;00m \u001b[38;5;167;01mTypeError\u001b[39;00m:\n\u001b[1;32m   3657\u001b[0m     \u001b[38;5;66;03m# If we have a listlike key, _check_indexing_error will raise\u001b[39;00m\n\u001b[1;32m   3658\u001b[0m     \u001b[38;5;66;03m#  InvalidIndexError. Otherwise we fall through and re-raise\u001b[39;00m\n\u001b[1;32m   3659\u001b[0m     \u001b[38;5;66;03m#  the TypeError.\u001b[39;00m\n\u001b[1;32m   3660\u001b[0m     \u001b[38;5;28mself\u001b[39m\u001b[38;5;241m.\u001b[39m_check_indexing_error(key)\n",
      "\u001b[0;31mKeyError\u001b[0m: 'subreddit'"
     ]
    }
   ],
   "source": [
    "# Sample stock price data (replace with actual data)\n",
    "stock_price = pd.read_parquet(\"output/stock_price.parquet\")\n",
    "\n",
    "# Sample topic-specific data (replace with actual data)\n",
    "subreddits = list(set(df['subreddit']))\n",
    "\n",
    "topic_data = {\n",
    "}\n",
    "for i in subreddits:\n",
    "    topic_data[i] = list(df[df['subreddit']==i]['Polarity'])"
   ]
  },
  {
   "cell_type": "code",
   "execution_count": null,
   "id": "1f698cf4",
   "metadata": {},
   "outputs": [],
   "source": [
    "stock_data = stock_price.copy()"
   ]
  },
  {
   "cell_type": "markdown",
   "id": "1feb5185",
   "metadata": {},
   "source": [
    "i want to generate a data dashboard with python plotly. the dashboard contains the following elements:\n",
    "1) a timeseries plot with stock prices; 2) word cloud, i need a button to choose the a topic; 3) timeseries of specific topic, i need a button to choose the topic"
   ]
  },
  {
   "cell_type": "code",
   "execution_count": 31,
   "id": "fbbd245f",
   "metadata": {},
   "outputs": [
    {
     "data": {
      "text/html": [
       "\n",
       "        <iframe\n",
       "            width=\"100%\"\n",
       "            height=\"650\"\n",
       "            src=\"http://127.0.0.1:8080/\"\n",
       "            frameborder=\"0\"\n",
       "            allowfullscreen\n",
       "            \n",
       "        ></iframe>\n",
       "        "
      ],
      "text/plain": [
       "<IPython.lib.display.IFrame at 0x2c8518dd0>"
      ]
     },
     "metadata": {},
     "output_type": "display_data"
    }
   ],
   "source": [
    "import dash\n",
    "import dash_core_components as dcc\n",
    "from dash import html\n",
    "from dash.dependencies import Input, Output\n",
    "import plotly.express as px\n",
    "from wordcloud import WordCloud\n",
    "import pandas as pd\n",
    "import numpy as np\n",
    "\n",
    "\n",
    "# Initialize the Dash app\n",
    "app = dash.Dash(__name__)\n",
    "\n",
    "# Define app styles\n",
    "app.layout = html.Div([\n",
    "    html.H1(\"Data Dashboard\", style={'textAlign': 'center', 'marginBottom': '20px'}),\n",
    "    \n",
    "    # Timeseries plot with stock prices\n",
    "    dcc.Graph(\n",
    "        id='stock-price-plot',\n",
    "        config={'displayModeBar': False},\n",
    "        style={'height': '400px'}\n",
    "    ),\n",
    "    \n",
    "    # Word cloud\n",
    "    html.Div([\n",
    "        html.H3(\"Select topic in WallStreetBet to generate word cloud:\", style={'textAlign': 'center'}),\n",
    "        dcc.Dropdown(\n",
    "            id='topic-dropdown',\n",
    "            options=[{'label': topic, 'value': topic} for topic in ['NVDA','AI']],\n",
    "            value=subreddits[0],\n",
    "            style={'width': '50%', 'margin': '0 auto'}\n",
    "        ),\n",
    "#         html.H3(\"Word Cloud\", style={'textAlign': 'center'}),\n",
    "        dcc.Graph(\n",
    "            id='word-cloud',\n",
    "            config={'displayModeBar': False},\n",
    "            style={'height': '300px'}\n",
    "        )\n",
    "    ], style={'marginBottom': '20px'}),\n",
    "    \n",
    "    # Dropdown for topic selection\n",
    "    html.Div([\n",
    "        html.H3(\"Select Company\", style={'textAlign': 'center'}),\n",
    "        dcc.Dropdown(\n",
    "            id='company-dropdown',\n",
    "            options=[{'label': topic, 'value': topic} for topic in subreddits],\n",
    "            value=subreddits[0],\n",
    "            style={'width': '50%', 'margin': '0 auto'}\n",
    "        ),\n",
    "        dcc.Graph(\n",
    "            id='subreddit-timeseries-plot',\n",
    "            config={'displayModeBar': False},\n",
    "            style={'height': '300px'}\n",
    "        )\n",
    "    ], style={'marginBottom': '20px'}),\n",
    "    \n",
    "])\n",
    "\n",
    "# Callback to update stock price plot\n",
    "@app.callback(\n",
    "    Output('stock-price-plot', 'figure'),\n",
    "    Input('stock-price-plot', 'relayoutData')\n",
    ")\n",
    "def update_stock_price_plot(relayoutData):\n",
    "    # Update stock price plot based on user interaction (if needed)\n",
    "    fig = px.line(stock_data, x='Date', y='StockPrice', title='Stock Prices Over Time')\n",
    "    fig.update_layout(\n",
    "        margin=dict(l=20, r=20, t=40, b=20),\n",
    "        paper_bgcolor='rgba(0,0,0,0)',\n",
    "        plot_bgcolor='rgba(0,0,0,0)',\n",
    "        font=dict(family='Arial', size=12, color='black')\n",
    "    )\n",
    "    return fig\n",
    "\n",
    "# Callback to update word cloud\n",
    "@app.callback(\n",
    "    Output('word-cloud', 'figure'),\n",
    "    Input('topic-dropdown', 'value')\n",
    ")\n",
    "def update_word_cloud(selected_topic):\n",
    "    # Generate word cloud\n",
    "    if selected_topic ==\"AI\":\n",
    "        wordcloud = WordCloud(background_color = 'white',width=800, height=400).generate(text_data_ai)\n",
    "    elif selected_topic ==\"NVDA\":\n",
    "        wordcloud = WordCloud(background_color = 'white',width=800, height=400).generate(text_data_nvda)\n",
    "    else: \n",
    "        wordcloud = WordCloud(background_color = 'white',width=800, height=400).generate(text_data_ai)\n",
    "    fig = px.imshow(wordcloud, title='Word Cloud')\n",
    "    fig.update_layout(\n",
    "        margin=dict(l=20, r=20, t=40, b=20),\n",
    "        paper_bgcolor='white',  # Change paper background color to white\n",
    "        plot_bgcolor='white',   # Change plot background color to white\n",
    "        font=dict(family='Arial', size=12, color='White')\n",
    "    )\n",
    "    fig.update_xaxes(showticklabels=False)\n",
    "    fig.update_yaxes(showticklabels=False)\n",
    "    return fig\n",
    "\n",
    "# Callback to update topic-specific timeseries plot\n",
    "@app.callback(\n",
    "    Output('subreddit-timeseries-plot', 'figure'),\n",
    "    Input('company-dropdown', 'value')\n",
    ")\n",
    "def update_topic_timeseries_plot(selected_topic):\n",
    "    # Update timeseries plot based on selected topic\n",
    "    # 创建图表\n",
    "    fig = go.Figure()\n",
    "\n",
    "    # 添加 heat index 曲线\n",
    "    fig.add_trace(go.Scatter(x=grouped.index, y=grouped['heat_index'], mode='lines', name='Heat Index', line=dict(color='firebrick')))\n",
    "\n",
    "    # 添加 Close 曲线\n",
    "    fig.add_trace(go.Scatter(x=grouped.index, y=filtered_df.groupby('time')['Close'].mean(), mode='lines', name='Close', yaxis='y2', line=dict(color='royalblue')))\n",
    "\n",
    "    # 设置布局\n",
    "    fig.update_layout(title='Heat Index and Close Over Time',\n",
    "                      xaxis=dict(title='Time', tickangle=45),\n",
    "                      yaxis=dict(title='Popularity Index', side='left', showgrid=False, zeroline=False, color='firebrick'),\n",
    "                      yaxis2=dict(title='Stock Price', side='right', overlaying='y', showgrid=False, zeroline=False, color='royalblue'))\n",
    "    fig.update_layout(\n",
    "        margin=dict(l=20, r=20, t=40, b=20),\n",
    "        paper_bgcolor='rgba(0,0,0,0)',\n",
    "        plot_bgcolor='rgba(0,0,0,0)',\n",
    "        font=dict(family='Arial', size=12, color='black')\n",
    "    )\n",
    "    return fig\n",
    "\n",
    "if __name__ == '__main__':\n",
    "    app.run_server(debug=True,port=8080)"
   ]
  },
  {
   "cell_type": "code",
   "execution_count": null,
   "id": "c686a025",
   "metadata": {},
   "outputs": [],
   "source": []
  }
 ],
 "metadata": {
  "kernelspec": {
   "display_name": "Python 3 (ipykernel)",
   "language": "python",
   "name": "python3"
  },
  "language_info": {
   "codemirror_mode": {
    "name": "ipython",
    "version": 3
   },
   "file_extension": ".py",
   "mimetype": "text/x-python",
   "name": "python",
   "nbconvert_exporter": "python",
   "pygments_lexer": "ipython3",
   "version": "3.11.5"
  }
 },
 "nbformat": 4,
 "nbformat_minor": 5
}
