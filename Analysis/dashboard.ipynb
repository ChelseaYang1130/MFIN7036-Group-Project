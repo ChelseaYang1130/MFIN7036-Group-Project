{
 "cells": [
  {
   "cell_type": "code",
   "execution_count": 1,
   "id": "a9ecafa6",
   "metadata": {},
   "outputs": [],
   "source": [
    "import pandas as pd\n",
    "import numpy as np\n",
    "import glob\n",
    "import os\n",
    "import pyarrow.parquet as pq\n",
    "import plotly.graph_objects as go\n",
    "\n",
    "import dash\n",
    "from dash import dcc\n",
    "import dash_bootstrap_components as dbc\n",
    "\n",
    "from dash import html\n",
    "from dash.dependencies import Input, Output\n",
    "import plotly.express as px\n",
    "from wordcloud import WordCloud\n"
   ]
  },
  {
   "cell_type": "code",
   "execution_count": 2,
   "id": "5fd99819",
   "metadata": {
    "scrolled": true
   },
   "outputs": [],
   "source": [
    "## heatindex Wallstreetbets_topic\n",
    "    \n",
    "products = ['ChatGPT', 'Sora', 'Gemini']\n",
    "companies = ['NVDA','AMD','Microsoft','Google','OpenAI']\n",
    "subreddits = ['NVDA', 'OpenAi']"
   ]
  },
  {
   "cell_type": "code",
   "execution_count": 3,
   "id": "6dc81c7a",
   "metadata": {},
   "outputs": [],
   "source": [
    "text_data_ai= pq.read_table('data/bets_ai_search.pq').to_pandas()['cbody'][:1000].str.cat()\n",
    "text_data_nvda = pq.read_table('data/bets_nvda_search.pq').to_pandas()['cbody'][:1000].str.cat()"
   ]
  },
  {
   "cell_type": "code",
   "execution_count": 4,
   "id": "3f357e3c",
   "metadata": {},
   "outputs": [],
   "source": [
    "# Sentimen score data \n",
    "df = pd.read_parquet(\"output/data_sample_3w_output.pq\") \n",
    "\n",
    "topic_data = {\n",
    "}\n",
    "for i in subreddits:\n",
    "    topic_data[i] = list(df[df['subreddit']==i]['Polarity'])"
   ]
  },
  {
   "cell_type": "code",
   "execution_count": 5,
   "id": "1e6d7b9d",
   "metadata": {},
   "outputs": [],
   "source": [
    "# Sample stock price data (replace with actual data)\n",
    "stock_data = pd.read_parquet(\"output/stock_price.parquet\")"
   ]
  },
  {
   "cell_type": "code",
   "execution_count": 6,
   "id": "75683024",
   "metadata": {},
   "outputs": [],
   "source": [
    "bet_topics = list(set(df[df['subreddit']==\"WSB\"]['topic']))"
   ]
  },
  {
   "cell_type": "markdown",
   "id": "1feb5185",
   "metadata": {},
   "source": [
    "i want to generate a data dashboard with python plotly. the dashboard contains the following elements:\n",
    "1) a timeseries plot with stock prices; 2) word cloud, i need a button to choose the a topic; 3) timeseries of specific topic, i need a button to choose the topic"
   ]
  },
  {
   "cell_type": "code",
   "execution_count": 61,
   "id": "baa61e08",
   "metadata": {},
   "outputs": [],
   "source": [
    "SIDEBAR_STYLE = {\n",
    "    'position': 'fixed',\n",
    "    'top': 0,\n",
    "    'left': 0,\n",
    "    'bottom': 0,\n",
    "    'width': '20%',\n",
    "    'padding': '20px 10px',\n",
    "    'background-color': '#f8f9fa'\n",
    "}\n",
    "\n",
    "# the style arguments for the main content page.\n",
    "CONTENT_STYLE = {\n",
    "    'margin-left': '25%',\n",
    "    'margin-right': '5%',\n",
    "    'top': 0,\n",
    "    'padding': '20px 10px'\n",
    "}\n",
    "\n",
    "TEXT_STYLE = {\n",
    "    'textAlign': 'center',\n",
    "    'color': '#191970'\n",
    "}\n",
    "\n",
    "CARD_TEXT_STYLE = {\n",
    "    'textAlign': 'center',\n",
    "    'color': '#0074D9'\n",
    "}"
   ]
  },
  {
   "cell_type": "code",
   "execution_count": 62,
   "id": "4c32ccb1",
   "metadata": {},
   "outputs": [],
   "source": [
    "content_first_row = dbc.Row(\n",
    "    [html.H4(\n",
    "    \"What did people say the amost about AI topics?\", className=\"bg-primary text-white p-2 mb-2 text-center\"\n",
    "    )])\n",
    "content_second_row = dbc.Row(\n",
    "    [\n",
    "        dbc.Col(\n",
    "            dcc.Graph(id='word-cloud'), md=12\n",
    "        )\n",
    "#         ,\n",
    "#         dbc.Col(\n",
    "#             dcc.Graph(id='graph_2'), md=4\n",
    "#         )\n",
    "    ]\n",
    ")\n",
    "header2 = dbc.Row(\n",
    "    [html.H4(\n",
    "    \"Popularity Index and Stock Price over time\", className=\"bg-primary text-white p-2 mb-2 text-center\"\n",
    "    )]\n",
    ")\n",
    "\n",
    "\n",
    "content_third_row = dbc.Row(\n",
    "    [\n",
    "        dbc.Col(\n",
    "            dcc.Graph(id='product-polularity-index-timeseries-plot'), md=6\n",
    "        ),\n",
    "        dbc.Col(\n",
    "            dcc.Graph(id='company-polularity-index-timeseries-plot'), md=6,\n",
    "        )\n",
    "    ]\n",
    ")\n",
    "header3 = dbc.Row(\n",
    "    [html.H4(\n",
    "    \"Investor Sentiment over time\", className=\"bg-primary text-white p-2 mb-2 text-center\"\n",
    "    )]\n",
    ")"
   ]
  },
  {
   "cell_type": "code",
   "execution_count": 63,
   "id": "a88cff48",
   "metadata": {},
   "outputs": [],
   "source": [
    "app = dash.Dash(external_stylesheets=[dbc.themes.BOOTSTRAP])\n",
    "\n",
    "SIDEBAR_STYLE = {\n",
    "    \"position\": \"fixed\",\n",
    "    \"top\": 0,\n",
    "    \"left\": 0,\n",
    "    \"bottom\": 0,\n",
    "    \"width\": \"16rem\",\n",
    "    \"padding\": \"2rem 1rem\",\n",
    "    \"background-color\": \"#f8f9fa\",\n",
    "}\n",
    "\n",
    "\n",
    "\n",
    "# Create the controls card\n",
    "controls = dbc.Card(\n",
    "    [\n",
    "        html.P('Topics for word cloud\\n (Public sentiment)', style={'textAlign': 'center'}),\n",
    "#         html.P('(Public sentiment)', style={'textAlign': 'center'}),\n",
    "        dbc.Card(\n",
    "            [\n",
    "            dbc.Checklist(\n",
    "                id='WallStreetBets-topic',\n",
    "                options=[{'label': x, 'value': x} for x in ['NVDA','AI']],\n",
    "                value=['NVDA'],\n",
    "#                 inline=True\n",
    "            )]\n",
    "        ),\n",
    "         html.Br(),\n",
    "        html.P('AI Company', style={'textAlign': 'center'}),\n",
    "        dbc.Card(\n",
    "            dbc.Checklist(\n",
    "                id='company-dropdown',\n",
    "                options=[{'label': x, 'value': x} for x in companies],\n",
    "                value=['NVDA'],\n",
    "#                 inline=True\n",
    "            )\n",
    "        ),\n",
    "        html.Br(),\n",
    "        html.P('AI Product', style={'textAlign': 'center'}),\n",
    "        dcc.Dropdown(\n",
    "            id='product-dropdown',  # Unique ID for the AI product dropdown\n",
    "            options=[{'label': x, 'value': x} for x in products],\n",
    "            value=['ChatGPT'],  # Default value\n",
    "            multi=False\n",
    "        ),\n",
    "        html.P('Subreddit', style={'textAlign': 'center'}),\n",
    "        dcc.Dropdown(\n",
    "            id='subreddit-dropdown',  # Unique ID for the subreddit dropdown\n",
    "            options=[{'label': x, 'value': x} for x in subreddits],\n",
    "            value=['NVDA'],  # Default value\n",
    "            multi=False\n",
    "        )\n",
    "        \n",
    "       \n",
    "    ],\n",
    "    body=True\n",
    ")\n"
   ]
  },
  {
   "cell_type": "code",
   "execution_count": 68,
   "id": "b29a2062",
   "metadata": {},
   "outputs": [],
   "source": [
    "app = dash.Dash(external_stylesheets=[dbc.themes.BOOTSTRAP])\n",
    "\n",
    "content = html.Div(\n",
    "    [\n",
    "        html.H2('Public and Investor Sentiment in AI Industry', style=TEXT_STYLE),\n",
    "        html.H3('by Reddit Comment Analysis', style={'textAlign': 'center','color': '#111111'}),\n",
    "        html.H5('Group FINIX', style={'textAlign': 'center','color': '#111111'}),\n",
    "        html.Hr(),\n",
    "        content_first_row,\n",
    "        content_second_row,\n",
    "        header2,\n",
    "        content_third_row,\n",
    "        header3\n",
    "#         ,\n",
    "#         content_fourth_row\n",
    "    ],\n",
    "    style=CONTENT_STYLE\n",
    ")\n",
    "\n",
    "sidebar = html.Div(\n",
    "    [\n",
    "        html.H2('Parameters', style=TEXT_STYLE),\n",
    "        html.Hr(),\n",
    "        controls\n",
    "    ],\n",
    "    style=SIDEBAR_STYLE,\n",
    ")\n",
    "app.layout = html.Div([sidebar, content])"
   ]
  },
  {
   "cell_type": "code",
   "execution_count": 69,
   "id": "4b30cc25",
   "metadata": {},
   "outputs": [
    {
     "data": {
      "text/html": [
       "\n",
       "        <iframe\n",
       "            width=\"100%\"\n",
       "            height=\"650\"\n",
       "            src=\"http://127.0.0.1:8080/\"\n",
       "            frameborder=\"0\"\n",
       "            allowfullscreen\n",
       "            \n",
       "        ></iframe>\n",
       "        "
      ],
      "text/plain": [
       "<IPython.lib.display.IFrame at 0x2c9a3c7d0>"
      ]
     },
     "metadata": {},
     "output_type": "display_data"
    },
    {
     "data": {
      "application/vnd.plotly.v1+json": {
       "config": {
        "plotlyServerURL": "https://plot.ly"
       },
       "data": [
        {
         "line": {
          "color": "firebrick"
         },
         "mode": "lines",
         "name": "Heat Index",
         "type": "scatter",
         "x": [
          0,
          1,
          2,
          3,
          4,
          5,
          6,
          7,
          8,
          9,
          10,
          11,
          12,
          13,
          14,
          15,
          16,
          17,
          18,
          19,
          20,
          21,
          22,
          23,
          24,
          25,
          26,
          27,
          28,
          29,
          30,
          31,
          32,
          33,
          34,
          35,
          36,
          37,
          38,
          39,
          40,
          41,
          42,
          43,
          44,
          45,
          46,
          47,
          48,
          49,
          50,
          51,
          52,
          53,
          54,
          55,
          56,
          57,
          58,
          59,
          60,
          61,
          62,
          63,
          64,
          65,
          66,
          67,
          68,
          69,
          70,
          71,
          72,
          73,
          74,
          75,
          76,
          77,
          78,
          79,
          80,
          81,
          82,
          83,
          84,
          85,
          86,
          87,
          88,
          89,
          90,
          91,
          92,
          93,
          94,
          95,
          96,
          97,
          98,
          99,
          100,
          101,
          102,
          103,
          104,
          105,
          106,
          107,
          108,
          109,
          110,
          111,
          112,
          113,
          114,
          115,
          116,
          117,
          118,
          119,
          120,
          121,
          122,
          123,
          124,
          125,
          126,
          127,
          128,
          129,
          130,
          131,
          132,
          133,
          134,
          135,
          136,
          137,
          138,
          139,
          140,
          141,
          142,
          143,
          144,
          145,
          146,
          147,
          148,
          149,
          150,
          151,
          152,
          153,
          154,
          155,
          156,
          157,
          158,
          159,
          160,
          161,
          162,
          163,
          164,
          165,
          166,
          167,
          168,
          169,
          170,
          171,
          172,
          173,
          174,
          175,
          176,
          177,
          178,
          179,
          180,
          181,
          182,
          183,
          184,
          185,
          186,
          187,
          188,
          189,
          190,
          191,
          192,
          193,
          194,
          195,
          196,
          197,
          198,
          199,
          200,
          201,
          202,
          203,
          204,
          205,
          206,
          207,
          208,
          209,
          210,
          211,
          212,
          213,
          214,
          215,
          216,
          217,
          218,
          219,
          220,
          221,
          222,
          223,
          224,
          225,
          226,
          227,
          228,
          229,
          230,
          231,
          232,
          233,
          234,
          235,
          236,
          237,
          238,
          239,
          240,
          241,
          242,
          243,
          244,
          245,
          246,
          247,
          248,
          249,
          250,
          251,
          252,
          253,
          254,
          255,
          256,
          257,
          258,
          259,
          260,
          261,
          262,
          263,
          264,
          265,
          266,
          267
         ],
         "y": [
          50,
          0,
          0,
          0,
          0,
          39,
          61,
          18,
          0,
          0,
          100,
          626,
          0,
          188,
          66,
          0,
          12,
          0,
          0,
          338,
          0,
          6,
          89,
          0,
          56,
          12,
          189,
          0,
          0,
          0,
          0,
          20,
          77,
          185,
          0,
          396,
          0,
          80,
          16,
          0,
          0,
          55,
          181,
          268,
          50,
          0,
          0,
          0,
          0,
          29,
          127,
          0,
          0,
          34,
          104,
          64,
          168,
          341,
          0,
          0,
          79,
          0,
          0,
          6,
          0,
          0,
          0,
          9,
          0,
          0,
          0,
          310,
          0,
          0,
          0,
          4,
          0,
          193,
          339,
          0,
          0,
          3,
          0,
          0,
          0,
          3,
          0,
          701,
          0,
          0,
          0,
          0,
          0,
          36,
          23,
          0,
          0,
          0,
          0,
          0,
          0,
          0,
          0,
          358,
          0,
          0,
          0,
          10,
          0,
          0,
          0,
          0,
          0,
          0,
          0,
          0,
          0,
          55,
          0,
          0,
          0,
          0,
          0,
          0,
          284,
          0,
          0,
          0,
          0,
          0,
          0,
          0,
          0,
          0,
          0,
          0,
          0,
          22,
          149,
          0,
          0,
          0,
          0,
          0,
          0,
          0,
          0,
          0,
          0,
          0,
          0,
          0,
          0,
          262,
          0,
          0,
          0,
          19,
          0,
          26,
          454,
          0,
          0,
          0,
          233,
          0,
          0,
          0,
          0,
          0,
          84,
          65,
          0,
          0,
          0,
          6,
          857,
          201,
          0,
          37,
          49,
          0,
          0,
          84,
          0,
          3,
          0,
          95,
          0,
          0,
          0,
          34,
          45,
          0,
          96,
          0,
          0,
          0,
          27,
          20,
          3,
          0,
          228,
          0,
          0,
          0,
          0,
          0,
          0,
          0,
          0,
          0,
          0,
          0,
          0,
          0,
          10,
          93,
          0,
          0,
          101,
          0,
          0,
          578,
          0,
          0,
          36,
          0,
          121,
          0,
          0,
          0,
          0,
          50,
          0,
          67,
          0,
          0,
          53,
          0,
          0,
          0,
          0,
          397,
          0,
          39,
          894,
          0,
          85,
          43,
          385,
          83,
          0,
          0,
          21,
          0,
          1036,
          26,
          0,
          0,
          51,
          0,
          47,
          0,
          0,
          22,
          555,
          0
         ]
        },
        {
         "line": {
          "color": "royalblue"
         },
         "mode": "lines",
         "name": "Close",
         "type": "scatter",
         "x": [
          0,
          1,
          2,
          3,
          4,
          5,
          6,
          7,
          8,
          9,
          10,
          11,
          12,
          13,
          14,
          15,
          16,
          17,
          18,
          19,
          20,
          21,
          22,
          23,
          24,
          25,
          26,
          27,
          28,
          29,
          30,
          31,
          32,
          33,
          34,
          35,
          36,
          37,
          38,
          39,
          40,
          41,
          42,
          43,
          44,
          45,
          46,
          47,
          48,
          49,
          50,
          51,
          52,
          53,
          54,
          55,
          56,
          57,
          58,
          59,
          60,
          61,
          62,
          63,
          64,
          65,
          66,
          67,
          68,
          69,
          70,
          71,
          72,
          73,
          74,
          75,
          76,
          77,
          78,
          79,
          80,
          81,
          82,
          83,
          84,
          85,
          86,
          87,
          88,
          89,
          90,
          91,
          92,
          93,
          94,
          95,
          96,
          97,
          98,
          99,
          100,
          101,
          102,
          103,
          104,
          105,
          106,
          107,
          108,
          109,
          110,
          111,
          112,
          113,
          114,
          115,
          116,
          117,
          118,
          119,
          120,
          121,
          122,
          123,
          124,
          125,
          126,
          127,
          128,
          129,
          130,
          131,
          132,
          133,
          134,
          135,
          136,
          137,
          138,
          139,
          140,
          141,
          142,
          143,
          144,
          145,
          146,
          147,
          148,
          149,
          150,
          151,
          152,
          153,
          154,
          155,
          156,
          157,
          158,
          159,
          160,
          161,
          162,
          163,
          164,
          165,
          166,
          167,
          168,
          169,
          170,
          171,
          172,
          173,
          174,
          175,
          176,
          177,
          178,
          179,
          180,
          181,
          182,
          183,
          184,
          185,
          186,
          187,
          188,
          189,
          190,
          191,
          192,
          193,
          194,
          195,
          196,
          197,
          198,
          199,
          200,
          201,
          202,
          203,
          204,
          205,
          206,
          207,
          208,
          209,
          210,
          211,
          212,
          213,
          214,
          215,
          216,
          217,
          218,
          219,
          220,
          221,
          222,
          223,
          224,
          225,
          226,
          227,
          228,
          229,
          230,
          231,
          232,
          233,
          234,
          235,
          236,
          237,
          238,
          239,
          240,
          241,
          242,
          243,
          244,
          245,
          246,
          247,
          248,
          249,
          250,
          251,
          252,
          253,
          254,
          255,
          256,
          257,
          258,
          259,
          260,
          261,
          262,
          263,
          264,
          265,
          266,
          267
         ],
         "y": [
          null,
          7.30274571879628,
          7.294166679283898,
          7.271098937532826,
          7.271133704299972,
          7.272592818112621,
          null,
          7.274881418419406,
          7.278670349330895,
          7.2742369791112536,
          7.288804736142512,
          7.283558112829046,
          7.286616282095136,
          7.288975507585844,
          7.280407897343751,
          7.2711684698584325,
          7.271244949832883,
          7.267462620552277,
          7.245697862684518,
          7.2415739981377865,
          7.252500344054741,
          7.258229035239164,
          null,
          7.25886979234022,
          7.248148390346587,
          7.249044466871737,
          7.241366283322318,
          7.256057267356927,
          7.263301586250048,
          7.2590176010759855,
          7.2702154561415115,
          7.264058153711705,
          7.2585389031252445,
          7.269317261869257,
          7.267595209064026,
          7.2819429755521226,
          7.297795364087488,
          7.302213364802003,
          7.31394678986258,
          7.300114883911821,
          7.293697720601438,
          7.302078546671457,
          7.325517796382182,
          null,
          7.326649807401961,
          7.346023113055852,
          7.335164510595452,
          7.338368180622953,
          7.3510683635998255,
          null,
          null,
          7.358072649160648,
          7.3653193568342825,
          7.3573329617086225,
          7.357626351510967,
          7.359658581196086,
          7.37467917070095,
          7.3947819407331075,
          7.397083480097293,
          7.40263443091844,
          7.397138652003773,
          7.393232325059686,
          7.382248813500724,
          7.366008896419982,
          7.36393884962701,
          7.3450678305294215,
          7.33748363922598,
          7.349063608061079,
          7.359155686357347,
          7.363545879975689,
          7.3742214086477,
          null,
          7.377308806947488,
          7.377877651177649,
          7.374465992527079,
          7.3546501968534415,
          7.360682685909647,
          7.3751429896945035,
          7.383610504197016,
          7.395027690794246,
          7.408997124706269,
          7.396770781784236,
          7.403152494590909,
          7.409578502466777,
          7.414108918314697,
          7.389946832809842,
          7.3897060065894955,
          null,
          7.3913474148664,
          7.3934538458004715,
          7.398296559445421,
          7.38670006667148,
          7.388976999489548,
          null,
          7.3973164074434035,
          7.392684465851952,
          7.3579515309204115,
          7.35257570656836,
          7.351556093355875,
          7.353267681607985,
          7.337314446599772,
          7.328332291565514,
          7.329067489182981,
          7.319288604825229,
          7.318711947499455,
          7.309239139096065,
          7.292282715875421,
          7.273703096628984,
          7.273377080165734,
          7.279580870046065,
          7.2807729500910385,
          7.294988525495498,
          7.277800441859041,
          7.282541224145686,
          7.292514151663234,
          7.307195607834132,
          7.313653626561861,
          7.318227828900841,
          7.3215985256008125,
          7.3226491297948035,
          7.316295653607229,
          7.316667771360211,
          7.302354904279959,
          7.29625732441184,
          null,
          7.301431166515325,
          7.2918877899869825,
          7.286404020930943,
          7.292010369885395,
          7.2861711665460644,
          7.285664178319256,
          7.27913950899177,
          7.2726483613252535,
          7.25245075476035,
          7.251302429275312,
          7.248916505089482,
          7.23478305677535,
          7.242118149597153,
          7.247963385685365,
          7.255379387400452,
          7.2480701233208,
          7.226725240467208,
          7.22766976086641,
          7.223827995916631,
          7.236864762652495,
          7.234992143392045,
          7.249620092347333,
          7.2492363788487,
          7.240398766718437,
          7.223295679562314,
          7.230469014293334,
          7.235734408198455,
          7.216004392373883,
          7.203747724429612,
          7.188352311710688,
          7.183460919423318,
          7.19121093269544,
          7.169734854081544,
          7.161265073460006,
          7.1600925173477625,
          null,
          7.156574374285481,
          7.1630871819492326,
          7.170473327014688,
          7.196559221901849,
          7.224309024452356,
          7.224644149981858,
          7.228758484699418,
          7.225059258480429,
          7.214997302227713,
          7.222390820994176,
          7.221024685592765,
          7.259545311143219,
          7.271015492359733,
          7.260445293626184,
          7.269254567036336,
          null,
          null,
          7.2811998238668165,
          7.276756935860941,
          7.276328160905894,
          7.277351384009391,
          7.28495807737233,
          null,
          7.280159860963811,
          7.283152855467907,
          7.297084230069716,
          7.296657306790831,
          7.312947016394604,
          7.310750673189374,
          7.302819821563379,
          7.306014486839972,
          7.3072157284910055,
          7.316156073742396,
          null,
          7.321697686370249,
          7.322728375900229,
          7.33969352742108,
          7.361070426941637,
          7.364458346613573,
          null,
          7.361089492294489,
          7.377677654926912,
          7.359932202512257,
          7.36974563756166,
          7.372212304220515,
          7.371791136448081,
          7.380710797113756,
          7.385770479712954,
          7.385888275201523,
          7.374829622055295,
          7.375036455714763,
          7.350387711431741,
          7.32287364411844,
          7.315777115871991,
          7.315364752960186,
          null,
          null,
          7.334251018250939,
          7.33434240504561,
          7.339245444914452,
          7.339303901846324,
          7.337327462433534,
          7.334675243475204,
          7.323922910223437,
          7.311231744383824,
          7.31924884602859,
          7.332388826403682,
          7.351061944517177,
          7.355794445849222,
          7.352774378033703,
          7.350400558214585,
          7.347299700743164,
          7.361788304342494,
          7.3518896661804805,
          7.334479469580376,
          7.338816656300665,
          7.342850384208433,
          null,
          7.3351449445060934,
          7.34173657480075,
          7.343445633875007,
          7.351357179680545,
          7.363146413860004,
          7.365078855070498,
          7.3406863860592315,
          7.353280491445941,
          7.373116900763068,
          7.3664767533907325,
          null,
          7.367601243382498,
          7.359868576328789,
          7.339329881608091,
          7.357211753840169,
          7.353069108133546,
          7.367569673839528,
          7.376458062494825,
          7.369751937825956,
          7.377102442801587,
          7.385516242160699,
          null,
          7.382105697237184,
          7.366603163655415,
          7.381178056273528,
          7.389075879060491,
          7.385646469469549,
          null,
          7.374127321993823
         ],
         "yaxis": "y2"
        }
       ],
       "layout": {
        "template": {
         "data": {
          "bar": [
           {
            "error_x": {
             "color": "#2a3f5f"
            },
            "error_y": {
             "color": "#2a3f5f"
            },
            "marker": {
             "line": {
              "color": "#E5ECF6",
              "width": 0.5
             },
             "pattern": {
              "fillmode": "overlay",
              "size": 10,
              "solidity": 0.2
             }
            },
            "type": "bar"
           }
          ],
          "barpolar": [
           {
            "marker": {
             "line": {
              "color": "#E5ECF6",
              "width": 0.5
             },
             "pattern": {
              "fillmode": "overlay",
              "size": 10,
              "solidity": 0.2
             }
            },
            "type": "barpolar"
           }
          ],
          "carpet": [
           {
            "aaxis": {
             "endlinecolor": "#2a3f5f",
             "gridcolor": "white",
             "linecolor": "white",
             "minorgridcolor": "white",
             "startlinecolor": "#2a3f5f"
            },
            "baxis": {
             "endlinecolor": "#2a3f5f",
             "gridcolor": "white",
             "linecolor": "white",
             "minorgridcolor": "white",
             "startlinecolor": "#2a3f5f"
            },
            "type": "carpet"
           }
          ],
          "choropleth": [
           {
            "colorbar": {
             "outlinewidth": 0,
             "ticks": ""
            },
            "type": "choropleth"
           }
          ],
          "contour": [
           {
            "colorbar": {
             "outlinewidth": 0,
             "ticks": ""
            },
            "colorscale": [
             [
              0,
              "#0d0887"
             ],
             [
              0.1111111111111111,
              "#46039f"
             ],
             [
              0.2222222222222222,
              "#7201a8"
             ],
             [
              0.3333333333333333,
              "#9c179e"
             ],
             [
              0.4444444444444444,
              "#bd3786"
             ],
             [
              0.5555555555555556,
              "#d8576b"
             ],
             [
              0.6666666666666666,
              "#ed7953"
             ],
             [
              0.7777777777777778,
              "#fb9f3a"
             ],
             [
              0.8888888888888888,
              "#fdca26"
             ],
             [
              1,
              "#f0f921"
             ]
            ],
            "type": "contour"
           }
          ],
          "contourcarpet": [
           {
            "colorbar": {
             "outlinewidth": 0,
             "ticks": ""
            },
            "type": "contourcarpet"
           }
          ],
          "heatmap": [
           {
            "colorbar": {
             "outlinewidth": 0,
             "ticks": ""
            },
            "colorscale": [
             [
              0,
              "#0d0887"
             ],
             [
              0.1111111111111111,
              "#46039f"
             ],
             [
              0.2222222222222222,
              "#7201a8"
             ],
             [
              0.3333333333333333,
              "#9c179e"
             ],
             [
              0.4444444444444444,
              "#bd3786"
             ],
             [
              0.5555555555555556,
              "#d8576b"
             ],
             [
              0.6666666666666666,
              "#ed7953"
             ],
             [
              0.7777777777777778,
              "#fb9f3a"
             ],
             [
              0.8888888888888888,
              "#fdca26"
             ],
             [
              1,
              "#f0f921"
             ]
            ],
            "type": "heatmap"
           }
          ],
          "heatmapgl": [
           {
            "colorbar": {
             "outlinewidth": 0,
             "ticks": ""
            },
            "colorscale": [
             [
              0,
              "#0d0887"
             ],
             [
              0.1111111111111111,
              "#46039f"
             ],
             [
              0.2222222222222222,
              "#7201a8"
             ],
             [
              0.3333333333333333,
              "#9c179e"
             ],
             [
              0.4444444444444444,
              "#bd3786"
             ],
             [
              0.5555555555555556,
              "#d8576b"
             ],
             [
              0.6666666666666666,
              "#ed7953"
             ],
             [
              0.7777777777777778,
              "#fb9f3a"
             ],
             [
              0.8888888888888888,
              "#fdca26"
             ],
             [
              1,
              "#f0f921"
             ]
            ],
            "type": "heatmapgl"
           }
          ],
          "histogram": [
           {
            "marker": {
             "pattern": {
              "fillmode": "overlay",
              "size": 10,
              "solidity": 0.2
             }
            },
            "type": "histogram"
           }
          ],
          "histogram2d": [
           {
            "colorbar": {
             "outlinewidth": 0,
             "ticks": ""
            },
            "colorscale": [
             [
              0,
              "#0d0887"
             ],
             [
              0.1111111111111111,
              "#46039f"
             ],
             [
              0.2222222222222222,
              "#7201a8"
             ],
             [
              0.3333333333333333,
              "#9c179e"
             ],
             [
              0.4444444444444444,
              "#bd3786"
             ],
             [
              0.5555555555555556,
              "#d8576b"
             ],
             [
              0.6666666666666666,
              "#ed7953"
             ],
             [
              0.7777777777777778,
              "#fb9f3a"
             ],
             [
              0.8888888888888888,
              "#fdca26"
             ],
             [
              1,
              "#f0f921"
             ]
            ],
            "type": "histogram2d"
           }
          ],
          "histogram2dcontour": [
           {
            "colorbar": {
             "outlinewidth": 0,
             "ticks": ""
            },
            "colorscale": [
             [
              0,
              "#0d0887"
             ],
             [
              0.1111111111111111,
              "#46039f"
             ],
             [
              0.2222222222222222,
              "#7201a8"
             ],
             [
              0.3333333333333333,
              "#9c179e"
             ],
             [
              0.4444444444444444,
              "#bd3786"
             ],
             [
              0.5555555555555556,
              "#d8576b"
             ],
             [
              0.6666666666666666,
              "#ed7953"
             ],
             [
              0.7777777777777778,
              "#fb9f3a"
             ],
             [
              0.8888888888888888,
              "#fdca26"
             ],
             [
              1,
              "#f0f921"
             ]
            ],
            "type": "histogram2dcontour"
           }
          ],
          "mesh3d": [
           {
            "colorbar": {
             "outlinewidth": 0,
             "ticks": ""
            },
            "type": "mesh3d"
           }
          ],
          "parcoords": [
           {
            "line": {
             "colorbar": {
              "outlinewidth": 0,
              "ticks": ""
             }
            },
            "type": "parcoords"
           }
          ],
          "pie": [
           {
            "automargin": true,
            "type": "pie"
           }
          ],
          "scatter": [
           {
            "fillpattern": {
             "fillmode": "overlay",
             "size": 10,
             "solidity": 0.2
            },
            "type": "scatter"
           }
          ],
          "scatter3d": [
           {
            "line": {
             "colorbar": {
              "outlinewidth": 0,
              "ticks": ""
             }
            },
            "marker": {
             "colorbar": {
              "outlinewidth": 0,
              "ticks": ""
             }
            },
            "type": "scatter3d"
           }
          ],
          "scattercarpet": [
           {
            "marker": {
             "colorbar": {
              "outlinewidth": 0,
              "ticks": ""
             }
            },
            "type": "scattercarpet"
           }
          ],
          "scattergeo": [
           {
            "marker": {
             "colorbar": {
              "outlinewidth": 0,
              "ticks": ""
             }
            },
            "type": "scattergeo"
           }
          ],
          "scattergl": [
           {
            "marker": {
             "colorbar": {
              "outlinewidth": 0,
              "ticks": ""
             }
            },
            "type": "scattergl"
           }
          ],
          "scattermapbox": [
           {
            "marker": {
             "colorbar": {
              "outlinewidth": 0,
              "ticks": ""
             }
            },
            "type": "scattermapbox"
           }
          ],
          "scatterpolar": [
           {
            "marker": {
             "colorbar": {
              "outlinewidth": 0,
              "ticks": ""
             }
            },
            "type": "scatterpolar"
           }
          ],
          "scatterpolargl": [
           {
            "marker": {
             "colorbar": {
              "outlinewidth": 0,
              "ticks": ""
             }
            },
            "type": "scatterpolargl"
           }
          ],
          "scatterternary": [
           {
            "marker": {
             "colorbar": {
              "outlinewidth": 0,
              "ticks": ""
             }
            },
            "type": "scatterternary"
           }
          ],
          "surface": [
           {
            "colorbar": {
             "outlinewidth": 0,
             "ticks": ""
            },
            "colorscale": [
             [
              0,
              "#0d0887"
             ],
             [
              0.1111111111111111,
              "#46039f"
             ],
             [
              0.2222222222222222,
              "#7201a8"
             ],
             [
              0.3333333333333333,
              "#9c179e"
             ],
             [
              0.4444444444444444,
              "#bd3786"
             ],
             [
              0.5555555555555556,
              "#d8576b"
             ],
             [
              0.6666666666666666,
              "#ed7953"
             ],
             [
              0.7777777777777778,
              "#fb9f3a"
             ],
             [
              0.8888888888888888,
              "#fdca26"
             ],
             [
              1,
              "#f0f921"
             ]
            ],
            "type": "surface"
           }
          ],
          "table": [
           {
            "cells": {
             "fill": {
              "color": "#EBF0F8"
             },
             "line": {
              "color": "white"
             }
            },
            "header": {
             "fill": {
              "color": "#C8D4E3"
             },
             "line": {
              "color": "white"
             }
            },
            "type": "table"
           }
          ]
         },
         "layout": {
          "annotationdefaults": {
           "arrowcolor": "#2a3f5f",
           "arrowhead": 0,
           "arrowwidth": 1
          },
          "autotypenumbers": "strict",
          "coloraxis": {
           "colorbar": {
            "outlinewidth": 0,
            "ticks": ""
           }
          },
          "colorscale": {
           "diverging": [
            [
             0,
             "#8e0152"
            ],
            [
             0.1,
             "#c51b7d"
            ],
            [
             0.2,
             "#de77ae"
            ],
            [
             0.3,
             "#f1b6da"
            ],
            [
             0.4,
             "#fde0ef"
            ],
            [
             0.5,
             "#f7f7f7"
            ],
            [
             0.6,
             "#e6f5d0"
            ],
            [
             0.7,
             "#b8e186"
            ],
            [
             0.8,
             "#7fbc41"
            ],
            [
             0.9,
             "#4d9221"
            ],
            [
             1,
             "#276419"
            ]
           ],
           "sequential": [
            [
             0,
             "#0d0887"
            ],
            [
             0.1111111111111111,
             "#46039f"
            ],
            [
             0.2222222222222222,
             "#7201a8"
            ],
            [
             0.3333333333333333,
             "#9c179e"
            ],
            [
             0.4444444444444444,
             "#bd3786"
            ],
            [
             0.5555555555555556,
             "#d8576b"
            ],
            [
             0.6666666666666666,
             "#ed7953"
            ],
            [
             0.7777777777777778,
             "#fb9f3a"
            ],
            [
             0.8888888888888888,
             "#fdca26"
            ],
            [
             1,
             "#f0f921"
            ]
           ],
           "sequentialminus": [
            [
             0,
             "#0d0887"
            ],
            [
             0.1111111111111111,
             "#46039f"
            ],
            [
             0.2222222222222222,
             "#7201a8"
            ],
            [
             0.3333333333333333,
             "#9c179e"
            ],
            [
             0.4444444444444444,
             "#bd3786"
            ],
            [
             0.5555555555555556,
             "#d8576b"
            ],
            [
             0.6666666666666666,
             "#ed7953"
            ],
            [
             0.7777777777777778,
             "#fb9f3a"
            ],
            [
             0.8888888888888888,
             "#fdca26"
            ],
            [
             1,
             "#f0f921"
            ]
           ]
          },
          "colorway": [
           "#636efa",
           "#EF553B",
           "#00cc96",
           "#ab63fa",
           "#FFA15A",
           "#19d3f3",
           "#FF6692",
           "#B6E880",
           "#FF97FF",
           "#FECB52"
          ],
          "font": {
           "color": "#2a3f5f"
          },
          "geo": {
           "bgcolor": "white",
           "lakecolor": "white",
           "landcolor": "#E5ECF6",
           "showlakes": true,
           "showland": true,
           "subunitcolor": "white"
          },
          "hoverlabel": {
           "align": "left"
          },
          "hovermode": "closest",
          "mapbox": {
           "style": "light"
          },
          "paper_bgcolor": "white",
          "plot_bgcolor": "#E5ECF6",
          "polar": {
           "angularaxis": {
            "gridcolor": "white",
            "linecolor": "white",
            "ticks": ""
           },
           "bgcolor": "#E5ECF6",
           "radialaxis": {
            "gridcolor": "white",
            "linecolor": "white",
            "ticks": ""
           }
          },
          "scene": {
           "xaxis": {
            "backgroundcolor": "#E5ECF6",
            "gridcolor": "white",
            "gridwidth": 2,
            "linecolor": "white",
            "showbackground": true,
            "ticks": "",
            "zerolinecolor": "white"
           },
           "yaxis": {
            "backgroundcolor": "#E5ECF6",
            "gridcolor": "white",
            "gridwidth": 2,
            "linecolor": "white",
            "showbackground": true,
            "ticks": "",
            "zerolinecolor": "white"
           },
           "zaxis": {
            "backgroundcolor": "#E5ECF6",
            "gridcolor": "white",
            "gridwidth": 2,
            "linecolor": "white",
            "showbackground": true,
            "ticks": "",
            "zerolinecolor": "white"
           }
          },
          "shapedefaults": {
           "line": {
            "color": "#2a3f5f"
           }
          },
          "ternary": {
           "aaxis": {
            "gridcolor": "white",
            "linecolor": "white",
            "ticks": ""
           },
           "baxis": {
            "gridcolor": "white",
            "linecolor": "white",
            "ticks": ""
           },
           "bgcolor": "#E5ECF6",
           "caxis": {
            "gridcolor": "white",
            "linecolor": "white",
            "ticks": ""
           }
          },
          "title": {
           "x": 0.05
          },
          "xaxis": {
           "automargin": true,
           "gridcolor": "white",
           "linecolor": "white",
           "ticks": "",
           "title": {
            "standoff": 15
           },
           "zerolinecolor": "white",
           "zerolinewidth": 2
          },
          "yaxis": {
           "automargin": true,
           "gridcolor": "white",
           "linecolor": "white",
           "ticks": "",
           "title": {
            "standoff": 15
           },
           "zerolinecolor": "white",
           "zerolinewidth": 2
          }
         }
        },
        "title": {
         "text": "AI Product: ChatGPT"
        },
        "xaxis": {
         "tickangle": 45,
         "title": {
          "text": "Time"
         }
        },
        "yaxis": {
         "color": "firebrick",
         "showgrid": false,
         "side": "left",
         "title": {
          "text": "Popularity Index"
         },
         "zeroline": false
        },
        "yaxis2": {
         "color": "royalblue",
         "overlaying": "y",
         "showgrid": false,
         "side": "right",
         "title": {
          "text": "Stock Price"
         },
         "zeroline": false
        }
       }
      },
      "text/html": [
       "<div>                            <div id=\"5e67da01-4b6c-4263-b1d2-335df4d35d58\" class=\"plotly-graph-div\" style=\"height:525px; width:100%;\"></div>            <script type=\"text/javascript\">                require([\"plotly\"], function(Plotly) {                    window.PLOTLYENV=window.PLOTLYENV || {};                                    if (document.getElementById(\"5e67da01-4b6c-4263-b1d2-335df4d35d58\")) {                    Plotly.newPlot(                        \"5e67da01-4b6c-4263-b1d2-335df4d35d58\",                        [{\"line\":{\"color\":\"firebrick\"},\"mode\":\"lines\",\"name\":\"Heat Index\",\"x\":[0,1,2,3,4,5,6,7,8,9,10,11,12,13,14,15,16,17,18,19,20,21,22,23,24,25,26,27,28,29,30,31,32,33,34,35,36,37,38,39,40,41,42,43,44,45,46,47,48,49,50,51,52,53,54,55,56,57,58,59,60,61,62,63,64,65,66,67,68,69,70,71,72,73,74,75,76,77,78,79,80,81,82,83,84,85,86,87,88,89,90,91,92,93,94,95,96,97,98,99,100,101,102,103,104,105,106,107,108,109,110,111,112,113,114,115,116,117,118,119,120,121,122,123,124,125,126,127,128,129,130,131,132,133,134,135,136,137,138,139,140,141,142,143,144,145,146,147,148,149,150,151,152,153,154,155,156,157,158,159,160,161,162,163,164,165,166,167,168,169,170,171,172,173,174,175,176,177,178,179,180,181,182,183,184,185,186,187,188,189,190,191,192,193,194,195,196,197,198,199,200,201,202,203,204,205,206,207,208,209,210,211,212,213,214,215,216,217,218,219,220,221,222,223,224,225,226,227,228,229,230,231,232,233,234,235,236,237,238,239,240,241,242,243,244,245,246,247,248,249,250,251,252,253,254,255,256,257,258,259,260,261,262,263,264,265,266,267],\"y\":[50,0,0,0,0,39,61,18,0,0,100,626,0,188,66,0,12,0,0,338,0,6,89,0,56,12,189,0,0,0,0,20,77,185,0,396,0,80,16,0,0,55,181,268,50,0,0,0,0,29,127,0,0,34,104,64,168,341,0,0,79,0,0,6,0,0,0,9,0,0,0,310,0,0,0,4,0,193,339,0,0,3,0,0,0,3,0,701,0,0,0,0,0,36,23,0,0,0,0,0,0,0,0,358,0,0,0,10,0,0,0,0,0,0,0,0,0,55,0,0,0,0,0,0,284,0,0,0,0,0,0,0,0,0,0,0,0,22,149,0,0,0,0,0,0,0,0,0,0,0,0,0,0,262,0,0,0,19,0,26,454,0,0,0,233,0,0,0,0,0,84,65,0,0,0,6,857,201,0,37,49,0,0,84,0,3,0,95,0,0,0,34,45,0,96,0,0,0,27,20,3,0,228,0,0,0,0,0,0,0,0,0,0,0,0,0,10,93,0,0,101,0,0,578,0,0,36,0,121,0,0,0,0,50,0,67,0,0,53,0,0,0,0,397,0,39,894,0,85,43,385,83,0,0,21,0,1036,26,0,0,51,0,47,0,0,22,555,0],\"type\":\"scatter\"},{\"line\":{\"color\":\"royalblue\"},\"mode\":\"lines\",\"name\":\"Close\",\"x\":[0,1,2,3,4,5,6,7,8,9,10,11,12,13,14,15,16,17,18,19,20,21,22,23,24,25,26,27,28,29,30,31,32,33,34,35,36,37,38,39,40,41,42,43,44,45,46,47,48,49,50,51,52,53,54,55,56,57,58,59,60,61,62,63,64,65,66,67,68,69,70,71,72,73,74,75,76,77,78,79,80,81,82,83,84,85,86,87,88,89,90,91,92,93,94,95,96,97,98,99,100,101,102,103,104,105,106,107,108,109,110,111,112,113,114,115,116,117,118,119,120,121,122,123,124,125,126,127,128,129,130,131,132,133,134,135,136,137,138,139,140,141,142,143,144,145,146,147,148,149,150,151,152,153,154,155,156,157,158,159,160,161,162,163,164,165,166,167,168,169,170,171,172,173,174,175,176,177,178,179,180,181,182,183,184,185,186,187,188,189,190,191,192,193,194,195,196,197,198,199,200,201,202,203,204,205,206,207,208,209,210,211,212,213,214,215,216,217,218,219,220,221,222,223,224,225,226,227,228,229,230,231,232,233,234,235,236,237,238,239,240,241,242,243,244,245,246,247,248,249,250,251,252,253,254,255,256,257,258,259,260,261,262,263,264,265,266,267],\"y\":[null,7.30274571879628,7.294166679283898,7.271098937532826,7.271133704299972,7.272592818112621,null,7.274881418419406,7.278670349330895,7.2742369791112536,7.288804736142512,7.283558112829046,7.286616282095136,7.288975507585844,7.280407897343751,7.2711684698584325,7.271244949832883,7.267462620552277,7.245697862684518,7.2415739981377865,7.252500344054741,7.258229035239164,null,7.25886979234022,7.248148390346587,7.249044466871737,7.241366283322318,7.256057267356927,7.263301586250048,7.2590176010759855,7.2702154561415115,7.264058153711705,7.2585389031252445,7.269317261869257,7.267595209064026,7.2819429755521226,7.297795364087488,7.302213364802003,7.31394678986258,7.300114883911821,7.293697720601438,7.302078546671457,7.325517796382182,null,7.326649807401961,7.346023113055852,7.335164510595452,7.338368180622953,7.3510683635998255,null,null,7.358072649160648,7.3653193568342825,7.3573329617086225,7.357626351510967,7.359658581196086,7.37467917070095,7.3947819407331075,7.397083480097293,7.40263443091844,7.397138652003773,7.393232325059686,7.382248813500724,7.366008896419982,7.36393884962701,7.3450678305294215,7.33748363922598,7.349063608061079,7.359155686357347,7.363545879975689,7.3742214086477,null,7.377308806947488,7.377877651177649,7.374465992527079,7.3546501968534415,7.360682685909647,7.3751429896945035,7.383610504197016,7.395027690794246,7.408997124706269,7.396770781784236,7.403152494590909,7.409578502466777,7.414108918314697,7.389946832809842,7.3897060065894955,null,7.3913474148664,7.3934538458004715,7.398296559445421,7.38670006667148,7.388976999489548,null,7.3973164074434035,7.392684465851952,7.3579515309204115,7.35257570656836,7.351556093355875,7.353267681607985,7.337314446599772,7.328332291565514,7.329067489182981,7.319288604825229,7.318711947499455,7.309239139096065,7.292282715875421,7.273703096628984,7.273377080165734,7.279580870046065,7.2807729500910385,7.294988525495498,7.277800441859041,7.282541224145686,7.292514151663234,7.307195607834132,7.313653626561861,7.318227828900841,7.3215985256008125,7.3226491297948035,7.316295653607229,7.316667771360211,7.302354904279959,7.29625732441184,null,7.301431166515325,7.2918877899869825,7.286404020930943,7.292010369885395,7.2861711665460644,7.285664178319256,7.27913950899177,7.2726483613252535,7.25245075476035,7.251302429275312,7.248916505089482,7.23478305677535,7.242118149597153,7.247963385685365,7.255379387400452,7.2480701233208,7.226725240467208,7.22766976086641,7.223827995916631,7.236864762652495,7.234992143392045,7.249620092347333,7.2492363788487,7.240398766718437,7.223295679562314,7.230469014293334,7.235734408198455,7.216004392373883,7.203747724429612,7.188352311710688,7.183460919423318,7.19121093269544,7.169734854081544,7.161265073460006,7.1600925173477625,null,7.156574374285481,7.1630871819492326,7.170473327014688,7.196559221901849,7.224309024452356,7.224644149981858,7.228758484699418,7.225059258480429,7.214997302227713,7.222390820994176,7.221024685592765,7.259545311143219,7.271015492359733,7.260445293626184,7.269254567036336,null,null,7.2811998238668165,7.276756935860941,7.276328160905894,7.277351384009391,7.28495807737233,null,7.280159860963811,7.283152855467907,7.297084230069716,7.296657306790831,7.312947016394604,7.310750673189374,7.302819821563379,7.306014486839972,7.3072157284910055,7.316156073742396,null,7.321697686370249,7.322728375900229,7.33969352742108,7.361070426941637,7.364458346613573,null,7.361089492294489,7.377677654926912,7.359932202512257,7.36974563756166,7.372212304220515,7.371791136448081,7.380710797113756,7.385770479712954,7.385888275201523,7.374829622055295,7.375036455714763,7.350387711431741,7.32287364411844,7.315777115871991,7.315364752960186,null,null,7.334251018250939,7.33434240504561,7.339245444914452,7.339303901846324,7.337327462433534,7.334675243475204,7.323922910223437,7.311231744383824,7.31924884602859,7.332388826403682,7.351061944517177,7.355794445849222,7.352774378033703,7.350400558214585,7.347299700743164,7.361788304342494,7.3518896661804805,7.334479469580376,7.338816656300665,7.342850384208433,null,7.3351449445060934,7.34173657480075,7.343445633875007,7.351357179680545,7.363146413860004,7.365078855070498,7.3406863860592315,7.353280491445941,7.373116900763068,7.3664767533907325,null,7.367601243382498,7.359868576328789,7.339329881608091,7.357211753840169,7.353069108133546,7.367569673839528,7.376458062494825,7.369751937825956,7.377102442801587,7.385516242160699,null,7.382105697237184,7.366603163655415,7.381178056273528,7.389075879060491,7.385646469469549,null,7.374127321993823],\"yaxis\":\"y2\",\"type\":\"scatter\"}],                        {\"template\":{\"data\":{\"histogram2dcontour\":[{\"type\":\"histogram2dcontour\",\"colorbar\":{\"outlinewidth\":0,\"ticks\":\"\"},\"colorscale\":[[0.0,\"#0d0887\"],[0.1111111111111111,\"#46039f\"],[0.2222222222222222,\"#7201a8\"],[0.3333333333333333,\"#9c179e\"],[0.4444444444444444,\"#bd3786\"],[0.5555555555555556,\"#d8576b\"],[0.6666666666666666,\"#ed7953\"],[0.7777777777777778,\"#fb9f3a\"],[0.8888888888888888,\"#fdca26\"],[1.0,\"#f0f921\"]]}],\"choropleth\":[{\"type\":\"choropleth\",\"colorbar\":{\"outlinewidth\":0,\"ticks\":\"\"}}],\"histogram2d\":[{\"type\":\"histogram2d\",\"colorbar\":{\"outlinewidth\":0,\"ticks\":\"\"},\"colorscale\":[[0.0,\"#0d0887\"],[0.1111111111111111,\"#46039f\"],[0.2222222222222222,\"#7201a8\"],[0.3333333333333333,\"#9c179e\"],[0.4444444444444444,\"#bd3786\"],[0.5555555555555556,\"#d8576b\"],[0.6666666666666666,\"#ed7953\"],[0.7777777777777778,\"#fb9f3a\"],[0.8888888888888888,\"#fdca26\"],[1.0,\"#f0f921\"]]}],\"heatmap\":[{\"type\":\"heatmap\",\"colorbar\":{\"outlinewidth\":0,\"ticks\":\"\"},\"colorscale\":[[0.0,\"#0d0887\"],[0.1111111111111111,\"#46039f\"],[0.2222222222222222,\"#7201a8\"],[0.3333333333333333,\"#9c179e\"],[0.4444444444444444,\"#bd3786\"],[0.5555555555555556,\"#d8576b\"],[0.6666666666666666,\"#ed7953\"],[0.7777777777777778,\"#fb9f3a\"],[0.8888888888888888,\"#fdca26\"],[1.0,\"#f0f921\"]]}],\"heatmapgl\":[{\"type\":\"heatmapgl\",\"colorbar\":{\"outlinewidth\":0,\"ticks\":\"\"},\"colorscale\":[[0.0,\"#0d0887\"],[0.1111111111111111,\"#46039f\"],[0.2222222222222222,\"#7201a8\"],[0.3333333333333333,\"#9c179e\"],[0.4444444444444444,\"#bd3786\"],[0.5555555555555556,\"#d8576b\"],[0.6666666666666666,\"#ed7953\"],[0.7777777777777778,\"#fb9f3a\"],[0.8888888888888888,\"#fdca26\"],[1.0,\"#f0f921\"]]}],\"contourcarpet\":[{\"type\":\"contourcarpet\",\"colorbar\":{\"outlinewidth\":0,\"ticks\":\"\"}}],\"contour\":[{\"type\":\"contour\",\"colorbar\":{\"outlinewidth\":0,\"ticks\":\"\"},\"colorscale\":[[0.0,\"#0d0887\"],[0.1111111111111111,\"#46039f\"],[0.2222222222222222,\"#7201a8\"],[0.3333333333333333,\"#9c179e\"],[0.4444444444444444,\"#bd3786\"],[0.5555555555555556,\"#d8576b\"],[0.6666666666666666,\"#ed7953\"],[0.7777777777777778,\"#fb9f3a\"],[0.8888888888888888,\"#fdca26\"],[1.0,\"#f0f921\"]]}],\"surface\":[{\"type\":\"surface\",\"colorbar\":{\"outlinewidth\":0,\"ticks\":\"\"},\"colorscale\":[[0.0,\"#0d0887\"],[0.1111111111111111,\"#46039f\"],[0.2222222222222222,\"#7201a8\"],[0.3333333333333333,\"#9c179e\"],[0.4444444444444444,\"#bd3786\"],[0.5555555555555556,\"#d8576b\"],[0.6666666666666666,\"#ed7953\"],[0.7777777777777778,\"#fb9f3a\"],[0.8888888888888888,\"#fdca26\"],[1.0,\"#f0f921\"]]}],\"mesh3d\":[{\"type\":\"mesh3d\",\"colorbar\":{\"outlinewidth\":0,\"ticks\":\"\"}}],\"scatter\":[{\"fillpattern\":{\"fillmode\":\"overlay\",\"size\":10,\"solidity\":0.2},\"type\":\"scatter\"}],\"parcoords\":[{\"type\":\"parcoords\",\"line\":{\"colorbar\":{\"outlinewidth\":0,\"ticks\":\"\"}}}],\"scatterpolargl\":[{\"type\":\"scatterpolargl\",\"marker\":{\"colorbar\":{\"outlinewidth\":0,\"ticks\":\"\"}}}],\"bar\":[{\"error_x\":{\"color\":\"#2a3f5f\"},\"error_y\":{\"color\":\"#2a3f5f\"},\"marker\":{\"line\":{\"color\":\"#E5ECF6\",\"width\":0.5},\"pattern\":{\"fillmode\":\"overlay\",\"size\":10,\"solidity\":0.2}},\"type\":\"bar\"}],\"scattergeo\":[{\"type\":\"scattergeo\",\"marker\":{\"colorbar\":{\"outlinewidth\":0,\"ticks\":\"\"}}}],\"scatterpolar\":[{\"type\":\"scatterpolar\",\"marker\":{\"colorbar\":{\"outlinewidth\":0,\"ticks\":\"\"}}}],\"histogram\":[{\"marker\":{\"pattern\":{\"fillmode\":\"overlay\",\"size\":10,\"solidity\":0.2}},\"type\":\"histogram\"}],\"scattergl\":[{\"type\":\"scattergl\",\"marker\":{\"colorbar\":{\"outlinewidth\":0,\"ticks\":\"\"}}}],\"scatter3d\":[{\"type\":\"scatter3d\",\"line\":{\"colorbar\":{\"outlinewidth\":0,\"ticks\":\"\"}},\"marker\":{\"colorbar\":{\"outlinewidth\":0,\"ticks\":\"\"}}}],\"scattermapbox\":[{\"type\":\"scattermapbox\",\"marker\":{\"colorbar\":{\"outlinewidth\":0,\"ticks\":\"\"}}}],\"scatterternary\":[{\"type\":\"scatterternary\",\"marker\":{\"colorbar\":{\"outlinewidth\":0,\"ticks\":\"\"}}}],\"scattercarpet\":[{\"type\":\"scattercarpet\",\"marker\":{\"colorbar\":{\"outlinewidth\":0,\"ticks\":\"\"}}}],\"carpet\":[{\"aaxis\":{\"endlinecolor\":\"#2a3f5f\",\"gridcolor\":\"white\",\"linecolor\":\"white\",\"minorgridcolor\":\"white\",\"startlinecolor\":\"#2a3f5f\"},\"baxis\":{\"endlinecolor\":\"#2a3f5f\",\"gridcolor\":\"white\",\"linecolor\":\"white\",\"minorgridcolor\":\"white\",\"startlinecolor\":\"#2a3f5f\"},\"type\":\"carpet\"}],\"table\":[{\"cells\":{\"fill\":{\"color\":\"#EBF0F8\"},\"line\":{\"color\":\"white\"}},\"header\":{\"fill\":{\"color\":\"#C8D4E3\"},\"line\":{\"color\":\"white\"}},\"type\":\"table\"}],\"barpolar\":[{\"marker\":{\"line\":{\"color\":\"#E5ECF6\",\"width\":0.5},\"pattern\":{\"fillmode\":\"overlay\",\"size\":10,\"solidity\":0.2}},\"type\":\"barpolar\"}],\"pie\":[{\"automargin\":true,\"type\":\"pie\"}]},\"layout\":{\"autotypenumbers\":\"strict\",\"colorway\":[\"#636efa\",\"#EF553B\",\"#00cc96\",\"#ab63fa\",\"#FFA15A\",\"#19d3f3\",\"#FF6692\",\"#B6E880\",\"#FF97FF\",\"#FECB52\"],\"font\":{\"color\":\"#2a3f5f\"},\"hovermode\":\"closest\",\"hoverlabel\":{\"align\":\"left\"},\"paper_bgcolor\":\"white\",\"plot_bgcolor\":\"#E5ECF6\",\"polar\":{\"bgcolor\":\"#E5ECF6\",\"angularaxis\":{\"gridcolor\":\"white\",\"linecolor\":\"white\",\"ticks\":\"\"},\"radialaxis\":{\"gridcolor\":\"white\",\"linecolor\":\"white\",\"ticks\":\"\"}},\"ternary\":{\"bgcolor\":\"#E5ECF6\",\"aaxis\":{\"gridcolor\":\"white\",\"linecolor\":\"white\",\"ticks\":\"\"},\"baxis\":{\"gridcolor\":\"white\",\"linecolor\":\"white\",\"ticks\":\"\"},\"caxis\":{\"gridcolor\":\"white\",\"linecolor\":\"white\",\"ticks\":\"\"}},\"coloraxis\":{\"colorbar\":{\"outlinewidth\":0,\"ticks\":\"\"}},\"colorscale\":{\"sequential\":[[0.0,\"#0d0887\"],[0.1111111111111111,\"#46039f\"],[0.2222222222222222,\"#7201a8\"],[0.3333333333333333,\"#9c179e\"],[0.4444444444444444,\"#bd3786\"],[0.5555555555555556,\"#d8576b\"],[0.6666666666666666,\"#ed7953\"],[0.7777777777777778,\"#fb9f3a\"],[0.8888888888888888,\"#fdca26\"],[1.0,\"#f0f921\"]],\"sequentialminus\":[[0.0,\"#0d0887\"],[0.1111111111111111,\"#46039f\"],[0.2222222222222222,\"#7201a8\"],[0.3333333333333333,\"#9c179e\"],[0.4444444444444444,\"#bd3786\"],[0.5555555555555556,\"#d8576b\"],[0.6666666666666666,\"#ed7953\"],[0.7777777777777778,\"#fb9f3a\"],[0.8888888888888888,\"#fdca26\"],[1.0,\"#f0f921\"]],\"diverging\":[[0,\"#8e0152\"],[0.1,\"#c51b7d\"],[0.2,\"#de77ae\"],[0.3,\"#f1b6da\"],[0.4,\"#fde0ef\"],[0.5,\"#f7f7f7\"],[0.6,\"#e6f5d0\"],[0.7,\"#b8e186\"],[0.8,\"#7fbc41\"],[0.9,\"#4d9221\"],[1,\"#276419\"]]},\"xaxis\":{\"gridcolor\":\"white\",\"linecolor\":\"white\",\"ticks\":\"\",\"title\":{\"standoff\":15},\"zerolinecolor\":\"white\",\"automargin\":true,\"zerolinewidth\":2},\"yaxis\":{\"gridcolor\":\"white\",\"linecolor\":\"white\",\"ticks\":\"\",\"title\":{\"standoff\":15},\"zerolinecolor\":\"white\",\"automargin\":true,\"zerolinewidth\":2},\"scene\":{\"xaxis\":{\"backgroundcolor\":\"#E5ECF6\",\"gridcolor\":\"white\",\"linecolor\":\"white\",\"showbackground\":true,\"ticks\":\"\",\"zerolinecolor\":\"white\",\"gridwidth\":2},\"yaxis\":{\"backgroundcolor\":\"#E5ECF6\",\"gridcolor\":\"white\",\"linecolor\":\"white\",\"showbackground\":true,\"ticks\":\"\",\"zerolinecolor\":\"white\",\"gridwidth\":2},\"zaxis\":{\"backgroundcolor\":\"#E5ECF6\",\"gridcolor\":\"white\",\"linecolor\":\"white\",\"showbackground\":true,\"ticks\":\"\",\"zerolinecolor\":\"white\",\"gridwidth\":2}},\"shapedefaults\":{\"line\":{\"color\":\"#2a3f5f\"}},\"annotationdefaults\":{\"arrowcolor\":\"#2a3f5f\",\"arrowhead\":0,\"arrowwidth\":1},\"geo\":{\"bgcolor\":\"white\",\"landcolor\":\"#E5ECF6\",\"subunitcolor\":\"white\",\"showland\":true,\"showlakes\":true,\"lakecolor\":\"white\"},\"title\":{\"x\":0.05},\"mapbox\":{\"style\":\"light\"}}},\"xaxis\":{\"title\":{\"text\":\"Time\"},\"tickangle\":45},\"yaxis\":{\"title\":{\"text\":\"Popularity Index\"},\"side\":\"left\",\"showgrid\":false,\"zeroline\":false,\"color\":\"firebrick\"},\"yaxis2\":{\"title\":{\"text\":\"Stock Price\"},\"side\":\"right\",\"overlaying\":\"y\",\"showgrid\":false,\"zeroline\":false,\"color\":\"royalblue\"},\"title\":{\"text\":\"AI Product: ChatGPT\"}},                        {\"responsive\": true}                    ).then(function(){\n",
       "                            \n",
       "var gd = document.getElementById('5e67da01-4b6c-4263-b1d2-335df4d35d58');\n",
       "var x = new MutationObserver(function (mutations, observer) {{\n",
       "        var display = window.getComputedStyle(gd).display;\n",
       "        if (!display || display === 'none') {{\n",
       "            console.log([gd, 'removed!']);\n",
       "            Plotly.purge(gd);\n",
       "            observer.disconnect();\n",
       "        }}\n",
       "}});\n",
       "\n",
       "// Listen for the removal of the full notebook cells\n",
       "var notebookContainer = gd.closest('#notebook-container');\n",
       "if (notebookContainer) {{\n",
       "    x.observe(notebookContainer, {childList: true});\n",
       "}}\n",
       "\n",
       "// Listen for the clearing of the current output cell\n",
       "var outputEl = gd.closest('.output');\n",
       "if (outputEl) {{\n",
       "    x.observe(outputEl, {childList: true});\n",
       "}}\n",
       "\n",
       "                        })                };                });            </script>        </div>"
      ]
     },
     "metadata": {},
     "output_type": "display_data"
    },
    {
     "data": {
      "application/vnd.plotly.v1+json": {
       "config": {
        "plotlyServerURL": "https://plot.ly"
       },
       "data": [
        {
         "line": {
          "color": "firebrick"
         },
         "mode": "lines",
         "name": "Heat Index",
         "type": "scatter",
         "x": [
          0,
          1,
          2,
          3,
          4,
          5,
          6,
          7,
          8,
          9,
          10,
          11,
          12,
          13,
          14,
          15,
          16,
          17,
          18,
          19,
          20,
          21,
          22,
          23,
          24,
          25,
          26,
          27,
          28,
          29,
          30,
          31,
          32,
          33,
          34,
          35,
          36,
          37,
          38,
          39,
          40,
          41,
          42,
          43,
          44,
          45,
          46,
          47,
          48,
          49,
          50,
          51,
          52,
          53,
          54,
          55,
          56,
          57,
          58,
          59,
          60,
          61,
          62,
          63,
          64,
          65,
          66,
          67,
          68,
          69,
          70,
          71,
          72,
          73,
          74,
          75,
          76,
          77,
          78,
          79,
          80,
          81,
          82,
          83,
          84,
          85,
          86,
          87,
          88,
          89,
          90,
          91,
          92,
          93,
          94,
          95,
          96,
          97,
          98,
          99,
          100,
          101,
          102,
          103,
          104,
          105,
          106,
          107,
          108,
          109,
          110,
          111,
          112,
          113,
          114,
          115,
          116,
          117,
          118,
          119,
          120,
          121,
          122,
          123,
          124,
          125,
          126,
          127,
          128,
          129,
          130,
          131,
          132,
          133,
          134,
          135,
          136,
          137,
          138,
          139,
          140,
          141,
          142,
          143,
          144,
          145,
          146,
          147,
          148,
          149,
          150,
          151,
          152,
          153,
          154,
          155,
          156,
          157,
          158,
          159,
          160,
          161,
          162,
          163,
          164,
          165,
          166,
          167,
          168,
          169,
          170,
          171,
          172,
          173,
          174,
          175,
          176,
          177,
          178,
          179,
          180,
          181,
          182,
          183,
          184,
          185,
          186,
          187,
          188,
          189,
          190,
          191,
          192,
          193,
          194,
          195,
          196,
          197,
          198,
          199,
          200,
          201,
          202,
          203,
          204,
          205,
          206,
          207,
          208,
          209,
          210,
          211,
          212,
          213,
          214,
          215,
          216,
          217,
          218,
          219,
          220,
          221,
          222,
          223,
          224,
          225,
          226,
          227,
          228,
          229,
          230,
          231,
          232,
          233,
          234,
          235,
          236,
          237,
          238,
          239,
          240,
          241,
          242,
          243,
          244,
          245,
          246,
          247,
          248,
          249,
          250,
          251,
          252,
          253,
          254,
          255,
          256,
          257,
          258,
          259,
          260,
          261,
          262
         ],
         "y": [
          0,
          0,
          0,
          0,
          261,
          0,
          0,
          0,
          0,
          0,
          0,
          0,
          0,
          0,
          0,
          0,
          0,
          0,
          0,
          0,
          0,
          0,
          0,
          0,
          0,
          0,
          0,
          0,
          0,
          0,
          0,
          0,
          95,
          145,
          0,
          225,
          0,
          328,
          2111,
          98,
          262,
          575,
          360,
          0,
          0,
          0,
          58,
          0,
          0,
          0,
          0,
          0,
          0,
          341,
          313,
          0,
          692,
          0,
          119,
          275,
          0,
          0,
          0,
          0,
          0,
          0,
          65,
          0,
          0,
          0,
          0,
          0,
          0,
          0,
          0,
          0,
          384,
          348,
          0,
          175,
          0,
          0,
          0,
          237,
          0,
          0,
          0,
          0,
          0,
          0,
          0,
          0,
          0,
          197,
          0,
          0,
          0,
          0,
          494,
          0,
          120,
          258,
          0,
          277,
          0,
          426,
          273,
          722,
          246,
          209,
          0,
          974,
          0,
          0,
          0,
          0,
          0,
          0,
          0,
          0,
          0,
          0,
          0,
          0,
          196,
          0,
          0,
          0,
          0,
          0,
          0,
          0,
          0,
          0,
          0,
          0,
          0,
          0,
          0,
          0,
          168,
          0,
          0,
          0,
          0,
          0,
          0,
          176,
          0,
          71,
          0,
          0,
          0,
          0,
          0,
          0,
          0,
          0,
          0,
          0,
          0,
          0,
          0,
          0,
          0,
          0,
          0,
          224,
          113,
          0,
          0,
          0,
          64,
          754,
          687,
          0,
          279,
          0,
          0,
          0,
          0,
          0,
          0,
          0,
          0,
          0,
          0,
          0,
          137,
          0,
          0,
          0,
          0,
          0,
          0,
          0,
          0,
          0,
          0,
          0,
          0,
          0,
          0,
          0,
          0,
          0,
          1426,
          0,
          214,
          0,
          85,
          0,
          21,
          88,
          55,
          128,
          336,
          0,
          0,
          0,
          0,
          151,
          0,
          0,
          0,
          0,
          72,
          678,
          1609,
          111,
          630,
          1936,
          1045,
          1275,
          685,
          990,
          1230,
          285,
          302,
          1071,
          1238,
          860,
          1308,
          2203,
          2090,
          43,
          548,
          41,
          715,
          273,
          440,
          107,
          351,
          1129,
          0,
          1002,
          196,
          650,
          3482,
          2934,
          576,
          1920,
          495
         ]
        },
        {
         "line": {
          "color": "royalblue"
         },
         "mode": "lines",
         "name": "Close",
         "type": "scatter",
         "x": [
          0,
          1,
          2,
          3,
          4,
          5,
          6,
          7,
          8,
          9,
          10,
          11,
          12,
          13,
          14,
          15,
          16,
          17,
          18,
          19,
          20,
          21,
          22,
          23,
          24,
          25,
          26,
          27,
          28,
          29,
          30,
          31,
          32,
          33,
          34,
          35,
          36,
          37,
          38,
          39,
          40,
          41,
          42,
          43,
          44,
          45,
          46,
          47,
          48,
          49,
          50,
          51,
          52,
          53,
          54,
          55,
          56,
          57,
          58,
          59,
          60,
          61,
          62,
          63,
          64,
          65,
          66,
          67,
          68,
          69,
          70,
          71,
          72,
          73,
          74,
          75,
          76,
          77,
          78,
          79,
          80,
          81,
          82,
          83,
          84,
          85,
          86,
          87,
          88,
          89,
          90,
          91,
          92,
          93,
          94,
          95,
          96,
          97,
          98,
          99,
          100,
          101,
          102,
          103,
          104,
          105,
          106,
          107,
          108,
          109,
          110,
          111,
          112,
          113,
          114,
          115,
          116,
          117,
          118,
          119,
          120,
          121,
          122,
          123,
          124,
          125,
          126,
          127,
          128,
          129,
          130,
          131,
          132,
          133,
          134,
          135,
          136,
          137,
          138,
          139,
          140,
          141,
          142,
          143,
          144,
          145,
          146,
          147,
          148,
          149,
          150,
          151,
          152,
          153,
          154,
          155,
          156,
          157,
          158,
          159,
          160,
          161,
          162,
          163,
          164,
          165,
          166,
          167,
          168,
          169,
          170,
          171,
          172,
          173,
          174,
          175,
          176,
          177,
          178,
          179,
          180,
          181,
          182,
          183,
          184,
          185,
          186,
          187,
          188,
          189,
          190,
          191,
          192,
          193,
          194,
          195,
          196,
          197,
          198,
          199,
          200,
          201,
          202,
          203,
          204,
          205,
          206,
          207,
          208,
          209,
          210,
          211,
          212,
          213,
          214,
          215,
          216,
          217,
          218,
          219,
          220,
          221,
          222,
          223,
          224,
          225,
          226,
          227,
          228,
          229,
          230,
          231,
          232,
          233,
          234,
          235,
          236,
          237,
          238,
          239,
          240,
          241,
          242,
          243,
          244,
          245,
          246,
          247,
          248,
          249,
          250,
          251,
          252,
          253,
          254,
          255,
          256,
          257,
          258,
          259,
          260,
          261,
          262
         ],
         "y": [
          5.633538799812206,
          5.615060540952808,
          5.594004802897756,
          5.599791372775026,
          null,
          5.619639739177298,
          5.604661717816338,
          5.579541174230335,
          5.57833264283309,
          5.589418538461871,
          5.598495989591376,
          5.622825507230111,
          5.63232226894489,
          5.60226644466912,
          5.60281968960497,
          5.599976354003978,
          5.5699081813431945,
          5.5967909926585175,
          5.606757528813923,
          5.6257848604638045,
          5.666772669776365,
          5.642261639277004,
          5.627693013983447,
          5.61902308730608,
          5.658785066884461,
          5.675074344823598,
          5.654977278873795,
          5.665907542999301,
          5.655222280541628,
          5.646859306085091,
          5.668258915133281,
          5.677198925788846,
          5.709698271771832,
          5.758207523477509,
          5.745052416832922,
          5.742233693106409,
          5.726456807988087,
          5.721556919128409,
          5.939644766782608,
          5.964761141164512,
          null,
          null,
          5.994235666507542,
          5.935793251665016,
          5.985697982387142,
          5.974496370907222,
          null,
          5.970521747111875,
          5.957235378840811,
          5.926259136982707,
          5.953503056401232,
          5.96023187562865,
          5.978429982567119,
          6.016693603591475,
          6.063715441137631,
          6.055682702090046,
          6.056596672496433,
          6.082401512425139,
          6.064831200981765,
          6.064366435091649,
          6.045218551962696,
          6.00714104372079,
          6.037297987331181,
          6.019006785898098,
          6.0118062472155565,
          6.04741943324893,
          null,
          6.050040023801049,
          6.047774020283088,
          6.042704087675822,
          6.052159752315704,
          6.044531239595171,
          6.049851344509159,
          6.084544945068187,
          6.1307263405164525,
          6.119615872465185,
          null,
          null,
          6.14119831171105,
          6.163188484477714,
          6.154369628664453,
          6.12073690917416,
          6.093772900654251,
          null,
          6.100587962918589,
          6.124223786386324,
          6.119241892848453,
          6.129050210060545,
          6.147399348728742,
          6.146950069208185,
          6.14218794694361,
          6.09286975534031,
          6.098411290541077,
          6.102111040337391,
          6.1184716059155395,
          6.101752934586199,
          6.05335897179517,
          6.049450408102427,
          6.012614276458546,
          6.08114527258977,
          6.0854101462955255,
          6.075024105713052,
          6.071753382951034,
          6.0707146099523595,
          6.152030348116473,
          6.123982911480106,
          6.155197747580269,
          6.156194790473062,
          6.131617702079947,
          null,
          6.149215892466072,
          6.189987475040535,
          6.1997787146243875,
          6.201624146550251,
          6.184334432486472,
          6.185138114896149,
          6.154029693662732,
          6.136451952072233,
          6.121878588024245,
          6.113195333465662,
          6.1063545397258645,
          6.1199677074592325,
          6.12207605163025,
          6.0844994130751715,
          null,
          6.08600171002991,
          6.075805723115262,
          6.045929093381592,
          6.016571739601886,
          6.030925630408507,
          6.045526507574946,
          6.038133379510019,
          6.0513359276623735,
          6.065852871923509,
          6.075323019329662,
          6.104391381594473,
          6.075736789215541,
          6.087706120303515,
          6.1022901133855525,
          6.126039134478106,
          null,
          6.115295945595611,
          6.1268255390569495,
          6.14859648855532,
          6.151561822266384,
          6.119439875541506,
          6.133289603277795,
          6.0853646536807044,
          6.044910501484572,
          6.04265661012181,
          6.025551902771033,
          6.063203644262958,
          6.079086165987149,
          6.034978935480864,
          5.999581540007826,
          6.003887067106539,
          6.02007626265496,
          6.010776828714165,
          6.047963021013245,
          6.075483948014489,
          6.10935866103939,
          6.125798764257638,
          6.130247723691617,
          6.143627517033882,
          6.1516682986483175,
          6.180741041323979,
          6.186620086563224,
          6.2077043180776865,
          6.192117070814119,
          6.204153616266109,
          6.200468627581748,
          6.222754815622869,
          6.213487474757974,
          6.188592619429763,
          null,
          6.169108535281837,
          null,
          6.17881513087085,
          6.170049947737798,
          6.176698512885324,
          6.147827090389313,
          6.147720140050452,
          6.120517188206512,
          6.143455762684061,
          6.1203633486456726,
          6.144099774216613,
          6.163441107636952,
          6.14476484188892,
          6.166614631505206,
          6.175617769128511,
          6.181051314893349,
          6.192157957312151,
          6.216146891872036,
          6.206656586778269,
          6.176095903010926,
          6.1942012763971315,
          6.190929946492558,
          6.200083138068986,
          6.20287961385032,
          6.205002110296261,
          6.205002110296261,
          6.177279978623723,
          6.164766385769394,
          6.173744459284811,
          6.196383028168302,
          6.258682453957862,
          6.2755150784894305,
          6.298029706561264,
          6.3066766133401115,
          6.304631557202113,
          null,
          6.334735064038338,
          6.328882816456231,
          6.347511806343882,
          6.388410088215387,
          null,
          null,
          6.391146260247741,
          6.39481071184044,
          6.419375835897611,
          6.423522871895878,
          6.413967021523424,
          6.437191531299353,
          6.442126052072247,
          6.422061228359805,
          6.446148330736078,
          6.494661107433785,
          6.541491663169458,
          6.52536681507582,
          6.552493607332065,
          6.5459385285841405,
          6.581096753783073,
          null,
          6.582689710260115,
          6.581027451617656,
          6.6052979209482015,
          6.588348617344503,
          6.587729069041567,
          null,
          null,
          null,
          6.543220988272804,
          6.514297747017457,
          6.666167683454676,
          6.669713781061864,
          null,
          null,
          6.673196803358673,
          6.6682409675233005,
          6.654964052914838,
          6.673449656641582,
          6.712700977344873,
          null,
          null,
          6.748020698994864,
          6.75651371440617,
          6.787844982309579,
          6.831619099713901,
          6.774543868300789,
          null,
          null,
          6.754301011603427,
          null
         ],
         "yaxis": "y2"
        }
       ],
       "layout": {
        "template": {
         "data": {
          "bar": [
           {
            "error_x": {
             "color": "#2a3f5f"
            },
            "error_y": {
             "color": "#2a3f5f"
            },
            "marker": {
             "line": {
              "color": "#E5ECF6",
              "width": 0.5
             },
             "pattern": {
              "fillmode": "overlay",
              "size": 10,
              "solidity": 0.2
             }
            },
            "type": "bar"
           }
          ],
          "barpolar": [
           {
            "marker": {
             "line": {
              "color": "#E5ECF6",
              "width": 0.5
             },
             "pattern": {
              "fillmode": "overlay",
              "size": 10,
              "solidity": 0.2
             }
            },
            "type": "barpolar"
           }
          ],
          "carpet": [
           {
            "aaxis": {
             "endlinecolor": "#2a3f5f",
             "gridcolor": "white",
             "linecolor": "white",
             "minorgridcolor": "white",
             "startlinecolor": "#2a3f5f"
            },
            "baxis": {
             "endlinecolor": "#2a3f5f",
             "gridcolor": "white",
             "linecolor": "white",
             "minorgridcolor": "white",
             "startlinecolor": "#2a3f5f"
            },
            "type": "carpet"
           }
          ],
          "choropleth": [
           {
            "colorbar": {
             "outlinewidth": 0,
             "ticks": ""
            },
            "type": "choropleth"
           }
          ],
          "contour": [
           {
            "colorbar": {
             "outlinewidth": 0,
             "ticks": ""
            },
            "colorscale": [
             [
              0,
              "#0d0887"
             ],
             [
              0.1111111111111111,
              "#46039f"
             ],
             [
              0.2222222222222222,
              "#7201a8"
             ],
             [
              0.3333333333333333,
              "#9c179e"
             ],
             [
              0.4444444444444444,
              "#bd3786"
             ],
             [
              0.5555555555555556,
              "#d8576b"
             ],
             [
              0.6666666666666666,
              "#ed7953"
             ],
             [
              0.7777777777777778,
              "#fb9f3a"
             ],
             [
              0.8888888888888888,
              "#fdca26"
             ],
             [
              1,
              "#f0f921"
             ]
            ],
            "type": "contour"
           }
          ],
          "contourcarpet": [
           {
            "colorbar": {
             "outlinewidth": 0,
             "ticks": ""
            },
            "type": "contourcarpet"
           }
          ],
          "heatmap": [
           {
            "colorbar": {
             "outlinewidth": 0,
             "ticks": ""
            },
            "colorscale": [
             [
              0,
              "#0d0887"
             ],
             [
              0.1111111111111111,
              "#46039f"
             ],
             [
              0.2222222222222222,
              "#7201a8"
             ],
             [
              0.3333333333333333,
              "#9c179e"
             ],
             [
              0.4444444444444444,
              "#bd3786"
             ],
             [
              0.5555555555555556,
              "#d8576b"
             ],
             [
              0.6666666666666666,
              "#ed7953"
             ],
             [
              0.7777777777777778,
              "#fb9f3a"
             ],
             [
              0.8888888888888888,
              "#fdca26"
             ],
             [
              1,
              "#f0f921"
             ]
            ],
            "type": "heatmap"
           }
          ],
          "heatmapgl": [
           {
            "colorbar": {
             "outlinewidth": 0,
             "ticks": ""
            },
            "colorscale": [
             [
              0,
              "#0d0887"
             ],
             [
              0.1111111111111111,
              "#46039f"
             ],
             [
              0.2222222222222222,
              "#7201a8"
             ],
             [
              0.3333333333333333,
              "#9c179e"
             ],
             [
              0.4444444444444444,
              "#bd3786"
             ],
             [
              0.5555555555555556,
              "#d8576b"
             ],
             [
              0.6666666666666666,
              "#ed7953"
             ],
             [
              0.7777777777777778,
              "#fb9f3a"
             ],
             [
              0.8888888888888888,
              "#fdca26"
             ],
             [
              1,
              "#f0f921"
             ]
            ],
            "type": "heatmapgl"
           }
          ],
          "histogram": [
           {
            "marker": {
             "pattern": {
              "fillmode": "overlay",
              "size": 10,
              "solidity": 0.2
             }
            },
            "type": "histogram"
           }
          ],
          "histogram2d": [
           {
            "colorbar": {
             "outlinewidth": 0,
             "ticks": ""
            },
            "colorscale": [
             [
              0,
              "#0d0887"
             ],
             [
              0.1111111111111111,
              "#46039f"
             ],
             [
              0.2222222222222222,
              "#7201a8"
             ],
             [
              0.3333333333333333,
              "#9c179e"
             ],
             [
              0.4444444444444444,
              "#bd3786"
             ],
             [
              0.5555555555555556,
              "#d8576b"
             ],
             [
              0.6666666666666666,
              "#ed7953"
             ],
             [
              0.7777777777777778,
              "#fb9f3a"
             ],
             [
              0.8888888888888888,
              "#fdca26"
             ],
             [
              1,
              "#f0f921"
             ]
            ],
            "type": "histogram2d"
           }
          ],
          "histogram2dcontour": [
           {
            "colorbar": {
             "outlinewidth": 0,
             "ticks": ""
            },
            "colorscale": [
             [
              0,
              "#0d0887"
             ],
             [
              0.1111111111111111,
              "#46039f"
             ],
             [
              0.2222222222222222,
              "#7201a8"
             ],
             [
              0.3333333333333333,
              "#9c179e"
             ],
             [
              0.4444444444444444,
              "#bd3786"
             ],
             [
              0.5555555555555556,
              "#d8576b"
             ],
             [
              0.6666666666666666,
              "#ed7953"
             ],
             [
              0.7777777777777778,
              "#fb9f3a"
             ],
             [
              0.8888888888888888,
              "#fdca26"
             ],
             [
              1,
              "#f0f921"
             ]
            ],
            "type": "histogram2dcontour"
           }
          ],
          "mesh3d": [
           {
            "colorbar": {
             "outlinewidth": 0,
             "ticks": ""
            },
            "type": "mesh3d"
           }
          ],
          "parcoords": [
           {
            "line": {
             "colorbar": {
              "outlinewidth": 0,
              "ticks": ""
             }
            },
            "type": "parcoords"
           }
          ],
          "pie": [
           {
            "automargin": true,
            "type": "pie"
           }
          ],
          "scatter": [
           {
            "fillpattern": {
             "fillmode": "overlay",
             "size": 10,
             "solidity": 0.2
            },
            "type": "scatter"
           }
          ],
          "scatter3d": [
           {
            "line": {
             "colorbar": {
              "outlinewidth": 0,
              "ticks": ""
             }
            },
            "marker": {
             "colorbar": {
              "outlinewidth": 0,
              "ticks": ""
             }
            },
            "type": "scatter3d"
           }
          ],
          "scattercarpet": [
           {
            "marker": {
             "colorbar": {
              "outlinewidth": 0,
              "ticks": ""
             }
            },
            "type": "scattercarpet"
           }
          ],
          "scattergeo": [
           {
            "marker": {
             "colorbar": {
              "outlinewidth": 0,
              "ticks": ""
             }
            },
            "type": "scattergeo"
           }
          ],
          "scattergl": [
           {
            "marker": {
             "colorbar": {
              "outlinewidth": 0,
              "ticks": ""
             }
            },
            "type": "scattergl"
           }
          ],
          "scattermapbox": [
           {
            "marker": {
             "colorbar": {
              "outlinewidth": 0,
              "ticks": ""
             }
            },
            "type": "scattermapbox"
           }
          ],
          "scatterpolar": [
           {
            "marker": {
             "colorbar": {
              "outlinewidth": 0,
              "ticks": ""
             }
            },
            "type": "scatterpolar"
           }
          ],
          "scatterpolargl": [
           {
            "marker": {
             "colorbar": {
              "outlinewidth": 0,
              "ticks": ""
             }
            },
            "type": "scatterpolargl"
           }
          ],
          "scatterternary": [
           {
            "marker": {
             "colorbar": {
              "outlinewidth": 0,
              "ticks": ""
             }
            },
            "type": "scatterternary"
           }
          ],
          "surface": [
           {
            "colorbar": {
             "outlinewidth": 0,
             "ticks": ""
            },
            "colorscale": [
             [
              0,
              "#0d0887"
             ],
             [
              0.1111111111111111,
              "#46039f"
             ],
             [
              0.2222222222222222,
              "#7201a8"
             ],
             [
              0.3333333333333333,
              "#9c179e"
             ],
             [
              0.4444444444444444,
              "#bd3786"
             ],
             [
              0.5555555555555556,
              "#d8576b"
             ],
             [
              0.6666666666666666,
              "#ed7953"
             ],
             [
              0.7777777777777778,
              "#fb9f3a"
             ],
             [
              0.8888888888888888,
              "#fdca26"
             ],
             [
              1,
              "#f0f921"
             ]
            ],
            "type": "surface"
           }
          ],
          "table": [
           {
            "cells": {
             "fill": {
              "color": "#EBF0F8"
             },
             "line": {
              "color": "white"
             }
            },
            "header": {
             "fill": {
              "color": "#C8D4E3"
             },
             "line": {
              "color": "white"
             }
            },
            "type": "table"
           }
          ]
         },
         "layout": {
          "annotationdefaults": {
           "arrowcolor": "#2a3f5f",
           "arrowhead": 0,
           "arrowwidth": 1
          },
          "autotypenumbers": "strict",
          "coloraxis": {
           "colorbar": {
            "outlinewidth": 0,
            "ticks": ""
           }
          },
          "colorscale": {
           "diverging": [
            [
             0,
             "#8e0152"
            ],
            [
             0.1,
             "#c51b7d"
            ],
            [
             0.2,
             "#de77ae"
            ],
            [
             0.3,
             "#f1b6da"
            ],
            [
             0.4,
             "#fde0ef"
            ],
            [
             0.5,
             "#f7f7f7"
            ],
            [
             0.6,
             "#e6f5d0"
            ],
            [
             0.7,
             "#b8e186"
            ],
            [
             0.8,
             "#7fbc41"
            ],
            [
             0.9,
             "#4d9221"
            ],
            [
             1,
             "#276419"
            ]
           ],
           "sequential": [
            [
             0,
             "#0d0887"
            ],
            [
             0.1111111111111111,
             "#46039f"
            ],
            [
             0.2222222222222222,
             "#7201a8"
            ],
            [
             0.3333333333333333,
             "#9c179e"
            ],
            [
             0.4444444444444444,
             "#bd3786"
            ],
            [
             0.5555555555555556,
             "#d8576b"
            ],
            [
             0.6666666666666666,
             "#ed7953"
            ],
            [
             0.7777777777777778,
             "#fb9f3a"
            ],
            [
             0.8888888888888888,
             "#fdca26"
            ],
            [
             1,
             "#f0f921"
            ]
           ],
           "sequentialminus": [
            [
             0,
             "#0d0887"
            ],
            [
             0.1111111111111111,
             "#46039f"
            ],
            [
             0.2222222222222222,
             "#7201a8"
            ],
            [
             0.3333333333333333,
             "#9c179e"
            ],
            [
             0.4444444444444444,
             "#bd3786"
            ],
            [
             0.5555555555555556,
             "#d8576b"
            ],
            [
             0.6666666666666666,
             "#ed7953"
            ],
            [
             0.7777777777777778,
             "#fb9f3a"
            ],
            [
             0.8888888888888888,
             "#fdca26"
            ],
            [
             1,
             "#f0f921"
            ]
           ]
          },
          "colorway": [
           "#636efa",
           "#EF553B",
           "#00cc96",
           "#ab63fa",
           "#FFA15A",
           "#19d3f3",
           "#FF6692",
           "#B6E880",
           "#FF97FF",
           "#FECB52"
          ],
          "font": {
           "color": "#2a3f5f"
          },
          "geo": {
           "bgcolor": "white",
           "lakecolor": "white",
           "landcolor": "#E5ECF6",
           "showlakes": true,
           "showland": true,
           "subunitcolor": "white"
          },
          "hoverlabel": {
           "align": "left"
          },
          "hovermode": "closest",
          "mapbox": {
           "style": "light"
          },
          "paper_bgcolor": "white",
          "plot_bgcolor": "#E5ECF6",
          "polar": {
           "angularaxis": {
            "gridcolor": "white",
            "linecolor": "white",
            "ticks": ""
           },
           "bgcolor": "#E5ECF6",
           "radialaxis": {
            "gridcolor": "white",
            "linecolor": "white",
            "ticks": ""
           }
          },
          "scene": {
           "xaxis": {
            "backgroundcolor": "#E5ECF6",
            "gridcolor": "white",
            "gridwidth": 2,
            "linecolor": "white",
            "showbackground": true,
            "ticks": "",
            "zerolinecolor": "white"
           },
           "yaxis": {
            "backgroundcolor": "#E5ECF6",
            "gridcolor": "white",
            "gridwidth": 2,
            "linecolor": "white",
            "showbackground": true,
            "ticks": "",
            "zerolinecolor": "white"
           },
           "zaxis": {
            "backgroundcolor": "#E5ECF6",
            "gridcolor": "white",
            "gridwidth": 2,
            "linecolor": "white",
            "showbackground": true,
            "ticks": "",
            "zerolinecolor": "white"
           }
          },
          "shapedefaults": {
           "line": {
            "color": "#2a3f5f"
           }
          },
          "ternary": {
           "aaxis": {
            "gridcolor": "white",
            "linecolor": "white",
            "ticks": ""
           },
           "baxis": {
            "gridcolor": "white",
            "linecolor": "white",
            "ticks": ""
           },
           "bgcolor": "#E5ECF6",
           "caxis": {
            "gridcolor": "white",
            "linecolor": "white",
            "ticks": ""
           }
          },
          "title": {
           "x": 0.05
          },
          "xaxis": {
           "automargin": true,
           "gridcolor": "white",
           "linecolor": "white",
           "ticks": "",
           "title": {
            "standoff": 15
           },
           "zerolinecolor": "white",
           "zerolinewidth": 2
          },
          "yaxis": {
           "automargin": true,
           "gridcolor": "white",
           "linecolor": "white",
           "ticks": "",
           "title": {
            "standoff": 15
           },
           "zerolinecolor": "white",
           "zerolinewidth": 2
          }
         }
        },
        "title": {
         "text": "AI Company: NVDA"
        },
        "xaxis": {
         "tickangle": 45,
         "title": {
          "text": "Time"
         }
        },
        "yaxis": {
         "color": "firebrick",
         "showgrid": false,
         "side": "left",
         "title": {
          "text": "Popularity Index"
         },
         "zeroline": false
        },
        "yaxis2": {
         "color": "royalblue",
         "overlaying": "y",
         "showgrid": false,
         "side": "right",
         "title": {
          "text": "Stock Price"
         },
         "zeroline": false
        }
       }
      },
      "text/html": [
       "<div>                            <div id=\"652d5a97-d132-49b0-a97b-7b8f7331a122\" class=\"plotly-graph-div\" style=\"height:525px; width:100%;\"></div>            <script type=\"text/javascript\">                require([\"plotly\"], function(Plotly) {                    window.PLOTLYENV=window.PLOTLYENV || {};                                    if (document.getElementById(\"652d5a97-d132-49b0-a97b-7b8f7331a122\")) {                    Plotly.newPlot(                        \"652d5a97-d132-49b0-a97b-7b8f7331a122\",                        [{\"line\":{\"color\":\"firebrick\"},\"mode\":\"lines\",\"name\":\"Heat Index\",\"x\":[0,1,2,3,4,5,6,7,8,9,10,11,12,13,14,15,16,17,18,19,20,21,22,23,24,25,26,27,28,29,30,31,32,33,34,35,36,37,38,39,40,41,42,43,44,45,46,47,48,49,50,51,52,53,54,55,56,57,58,59,60,61,62,63,64,65,66,67,68,69,70,71,72,73,74,75,76,77,78,79,80,81,82,83,84,85,86,87,88,89,90,91,92,93,94,95,96,97,98,99,100,101,102,103,104,105,106,107,108,109,110,111,112,113,114,115,116,117,118,119,120,121,122,123,124,125,126,127,128,129,130,131,132,133,134,135,136,137,138,139,140,141,142,143,144,145,146,147,148,149,150,151,152,153,154,155,156,157,158,159,160,161,162,163,164,165,166,167,168,169,170,171,172,173,174,175,176,177,178,179,180,181,182,183,184,185,186,187,188,189,190,191,192,193,194,195,196,197,198,199,200,201,202,203,204,205,206,207,208,209,210,211,212,213,214,215,216,217,218,219,220,221,222,223,224,225,226,227,228,229,230,231,232,233,234,235,236,237,238,239,240,241,242,243,244,245,246,247,248,249,250,251,252,253,254,255,256,257,258,259,260,261,262],\"y\":[0,0,0,0,261,0,0,0,0,0,0,0,0,0,0,0,0,0,0,0,0,0,0,0,0,0,0,0,0,0,0,0,95,145,0,225,0,328,2111,98,262,575,360,0,0,0,58,0,0,0,0,0,0,341,313,0,692,0,119,275,0,0,0,0,0,0,65,0,0,0,0,0,0,0,0,0,384,348,0,175,0,0,0,237,0,0,0,0,0,0,0,0,0,197,0,0,0,0,494,0,120,258,0,277,0,426,273,722,246,209,0,974,0,0,0,0,0,0,0,0,0,0,0,0,196,0,0,0,0,0,0,0,0,0,0,0,0,0,0,0,168,0,0,0,0,0,0,176,0,71,0,0,0,0,0,0,0,0,0,0,0,0,0,0,0,0,0,224,113,0,0,0,64,754,687,0,279,0,0,0,0,0,0,0,0,0,0,0,137,0,0,0,0,0,0,0,0,0,0,0,0,0,0,0,0,0,1426,0,214,0,85,0,21,88,55,128,336,0,0,0,0,151,0,0,0,0,72,678,1609,111,630,1936,1045,1275,685,990,1230,285,302,1071,1238,860,1308,2203,2090,43,548,41,715,273,440,107,351,1129,0,1002,196,650,3482,2934,576,1920,495],\"type\":\"scatter\"},{\"line\":{\"color\":\"royalblue\"},\"mode\":\"lines\",\"name\":\"Close\",\"x\":[0,1,2,3,4,5,6,7,8,9,10,11,12,13,14,15,16,17,18,19,20,21,22,23,24,25,26,27,28,29,30,31,32,33,34,35,36,37,38,39,40,41,42,43,44,45,46,47,48,49,50,51,52,53,54,55,56,57,58,59,60,61,62,63,64,65,66,67,68,69,70,71,72,73,74,75,76,77,78,79,80,81,82,83,84,85,86,87,88,89,90,91,92,93,94,95,96,97,98,99,100,101,102,103,104,105,106,107,108,109,110,111,112,113,114,115,116,117,118,119,120,121,122,123,124,125,126,127,128,129,130,131,132,133,134,135,136,137,138,139,140,141,142,143,144,145,146,147,148,149,150,151,152,153,154,155,156,157,158,159,160,161,162,163,164,165,166,167,168,169,170,171,172,173,174,175,176,177,178,179,180,181,182,183,184,185,186,187,188,189,190,191,192,193,194,195,196,197,198,199,200,201,202,203,204,205,206,207,208,209,210,211,212,213,214,215,216,217,218,219,220,221,222,223,224,225,226,227,228,229,230,231,232,233,234,235,236,237,238,239,240,241,242,243,244,245,246,247,248,249,250,251,252,253,254,255,256,257,258,259,260,261,262],\"y\":[5.633538799812206,5.615060540952808,5.594004802897756,5.599791372775026,null,5.619639739177298,5.604661717816338,5.579541174230335,5.57833264283309,5.589418538461871,5.598495989591376,5.622825507230111,5.63232226894489,5.60226644466912,5.60281968960497,5.599976354003978,5.5699081813431945,5.5967909926585175,5.606757528813923,5.6257848604638045,5.666772669776365,5.642261639277004,5.627693013983447,5.61902308730608,5.658785066884461,5.675074344823598,5.654977278873795,5.665907542999301,5.655222280541628,5.646859306085091,5.668258915133281,5.677198925788846,5.709698271771832,5.758207523477509,5.745052416832922,5.742233693106409,5.726456807988087,5.721556919128409,5.939644766782608,5.964761141164512,null,null,5.994235666507542,5.935793251665016,5.985697982387142,5.974496370907222,null,5.970521747111875,5.957235378840811,5.926259136982707,5.953503056401232,5.96023187562865,5.978429982567119,6.016693603591475,6.063715441137631,6.055682702090046,6.056596672496433,6.082401512425139,6.064831200981765,6.064366435091649,6.045218551962696,6.00714104372079,6.037297987331181,6.019006785898098,6.0118062472155565,6.04741943324893,null,6.050040023801049,6.047774020283088,6.042704087675822,6.052159752315704,6.044531239595171,6.049851344509159,6.084544945068187,6.1307263405164525,6.119615872465185,null,null,6.14119831171105,6.163188484477714,6.154369628664453,6.12073690917416,6.093772900654251,null,6.100587962918589,6.124223786386324,6.119241892848453,6.129050210060545,6.147399348728742,6.146950069208185,6.14218794694361,6.09286975534031,6.098411290541077,6.102111040337391,6.1184716059155395,6.101752934586199,6.05335897179517,6.049450408102427,6.012614276458546,6.08114527258977,6.0854101462955255,6.075024105713052,6.071753382951034,6.0707146099523595,6.152030348116473,6.123982911480106,6.155197747580269,6.156194790473062,6.131617702079947,null,6.149215892466072,6.189987475040535,6.1997787146243875,6.201624146550251,6.184334432486472,6.185138114896149,6.154029693662732,6.136451952072233,6.121878588024245,6.113195333465662,6.1063545397258645,6.1199677074592325,6.12207605163025,6.0844994130751715,null,6.08600171002991,6.075805723115262,6.045929093381592,6.016571739601886,6.030925630408507,6.045526507574946,6.038133379510019,6.0513359276623735,6.065852871923509,6.075323019329662,6.104391381594473,6.075736789215541,6.087706120303515,6.1022901133855525,6.126039134478106,null,6.115295945595611,6.1268255390569495,6.14859648855532,6.151561822266384,6.119439875541506,6.133289603277795,6.0853646536807044,6.044910501484572,6.04265661012181,6.025551902771033,6.063203644262958,6.079086165987149,6.034978935480864,5.999581540007826,6.003887067106539,6.02007626265496,6.010776828714165,6.047963021013245,6.075483948014489,6.10935866103939,6.125798764257638,6.130247723691617,6.143627517033882,6.1516682986483175,6.180741041323979,6.186620086563224,6.2077043180776865,6.192117070814119,6.204153616266109,6.200468627581748,6.222754815622869,6.213487474757974,6.188592619429763,null,6.169108535281837,null,6.17881513087085,6.170049947737798,6.176698512885324,6.147827090389313,6.147720140050452,6.120517188206512,6.143455762684061,6.1203633486456726,6.144099774216613,6.163441107636952,6.14476484188892,6.166614631505206,6.175617769128511,6.181051314893349,6.192157957312151,6.216146891872036,6.206656586778269,6.176095903010926,6.1942012763971315,6.190929946492558,6.200083138068986,6.20287961385032,6.205002110296261,6.205002110296261,6.177279978623723,6.164766385769394,6.173744459284811,6.196383028168302,6.258682453957862,6.2755150784894305,6.298029706561264,6.3066766133401115,6.304631557202113,null,6.334735064038338,6.328882816456231,6.347511806343882,6.388410088215387,null,null,6.391146260247741,6.39481071184044,6.419375835897611,6.423522871895878,6.413967021523424,6.437191531299353,6.442126052072247,6.422061228359805,6.446148330736078,6.494661107433785,6.541491663169458,6.52536681507582,6.552493607332065,6.5459385285841405,6.581096753783073,null,6.582689710260115,6.581027451617656,6.6052979209482015,6.588348617344503,6.587729069041567,null,null,null,6.543220988272804,6.514297747017457,6.666167683454676,6.669713781061864,null,null,6.673196803358673,6.6682409675233005,6.654964052914838,6.673449656641582,6.712700977344873,null,null,6.748020698994864,6.75651371440617,6.787844982309579,6.831619099713901,6.774543868300789,null,null,6.754301011603427,null],\"yaxis\":\"y2\",\"type\":\"scatter\"}],                        {\"template\":{\"data\":{\"histogram2dcontour\":[{\"type\":\"histogram2dcontour\",\"colorbar\":{\"outlinewidth\":0,\"ticks\":\"\"},\"colorscale\":[[0.0,\"#0d0887\"],[0.1111111111111111,\"#46039f\"],[0.2222222222222222,\"#7201a8\"],[0.3333333333333333,\"#9c179e\"],[0.4444444444444444,\"#bd3786\"],[0.5555555555555556,\"#d8576b\"],[0.6666666666666666,\"#ed7953\"],[0.7777777777777778,\"#fb9f3a\"],[0.8888888888888888,\"#fdca26\"],[1.0,\"#f0f921\"]]}],\"choropleth\":[{\"type\":\"choropleth\",\"colorbar\":{\"outlinewidth\":0,\"ticks\":\"\"}}],\"histogram2d\":[{\"type\":\"histogram2d\",\"colorbar\":{\"outlinewidth\":0,\"ticks\":\"\"},\"colorscale\":[[0.0,\"#0d0887\"],[0.1111111111111111,\"#46039f\"],[0.2222222222222222,\"#7201a8\"],[0.3333333333333333,\"#9c179e\"],[0.4444444444444444,\"#bd3786\"],[0.5555555555555556,\"#d8576b\"],[0.6666666666666666,\"#ed7953\"],[0.7777777777777778,\"#fb9f3a\"],[0.8888888888888888,\"#fdca26\"],[1.0,\"#f0f921\"]]}],\"heatmap\":[{\"type\":\"heatmap\",\"colorbar\":{\"outlinewidth\":0,\"ticks\":\"\"},\"colorscale\":[[0.0,\"#0d0887\"],[0.1111111111111111,\"#46039f\"],[0.2222222222222222,\"#7201a8\"],[0.3333333333333333,\"#9c179e\"],[0.4444444444444444,\"#bd3786\"],[0.5555555555555556,\"#d8576b\"],[0.6666666666666666,\"#ed7953\"],[0.7777777777777778,\"#fb9f3a\"],[0.8888888888888888,\"#fdca26\"],[1.0,\"#f0f921\"]]}],\"heatmapgl\":[{\"type\":\"heatmapgl\",\"colorbar\":{\"outlinewidth\":0,\"ticks\":\"\"},\"colorscale\":[[0.0,\"#0d0887\"],[0.1111111111111111,\"#46039f\"],[0.2222222222222222,\"#7201a8\"],[0.3333333333333333,\"#9c179e\"],[0.4444444444444444,\"#bd3786\"],[0.5555555555555556,\"#d8576b\"],[0.6666666666666666,\"#ed7953\"],[0.7777777777777778,\"#fb9f3a\"],[0.8888888888888888,\"#fdca26\"],[1.0,\"#f0f921\"]]}],\"contourcarpet\":[{\"type\":\"contourcarpet\",\"colorbar\":{\"outlinewidth\":0,\"ticks\":\"\"}}],\"contour\":[{\"type\":\"contour\",\"colorbar\":{\"outlinewidth\":0,\"ticks\":\"\"},\"colorscale\":[[0.0,\"#0d0887\"],[0.1111111111111111,\"#46039f\"],[0.2222222222222222,\"#7201a8\"],[0.3333333333333333,\"#9c179e\"],[0.4444444444444444,\"#bd3786\"],[0.5555555555555556,\"#d8576b\"],[0.6666666666666666,\"#ed7953\"],[0.7777777777777778,\"#fb9f3a\"],[0.8888888888888888,\"#fdca26\"],[1.0,\"#f0f921\"]]}],\"surface\":[{\"type\":\"surface\",\"colorbar\":{\"outlinewidth\":0,\"ticks\":\"\"},\"colorscale\":[[0.0,\"#0d0887\"],[0.1111111111111111,\"#46039f\"],[0.2222222222222222,\"#7201a8\"],[0.3333333333333333,\"#9c179e\"],[0.4444444444444444,\"#bd3786\"],[0.5555555555555556,\"#d8576b\"],[0.6666666666666666,\"#ed7953\"],[0.7777777777777778,\"#fb9f3a\"],[0.8888888888888888,\"#fdca26\"],[1.0,\"#f0f921\"]]}],\"mesh3d\":[{\"type\":\"mesh3d\",\"colorbar\":{\"outlinewidth\":0,\"ticks\":\"\"}}],\"scatter\":[{\"fillpattern\":{\"fillmode\":\"overlay\",\"size\":10,\"solidity\":0.2},\"type\":\"scatter\"}],\"parcoords\":[{\"type\":\"parcoords\",\"line\":{\"colorbar\":{\"outlinewidth\":0,\"ticks\":\"\"}}}],\"scatterpolargl\":[{\"type\":\"scatterpolargl\",\"marker\":{\"colorbar\":{\"outlinewidth\":0,\"ticks\":\"\"}}}],\"bar\":[{\"error_x\":{\"color\":\"#2a3f5f\"},\"error_y\":{\"color\":\"#2a3f5f\"},\"marker\":{\"line\":{\"color\":\"#E5ECF6\",\"width\":0.5},\"pattern\":{\"fillmode\":\"overlay\",\"size\":10,\"solidity\":0.2}},\"type\":\"bar\"}],\"scattergeo\":[{\"type\":\"scattergeo\",\"marker\":{\"colorbar\":{\"outlinewidth\":0,\"ticks\":\"\"}}}],\"scatterpolar\":[{\"type\":\"scatterpolar\",\"marker\":{\"colorbar\":{\"outlinewidth\":0,\"ticks\":\"\"}}}],\"histogram\":[{\"marker\":{\"pattern\":{\"fillmode\":\"overlay\",\"size\":10,\"solidity\":0.2}},\"type\":\"histogram\"}],\"scattergl\":[{\"type\":\"scattergl\",\"marker\":{\"colorbar\":{\"outlinewidth\":0,\"ticks\":\"\"}}}],\"scatter3d\":[{\"type\":\"scatter3d\",\"line\":{\"colorbar\":{\"outlinewidth\":0,\"ticks\":\"\"}},\"marker\":{\"colorbar\":{\"outlinewidth\":0,\"ticks\":\"\"}}}],\"scattermapbox\":[{\"type\":\"scattermapbox\",\"marker\":{\"colorbar\":{\"outlinewidth\":0,\"ticks\":\"\"}}}],\"scatterternary\":[{\"type\":\"scatterternary\",\"marker\":{\"colorbar\":{\"outlinewidth\":0,\"ticks\":\"\"}}}],\"scattercarpet\":[{\"type\":\"scattercarpet\",\"marker\":{\"colorbar\":{\"outlinewidth\":0,\"ticks\":\"\"}}}],\"carpet\":[{\"aaxis\":{\"endlinecolor\":\"#2a3f5f\",\"gridcolor\":\"white\",\"linecolor\":\"white\",\"minorgridcolor\":\"white\",\"startlinecolor\":\"#2a3f5f\"},\"baxis\":{\"endlinecolor\":\"#2a3f5f\",\"gridcolor\":\"white\",\"linecolor\":\"white\",\"minorgridcolor\":\"white\",\"startlinecolor\":\"#2a3f5f\"},\"type\":\"carpet\"}],\"table\":[{\"cells\":{\"fill\":{\"color\":\"#EBF0F8\"},\"line\":{\"color\":\"white\"}},\"header\":{\"fill\":{\"color\":\"#C8D4E3\"},\"line\":{\"color\":\"white\"}},\"type\":\"table\"}],\"barpolar\":[{\"marker\":{\"line\":{\"color\":\"#E5ECF6\",\"width\":0.5},\"pattern\":{\"fillmode\":\"overlay\",\"size\":10,\"solidity\":0.2}},\"type\":\"barpolar\"}],\"pie\":[{\"automargin\":true,\"type\":\"pie\"}]},\"layout\":{\"autotypenumbers\":\"strict\",\"colorway\":[\"#636efa\",\"#EF553B\",\"#00cc96\",\"#ab63fa\",\"#FFA15A\",\"#19d3f3\",\"#FF6692\",\"#B6E880\",\"#FF97FF\",\"#FECB52\"],\"font\":{\"color\":\"#2a3f5f\"},\"hovermode\":\"closest\",\"hoverlabel\":{\"align\":\"left\"},\"paper_bgcolor\":\"white\",\"plot_bgcolor\":\"#E5ECF6\",\"polar\":{\"bgcolor\":\"#E5ECF6\",\"angularaxis\":{\"gridcolor\":\"white\",\"linecolor\":\"white\",\"ticks\":\"\"},\"radialaxis\":{\"gridcolor\":\"white\",\"linecolor\":\"white\",\"ticks\":\"\"}},\"ternary\":{\"bgcolor\":\"#E5ECF6\",\"aaxis\":{\"gridcolor\":\"white\",\"linecolor\":\"white\",\"ticks\":\"\"},\"baxis\":{\"gridcolor\":\"white\",\"linecolor\":\"white\",\"ticks\":\"\"},\"caxis\":{\"gridcolor\":\"white\",\"linecolor\":\"white\",\"ticks\":\"\"}},\"coloraxis\":{\"colorbar\":{\"outlinewidth\":0,\"ticks\":\"\"}},\"colorscale\":{\"sequential\":[[0.0,\"#0d0887\"],[0.1111111111111111,\"#46039f\"],[0.2222222222222222,\"#7201a8\"],[0.3333333333333333,\"#9c179e\"],[0.4444444444444444,\"#bd3786\"],[0.5555555555555556,\"#d8576b\"],[0.6666666666666666,\"#ed7953\"],[0.7777777777777778,\"#fb9f3a\"],[0.8888888888888888,\"#fdca26\"],[1.0,\"#f0f921\"]],\"sequentialminus\":[[0.0,\"#0d0887\"],[0.1111111111111111,\"#46039f\"],[0.2222222222222222,\"#7201a8\"],[0.3333333333333333,\"#9c179e\"],[0.4444444444444444,\"#bd3786\"],[0.5555555555555556,\"#d8576b\"],[0.6666666666666666,\"#ed7953\"],[0.7777777777777778,\"#fb9f3a\"],[0.8888888888888888,\"#fdca26\"],[1.0,\"#f0f921\"]],\"diverging\":[[0,\"#8e0152\"],[0.1,\"#c51b7d\"],[0.2,\"#de77ae\"],[0.3,\"#f1b6da\"],[0.4,\"#fde0ef\"],[0.5,\"#f7f7f7\"],[0.6,\"#e6f5d0\"],[0.7,\"#b8e186\"],[0.8,\"#7fbc41\"],[0.9,\"#4d9221\"],[1,\"#276419\"]]},\"xaxis\":{\"gridcolor\":\"white\",\"linecolor\":\"white\",\"ticks\":\"\",\"title\":{\"standoff\":15},\"zerolinecolor\":\"white\",\"automargin\":true,\"zerolinewidth\":2},\"yaxis\":{\"gridcolor\":\"white\",\"linecolor\":\"white\",\"ticks\":\"\",\"title\":{\"standoff\":15},\"zerolinecolor\":\"white\",\"automargin\":true,\"zerolinewidth\":2},\"scene\":{\"xaxis\":{\"backgroundcolor\":\"#E5ECF6\",\"gridcolor\":\"white\",\"linecolor\":\"white\",\"showbackground\":true,\"ticks\":\"\",\"zerolinecolor\":\"white\",\"gridwidth\":2},\"yaxis\":{\"backgroundcolor\":\"#E5ECF6\",\"gridcolor\":\"white\",\"linecolor\":\"white\",\"showbackground\":true,\"ticks\":\"\",\"zerolinecolor\":\"white\",\"gridwidth\":2},\"zaxis\":{\"backgroundcolor\":\"#E5ECF6\",\"gridcolor\":\"white\",\"linecolor\":\"white\",\"showbackground\":true,\"ticks\":\"\",\"zerolinecolor\":\"white\",\"gridwidth\":2}},\"shapedefaults\":{\"line\":{\"color\":\"#2a3f5f\"}},\"annotationdefaults\":{\"arrowcolor\":\"#2a3f5f\",\"arrowhead\":0,\"arrowwidth\":1},\"geo\":{\"bgcolor\":\"white\",\"landcolor\":\"#E5ECF6\",\"subunitcolor\":\"white\",\"showland\":true,\"showlakes\":true,\"lakecolor\":\"white\"},\"title\":{\"x\":0.05},\"mapbox\":{\"style\":\"light\"}}},\"xaxis\":{\"title\":{\"text\":\"Time\"},\"tickangle\":45},\"yaxis\":{\"title\":{\"text\":\"Popularity Index\"},\"side\":\"left\",\"showgrid\":false,\"zeroline\":false,\"color\":\"firebrick\"},\"yaxis2\":{\"title\":{\"text\":\"Stock Price\"},\"side\":\"right\",\"overlaying\":\"y\",\"showgrid\":false,\"zeroline\":false,\"color\":\"royalblue\"},\"title\":{\"text\":\"AI Company: NVDA\"}},                        {\"responsive\": true}                    ).then(function(){\n",
       "                            \n",
       "var gd = document.getElementById('652d5a97-d132-49b0-a97b-7b8f7331a122');\n",
       "var x = new MutationObserver(function (mutations, observer) {{\n",
       "        var display = window.getComputedStyle(gd).display;\n",
       "        if (!display || display === 'none') {{\n",
       "            console.log([gd, 'removed!']);\n",
       "            Plotly.purge(gd);\n",
       "            observer.disconnect();\n",
       "        }}\n",
       "}});\n",
       "\n",
       "// Listen for the removal of the full notebook cells\n",
       "var notebookContainer = gd.closest('#notebook-container');\n",
       "if (notebookContainer) {{\n",
       "    x.observe(notebookContainer, {childList: true});\n",
       "}}\n",
       "\n",
       "// Listen for the clearing of the current output cell\n",
       "var outputEl = gd.closest('.output');\n",
       "if (outputEl) {{\n",
       "    x.observe(outputEl, {childList: true});\n",
       "}}\n",
       "\n",
       "                        })                };                });            </script>        </div>"
      ]
     },
     "metadata": {},
     "output_type": "display_data"
    }
   ],
   "source": [
    "# pip show dash-bootstrap-components\n",
    "@app.callback(\n",
    "    Output('word-cloud', 'figure'),\n",
    "    Input('WallStreetBets-topic', 'value')\n",
    ")\n",
    "def update_word_cloud(selected_topic):\n",
    "    # Generate word cloud\n",
    "    if selected_topic ==\"AI\":\n",
    "        wordcloud = WordCloud(background_color = 'white',width=800, height=400).generate(text_data_ai)\n",
    "    elif selected_topic ==\"NVDA\":\n",
    "        wordcloud = WordCloud(background_color = 'white',width=800, height=400).generate(text_data_nvda)\n",
    "    else: \n",
    "        wordcloud = WordCloud(background_color = 'white',width=800, height=400).generate(text_data_ai)\n",
    "    fig = px.imshow(wordcloud, title='Word Cloud')\n",
    "    fig.update_layout(\n",
    "        margin=dict(l=10, r=10, t=10, b=10),\n",
    "        paper_bgcolor='white',  # Change paper background color to white\n",
    "        plot_bgcolor='white',   # Change plot background color to white\n",
    "        font=dict(family='Arial', size=12, color='White')\n",
    "    )\n",
    "    fig.update_xaxes(showticklabels=False)\n",
    "    fig.update_yaxes(showticklabels=False)\n",
    "    return fig\n",
    "\n",
    "# Callback to update topic-specific timeseries plot\n",
    "@app.callback(\n",
    "    Output('product-polularity-index-timeseries-plot', 'figure'),\n",
    "    Input('product-dropdown', 'value')\n",
    ")\n",
    "def update_topic_timeseries_plot(selected_product):\n",
    "    # 创建图表\n",
    "    grouped = pd.read_parquet('output/HeatOutput/Wallstreetbets_topic/HeatData_bets_{}.parquet'.format(selected_product[0]))\n",
    "    fig = go.Figure()\n",
    "\n",
    "    # 添加 heat index 曲线\n",
    "    fig.add_trace(go.Scatter(x=grouped.index, y=grouped['heat_index'], mode='lines', name='Heat Index', line=dict(color='firebrick')))\n",
    "\n",
    "    # 添加 Close 曲线\n",
    "    fig.add_trace(go.Scatter(x=grouped.index, y=grouped['Close'], mode='lines', name='Close', yaxis='y2', line=dict(color='royalblue')))\n",
    "\n",
    "    # 设置布局\n",
    "    fig.update_layout(title='AI Product: {}'.format(selected_product[0]),\n",
    "                      xaxis=dict(title='Time', tickangle=45),\n",
    "                      yaxis=dict(title='Popularity Index', side='left', showgrid=False, zeroline=False, color='firebrick'),\n",
    "                      yaxis2=dict(title='Stock Price', side='right', overlaying='y', showgrid=False, zeroline=False, color='royalblue'))\n",
    "\n",
    "    # 显示图表\n",
    "    fig.show()\n",
    "    return fig\n",
    "\n",
    "# Callback to update topic-specific timeseries plot\n",
    "@app.callback(\n",
    "    Output('company-polularity-index-timeseries-plot', 'figure'),\n",
    "    Input('company-dropdown', 'value')\n",
    ")\n",
    "def update_topic_timeseries_plot_company(selected_company):\n",
    "    # 创建图表\n",
    "    if selected_company ==\"OpenAI\":\n",
    "        grouped = pd.read_parquet('output/HeatOutput/Subreddit/HeatData_bets_OpenAi.parquet')\n",
    "    else:\n",
    "        grouped = pd.read_parquet('output/HeatOutput/Wallstreetbets_topic/HeatData_bets_{}.parquet'.format(selected_company[0]))\n",
    "    fig = go.Figure()\n",
    "\n",
    "    # 添加 heat index 曲线\n",
    "    fig.add_trace(go.Scatter(x=grouped.index, y=grouped['heat_index'], mode='lines', name='Heat Index', line=dict(color='firebrick')))\n",
    "\n",
    "    # 添加 Close 曲线\n",
    "    fig.add_trace(go.Scatter(x=grouped.index, y=grouped['Close'], mode='lines', name='Close', yaxis='y2', line=dict(color='royalblue')))\n",
    "\n",
    "    # 设置布局\n",
    "    fig.update_layout(title='AI Company: {}'.format(selected_company[0]),\n",
    "                      xaxis=dict(title='Time', tickangle=45),\n",
    "                      yaxis=dict(title='Popularity Index', side='left', showgrid=False, zeroline=False, color='firebrick'),\n",
    "                      yaxis2=dict(title='Stock Price', side='right', overlaying='y', showgrid=False, zeroline=False, color='royalblue'))\n",
    "\n",
    "    # 显示图表\n",
    "    fig.show()\n",
    "    return fig\n",
    "\n",
    "if __name__ == '__main__':\n",
    "    app.run_server(debug=True,port=8080)"
   ]
  },
  {
   "cell_type": "code",
   "execution_count": null,
   "id": "b543b4e8",
   "metadata": {},
   "outputs": [],
   "source": []
  }
 ],
 "metadata": {
  "kernelspec": {
   "display_name": "Python 3 (ipykernel)",
   "language": "python",
   "name": "python3"
  },
  "language_info": {
   "codemirror_mode": {
    "name": "ipython",
    "version": 3
   },
   "file_extension": ".py",
   "mimetype": "text/x-python",
   "name": "python",
   "nbconvert_exporter": "python",
   "pygments_lexer": "ipython3",
   "version": "3.11.5"
  }
 },
 "nbformat": 4,
 "nbformat_minor": 5
}
