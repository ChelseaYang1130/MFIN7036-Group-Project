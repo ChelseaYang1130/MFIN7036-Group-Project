{
 "cells": [
  {
   "cell_type": "code",
   "execution_count": 63,
   "id": "07dd9921",
   "metadata": {},
   "outputs": [
    {
     "name": "stdout",
     "output_type": "stream",
     "text": [
      "[nltk_data] Downloading package movie_reviews to\n",
      "[nltk_data]     C:\\Users\\Administrator\\AppData\\Roaming\\nltk_data...\n",
      "[nltk_data]   Package movie_reviews is already up-to-date!\n",
      "[nltk_data] Downloading package vader_lexicon to\n",
      "[nltk_data]     C:\\Users\\Administrator\\AppData\\Roaming\\nltk_data...\n",
      "[nltk_data]   Package vader_lexicon is already up-to-date!\n"
     ]
    },
    {
     "data": {
      "text/html": [
       "<div>\n",
       "<style scoped>\n",
       "    .dataframe tbody tr th:only-of-type {\n",
       "        vertical-align: middle;\n",
       "    }\n",
       "\n",
       "    .dataframe tbody tr th {\n",
       "        vertical-align: top;\n",
       "    }\n",
       "\n",
       "    .dataframe thead th {\n",
       "        text-align: right;\n",
       "    }\n",
       "</style>\n",
       "<table border=\"1\" class=\"dataframe\">\n",
       "  <thead>\n",
       "    <tr style=\"text-align: right;\">\n",
       "      <th></th>\n",
       "      <th>Post Title</th>\n",
       "      <th>Post Time</th>\n",
       "      <th>Comment Body</th>\n",
       "      <th>Score</th>\n",
       "    </tr>\n",
       "  </thead>\n",
       "  <tbody>\n",
       "    <tr>\n",
       "      <th>0</th>\n",
       "      <td>Ai bubble</td>\n",
       "      <td>2024-02-27</td>\n",
       "      <td>\\n**User Report**| | | |\\n:--|:--|:--|:--\\n**T...</td>\n",
       "      <td>1</td>\n",
       "    </tr>\n",
       "    <tr>\n",
       "      <th>1</th>\n",
       "      <td>Ai bubble</td>\n",
       "      <td>2024-02-27</td>\n",
       "      <td>I believe this will be the first 24 trillion m...</td>\n",
       "      <td>2298</td>\n",
       "    </tr>\n",
       "    <tr>\n",
       "      <th>2</th>\n",
       "      <td>Ai bubble</td>\n",
       "      <td>2024-02-27</td>\n",
       "      <td>I'm sure there's a bubble in there, especially...</td>\n",
       "      <td>949</td>\n",
       "    </tr>\n",
       "    <tr>\n",
       "      <th>3</th>\n",
       "      <td>Ai bubble</td>\n",
       "      <td>2024-02-27</td>\n",
       "      <td>Phew thank god I saw Cathies, almost had me wo...</td>\n",
       "      <td>295</td>\n",
       "    </tr>\n",
       "    <tr>\n",
       "      <th>4</th>\n",
       "      <td>Ai bubble</td>\n",
       "      <td>2024-02-27</td>\n",
       "      <td>Number one rule of Wall Street: Nobody - I don...</td>\n",
       "      <td>283</td>\n",
       "    </tr>\n",
       "    <tr>\n",
       "      <th>...</th>\n",
       "      <td>...</td>\n",
       "      <td>...</td>\n",
       "      <td>...</td>\n",
       "      <td>...</td>\n",
       "    </tr>\n",
       "    <tr>\n",
       "      <th>4492</th>\n",
       "      <td>Ai is not overrated</td>\n",
       "      <td>2023-07-29</td>\n",
       "      <td>It is nearly 8 months into 2023 and you just g...</td>\n",
       "      <td>1</td>\n",
       "    </tr>\n",
       "    <tr>\n",
       "      <th>4493</th>\n",
       "      <td>Ai is not overrated</td>\n",
       "      <td>2023-07-29</td>\n",
       "      <td>Ok, chatGPT,</td>\n",
       "      <td>1</td>\n",
       "    </tr>\n",
       "    <tr>\n",
       "      <th>4494</th>\n",
       "      <td>Ai is not overrated</td>\n",
       "      <td>2023-07-29</td>\n",
       "      <td>FVRR is seen as an AI loser at this point.  Co...</td>\n",
       "      <td>1</td>\n",
       "    </tr>\n",
       "    <tr>\n",
       "      <th>4495</th>\n",
       "      <td>Ai is not overrated</td>\n",
       "      <td>2023-07-29</td>\n",
       "      <td>AI is overrated and overfunded. AI will be ear...</td>\n",
       "      <td>1</td>\n",
       "    </tr>\n",
       "    <tr>\n",
       "      <th>4496</th>\n",
       "      <td>Ai is not overrated</td>\n",
       "      <td>2023-07-29</td>\n",
       "      <td>Let me guess, your project is used by less tha...</td>\n",
       "      <td>1</td>\n",
       "    </tr>\n",
       "  </tbody>\n",
       "</table>\n",
       "<p>4497 rows × 4 columns</p>\n",
       "</div>"
      ],
      "text/plain": [
       "               Post Title   Post Time  \\\n",
       "0              Ai bubble   2024-02-27   \n",
       "1              Ai bubble   2024-02-27   \n",
       "2              Ai bubble   2024-02-27   \n",
       "3              Ai bubble   2024-02-27   \n",
       "4              Ai bubble   2024-02-27   \n",
       "...                   ...         ...   \n",
       "4492  Ai is not overrated  2023-07-29   \n",
       "4493  Ai is not overrated  2023-07-29   \n",
       "4494  Ai is not overrated  2023-07-29   \n",
       "4495  Ai is not overrated  2023-07-29   \n",
       "4496  Ai is not overrated  2023-07-29   \n",
       "\n",
       "                                           Comment Body  Score  \n",
       "0     \\n**User Report**| | | |\\n:--|:--|:--|:--\\n**T...      1  \n",
       "1     I believe this will be the first 24 trillion m...   2298  \n",
       "2     I'm sure there's a bubble in there, especially...    949  \n",
       "3     Phew thank god I saw Cathies, almost had me wo...    295  \n",
       "4     Number one rule of Wall Street: Nobody - I don...    283  \n",
       "...                                                 ...    ...  \n",
       "4492  It is nearly 8 months into 2023 and you just g...      1  \n",
       "4493                                       Ok, chatGPT,      1  \n",
       "4494  FVRR is seen as an AI loser at this point.  Co...      1  \n",
       "4495  AI is overrated and overfunded. AI will be ear...      1  \n",
       "4496  Let me guess, your project is used by less tha...      1  \n",
       "\n",
       "[4497 rows x 4 columns]"
      ]
     },
     "execution_count": 63,
     "metadata": {},
     "output_type": "execute_result"
    }
   ],
   "source": [
    "import pandas as pd\n",
    "from textblob import TextBlob\n",
    "import nltk\n",
    "import matplotlib.pyplot as plt\n",
    "from afinn import Afinn\n",
    "nltk.download('movie_reviews')\n",
    "nltk.download('vader_lexicon')\n",
    "# 读取Parquet文件\n",
    "df = pd.read_parquet('sample_data.parquet')\n",
    "df"
   ]
  },
  {
   "cell_type": "code",
   "execution_count": 13,
   "id": "140406ac",
   "metadata": {},
   "outputs": [
    {
     "name": "stdout",
     "output_type": "stream",
     "text": [
      "0.3192857142857143\n",
      "0.6727777777777778\n"
     ]
    }
   ],
   "source": [
    "#TextBlog\n",
    "from textblob import TextBlob\n",
    "s = TextBlob('I\\'m sure there\\'s a bubble in there, especially right now with NVDA. But much like with the dot.com long term there will be a couple kings that will come out of it and significantly shape the direction of our technological advancement.').sentiment\n",
    "'''\n",
    "It ranges from minus one (very negative) to one (very positive). It can also calculate the subjectivity score, which\n",
    "captures how subjective the string is. This score ranges from zero (very objective) to one (very subjective)\n",
    "'''\n",
    "print(s.polarity) # How positive the text is.\n",
    "print(s.subjectivity) # How subjective the text is."
   ]
  },
  {
   "cell_type": "code",
   "execution_count": 18,
   "id": "456701c9",
   "metadata": {},
   "outputs": [
    {
     "data": {
      "text/plain": [
       "Sentiment(classification='pos', p_pos=0.5441400304414004, p_neg=0.45585996955859964)"
      ]
     },
     "execution_count": 18,
     "metadata": {},
     "output_type": "execute_result"
    }
   ],
   "source": [
    "from textblob.sentiments import NaiveBayesAnalyzer\n",
    "#Use machine learning (a Naive Bayes analyzer from NLTK) that is trained on a dataset of movie reviews.\n",
    "b = \\\n",
    "TextBlob(\n",
    "'I love NLP.',\n",
    "analyzer=NaiveBayesAnalyzer())\n",
    "b.sentiment"
   ]
  },
  {
   "cell_type": "code",
   "execution_count": 22,
   "id": "7f37af18",
   "metadata": {},
   "outputs": [
    {
     "data": {
      "text/plain": [
       "{'neg': 0.0, 'neu': 0.192, 'pos': 0.808, 'compound': 0.6369}"
      ]
     },
     "execution_count": 22,
     "metadata": {},
     "output_type": "execute_result"
    }
   ],
   "source": [
    "from nltk.sentiment.vader import SentimentIntensityAnalyzer\n",
    "#It's very good at analyzing sentiment on social media.\n",
    "#Compound ranges from -1~1, from negative to positive.\n",
    "sid = SentimentIntensityAnalyzer()\n",
    "sid.polarity_scores('I love NLP.')"
   ]
  },
  {
   "cell_type": "code",
   "execution_count": 64,
   "id": "0371da57",
   "metadata": {},
   "outputs": [
    {
     "data": {
      "text/plain": [
       "3.0"
      ]
     },
     "execution_count": 64,
     "metadata": {},
     "output_type": "execute_result"
    }
   ],
   "source": [
    "a = Afinn() # Instantiate the 'Afinn'class.\n",
    "#Score ranges from -5~5(negative to positive)\n",
    "a.score('I love NLP.')"
   ]
  },
  {
   "cell_type": "code",
   "execution_count": 69,
   "id": "0517b8f7",
   "metadata": {},
   "outputs": [],
   "source": [
    "result1=[]\n",
    "result2=[]\n",
    "result3=[]\n",
    "result4=[]\n",
    "model=NaiveBayesAnalyzer()\n",
    "for comment in df['Comment Body']:\n",
    "    result1.append((comment,TextBlob(comment).sentiment.polarity))\n",
    "    s=sid.polarity_scores(comment)\n",
    "    result3.append((comment,s['pos'],s['neg'],s['neu'],s['compound']))\n",
    "    b=TextBlob(comment,analyzer=model).sentiment\n",
    "    result2.append((comment,b.p_pos,b.p_neg,b.classification))\n",
    "    result4.append((comment,a.score(comment)))\n",
    "result1=pd.DataFrame(result1,columns=['Comment Body','pos'])\n",
    "result2=pd.DataFrame(result2,columns=['Comment Body','p_pos','p_neg','classification'])\n",
    "result3=pd.DataFrame(result3,columns=['Comment Body','pos','neg','neu','compound'])\n",
    "result4=pd.DataFrame(result4,columns=['Comment Body','pos'])"
   ]
  },
  {
   "cell_type": "code",
   "execution_count": 71,
   "id": "f63e3cae",
   "metadata": {
    "scrolled": false
   },
   "outputs": [
    {
     "data": {
      "image/png": "[encoded data removed]",
      "text/plain": [
       "<Figure size 1400x1000 with 4 Axes>"
      ]
     },
     "metadata": {},
     "output_type": "display_data"
    }
   ],
   "source": [
    "result1_pos = result1['pos']\n",
    "result2_pos=result2['p_pos']\n",
    "result3_compound = result3['compound']\n",
    "result4_pos=result4['pos']\n",
    "fig, ax = plt.subplots(4, 1, figsize=(14, 10))\n",
    "\n",
    "# plot results using TextBlob\n",
    "result1_pos.hist(ax=ax[0], color='blue')\n",
    "ax[0].set_title('TextBlob')\n",
    "ax[0].set_ylabel('Freq')\n",
    "ax[0].set_xlabel('Score')\n",
    "\n",
    "\n",
    "# plot results using SentimentIntensityAnalyzer\n",
    "result2_pos.hist(ax=ax[1], color='red')\n",
    "ax[1].set_title('NaiveBayesAnalyzer')\n",
    "ax[1].set_ylabel('Possibility of being positive')\n",
    "ax[1].set_xlabel('Score')\n",
    "\n",
    "\n",
    "# plot results using SentimentIntensityAnalyzer\n",
    "result3_compound.hist(ax=ax[2], color='green')\n",
    "ax[1].set_title('SentimentIntensityAnalyzer')\n",
    "ax[1].set_ylabel('Freq')\n",
    "ax[1].set_xlabel('Score')\n",
    "\n",
    "# plot results using SentimentIntensityAnalyzer\n",
    "result4_pos.hist(ax=ax[3], color='grey')\n",
    "ax[1].set_title('afinn')\n",
    "ax[1].set_ylabel('Freq')\n",
    "ax[1].set_xlabel('Score')\n",
    "\n",
    "plt.tight_layout()\n",
    "plt.show()"
   ]
  },
  {
   "cell_type": "code",
   "execution_count": null,
   "id": "6e504521",
   "metadata": {},
   "outputs": [],
   "source": []
  }
 ],
 "metadata": {
  "kernelspec": {
   "display_name": "Python 3 (ipykernel)",
   "language": "python",
   "name": "python3"
  },
  "language_info": {
   "codemirror_mode": {
    "name": "ipython",
    "version": 3
   },
   "file_extension": ".py",
   "mimetype": "text/x-python",
   "name": "python",
   "nbconvert_exporter": "python",
   "pygments_lexer": "ipython3",
   "version": "3.7.0"
  }
 },
 "nbformat": 4,
 "nbformat_minor": 5
}
